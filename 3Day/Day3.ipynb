{
 "cells": [
  {
   "cell_type": "markdown",
   "id": "86c3bfee",
   "metadata": {},
   "source": [
    "#### list is ordered collection of items, denoated with [], "
   ]
  },
  {
   "cell_type": "code",
   "execution_count": null,
   "id": "8f3eb7b6",
   "metadata": {},
   "outputs": [],
   "source": [
    "li = [1,2,3]\n",
    "li = ['a','b']\n",
    "li = ['a',1,True]"
   ]
  },
  {
   "cell_type": "code",
   "execution_count": null,
   "id": "a8763d2f",
   "metadata": {},
   "outputs": [],
   "source": [
    "print(li)"
   ]
  },
  {
   "cell_type": "code",
   "execution_count": null,
   "id": "cb70dd93",
   "metadata": {},
   "outputs": [],
   "source": [
    "amazon_cart = ['TV','Mobile','Cooler',2,True]"
   ]
  },
  {
   "cell_type": "markdown",
   "id": "33d642d0",
   "metadata": {},
   "source": [
    "## List Index"
   ]
  },
  {
   "cell_type": "code",
   "execution_count": null,
   "id": "57c30638",
   "metadata": {},
   "outputs": [],
   "source": [
    "# the way we can access strings similiar way we can access list"
   ]
  },
  {
   "cell_type": "code",
   "execution_count": null,
   "id": "a4ef5f83",
   "metadata": {},
   "outputs": [],
   "source": [
    "print(amazon_cart[0])"
   ]
  },
  {
   "cell_type": "code",
   "execution_count": null,
   "id": "752689ce",
   "metadata": {},
   "outputs": [],
   "source": [
    "print(amazon_cart[2])"
   ]
  },
  {
   "cell_type": "code",
   "execution_count": null,
   "id": "f4a032d8",
   "metadata": {},
   "outputs": [],
   "source": [
    "a = 10"
   ]
  },
  {
   "cell_type": "code",
   "execution_count": null,
   "id": "d9c03fbd",
   "metadata": {},
   "outputs": [],
   "source": [
    "print(a)"
   ]
  },
  {
   "cell_type": "code",
   "execution_count": null,
   "id": "8936b772",
   "metadata": {},
   "outputs": [],
   "source": [
    "amazon_cart[4]"
   ]
  },
  {
   "cell_type": "code",
   "execution_count": null,
   "id": "ac326f6c",
   "metadata": {},
   "outputs": [],
   "source": [
    "## list slicing"
   ]
  },
  {
   "cell_type": "code",
   "execution_count": null,
   "id": "68c154c8",
   "metadata": {},
   "outputs": [],
   "source": [
    "print(amazon_cart[1:2])"
   ]
  },
  {
   "cell_type": "code",
   "execution_count": null,
   "id": "3bf4b429",
   "metadata": {},
   "outputs": [],
   "source": [
    "amazon_cart = ['TV','Mobile','Cooler',2,True]"
   ]
  },
  {
   "cell_type": "code",
   "execution_count": null,
   "id": "73c22aa8",
   "metadata": {},
   "outputs": [],
   "source": [
    "print(amazon_cart[2:3])"
   ]
  },
  {
   "cell_type": "code",
   "execution_count": null,
   "id": "b0b64593",
   "metadata": {},
   "outputs": [],
   "source": [
    "print(amazon_cart[0::2])"
   ]
  },
  {
   "cell_type": "code",
   "execution_count": null,
   "id": "13c078be",
   "metadata": {},
   "outputs": [],
   "source": [
    "print(amazon_cart[0::3])"
   ]
  },
  {
   "cell_type": "code",
   "execution_count": null,
   "id": "245b74d5",
   "metadata": {},
   "outputs": [],
   "source": [
    "### Strings are immutable but list is not, so list's are mutable"
   ]
  },
  {
   "cell_type": "code",
   "execution_count": null,
   "id": "0dfd7cf8",
   "metadata": {},
   "outputs": [],
   "source": [
    "print(amazon_cart[0:3])"
   ]
  },
  {
   "cell_type": "code",
   "execution_count": null,
   "id": "a6981ada",
   "metadata": {},
   "outputs": [],
   "source": [
    "amazon_cart[1] = 'Laptop'"
   ]
  },
  {
   "cell_type": "code",
   "execution_count": null,
   "id": "b6d4feac",
   "metadata": {},
   "outputs": [],
   "source": [
    "print(amazon_cart[0:3])"
   ]
  },
  {
   "cell_type": "code",
   "execution_count": null,
   "id": "bb3734e7",
   "metadata": {},
   "outputs": [],
   "source": [
    "li = ['a','b','c','d','e']"
   ]
  },
  {
   "cell_type": "code",
   "execution_count": null,
   "id": "e43a87bd",
   "metadata": {},
   "outputs": [],
   "source": [
    "print(li[:4])"
   ]
  },
  {
   "cell_type": "code",
   "execution_count": null,
   "id": "3209e50d",
   "metadata": {},
   "outputs": [],
   "source": [
    "print(li[::2])"
   ]
  },
  {
   "cell_type": "code",
   "execution_count": null,
   "id": "180abca7",
   "metadata": {},
   "outputs": [],
   "source": [
    "print(li[5])"
   ]
  },
  {
   "cell_type": "code",
   "execution_count": null,
   "id": "e9a13eff",
   "metadata": {},
   "outputs": [],
   "source": [
    "li = ['bhabani','mukesh','jiban','tinu']"
   ]
  },
  {
   "cell_type": "code",
   "execution_count": null,
   "id": "373328d8",
   "metadata": {},
   "outputs": [],
   "source": [
    "li[5]"
   ]
  },
  {
   "cell_type": "markdown",
   "id": "2e511fe8",
   "metadata": {},
   "source": [
    "## List methods"
   ]
  },
  {
   "cell_type": "markdown",
   "id": "8eb322d4",
   "metadata": {},
   "source": [
    "https://www.w3schools.com/python/python_ref_list.asp"
   ]
  },
  {
   "cell_type": "code",
   "execution_count": null,
   "id": "829b81d7",
   "metadata": {},
   "outputs": [],
   "source": [
    "li = ['a','b',5,6]"
   ]
  },
  {
   "cell_type": "code",
   "execution_count": null,
   "id": "013d6a1a",
   "metadata": {},
   "outputs": [],
   "source": [
    "li.append(100)"
   ]
  },
  {
   "cell_type": "code",
   "execution_count": null,
   "id": "d2760b0f",
   "metadata": {},
   "outputs": [],
   "source": [
    "print(li)"
   ]
  },
  {
   "cell_type": "code",
   "execution_count": null,
   "id": "060210cc",
   "metadata": {},
   "outputs": [],
   "source": [
    "fruits = ['apple', 'banana', 'cherry']\n",
    "fruits.insert(1, \"orange\")"
   ]
  },
  {
   "cell_type": "code",
   "execution_count": null,
   "id": "6c160791",
   "metadata": {},
   "outputs": [],
   "source": [
    "print(fruits)"
   ]
  },
  {
   "cell_type": "code",
   "execution_count": null,
   "id": "25bb869f",
   "metadata": {},
   "outputs": [],
   "source": [
    "fruits = ['apple', 'banana', 'cherry']\n",
    "fruits.pop(2)"
   ]
  },
  {
   "cell_type": "code",
   "execution_count": null,
   "id": "9fecfacf",
   "metadata": {},
   "outputs": [],
   "source": [
    "print(fruits)"
   ]
  },
  {
   "cell_type": "code",
   "execution_count": null,
   "id": "5f51ddbe",
   "metadata": {},
   "outputs": [],
   "source": [
    "fruits = ['apple', 'banana', 'cherry']\n",
    "fruits.remove('apple')"
   ]
  },
  {
   "cell_type": "code",
   "execution_count": null,
   "id": "9fc123ec",
   "metadata": {},
   "outputs": [],
   "source": [
    "print(fruits)"
   ]
  },
  {
   "cell_type": "code",
   "execution_count": null,
   "id": "a18f92e6",
   "metadata": {},
   "outputs": [],
   "source": [
    "fruits = ['apple', 'banana', 'cherry']\n",
    "fruits.clear()"
   ]
  },
  {
   "cell_type": "code",
   "execution_count": null,
   "id": "2d60e4c2",
   "metadata": {},
   "outputs": [],
   "source": [
    "print(fruits)"
   ]
  },
  {
   "cell_type": "code",
   "execution_count": null,
   "id": "f49e9625",
   "metadata": {},
   "outputs": [],
   "source": [
    "li = ['a', 'b', 'c','d','e','f']\n",
    "print(len(li))"
   ]
  },
  {
   "cell_type": "code",
   "execution_count": 5,
   "id": "658f9da9",
   "metadata": {},
   "outputs": [
    {
     "data": {
      "text/plain": [
       "2"
      ]
     },
     "execution_count": 5,
     "metadata": {},
     "output_type": "execute_result"
    }
   ],
   "source": [
    "li = ['a', 'b', 'c','d','e','f']\n",
    "li.index('c')"
   ]
  },
  {
   "cell_type": "code",
   "execution_count": 7,
   "id": "7852c9e1",
   "metadata": {},
   "outputs": [
    {
     "data": {
      "text/plain": [
       "4"
      ]
     },
     "execution_count": 7,
     "metadata": {},
     "output_type": "execute_result"
    }
   ],
   "source": [
    "li = ['a', 'b', 'c','d','c','f']\n",
    "li.index('c',3)"
   ]
  },
  {
   "cell_type": "markdown",
   "id": "ee02469b",
   "metadata": {},
   "source": [
    "(\"A\",start,stop)"
   ]
  },
  {
   "cell_type": "markdown",
   "id": "762cb280",
   "metadata": {},
   "source": [
    "start, stop are optional "
   ]
  },
  {
   "cell_type": "code",
   "execution_count": null,
   "id": "092caf68",
   "metadata": {},
   "outputs": [],
   "source": [
    "li.index('b',2,4) "
   ]
  },
  {
   "cell_type": "code",
   "execution_count": null,
   "id": "34b76424",
   "metadata": {},
   "outputs": [],
   "source": [
    "li.index('c',3,4)"
   ]
  },
  {
   "cell_type": "code",
   "execution_count": 8,
   "id": "790fbba9",
   "metadata": {},
   "outputs": [],
   "source": [
    "li =['a','b','c','c']"
   ]
  },
  {
   "cell_type": "code",
   "execution_count": 9,
   "id": "e5b099c6",
   "metadata": {},
   "outputs": [
    {
     "data": {
      "text/plain": [
       "2"
      ]
     },
     "execution_count": 9,
     "metadata": {},
     "output_type": "execute_result"
    }
   ],
   "source": [
    "li.count('c')"
   ]
  },
  {
   "cell_type": "code",
   "execution_count": null,
   "id": "0b1777c5",
   "metadata": {},
   "outputs": [],
   "source": [
    "li = ['d', 'b', 'd','c','e','a']"
   ]
  },
  {
   "cell_type": "code",
   "execution_count": null,
   "id": "6c6e1aa2",
   "metadata": {},
   "outputs": [],
   "source": [
    "li.sort()"
   ]
  },
  {
   "cell_type": "code",
   "execution_count": null,
   "id": "ee4f38a8",
   "metadata": {},
   "outputs": [],
   "source": [
    "print(li)"
   ]
  },
  {
   "cell_type": "code",
   "execution_count": 1,
   "id": "133e5cbc",
   "metadata": {},
   "outputs": [],
   "source": [
    "num1 = [1,2,3]"
   ]
  },
  {
   "cell_type": "code",
   "execution_count": 2,
   "id": "4e07dfc3",
   "metadata": {},
   "outputs": [],
   "source": [
    "num2 = [5,6]"
   ]
  },
  {
   "cell_type": "code",
   "execution_count": 3,
   "id": "6d80acd1",
   "metadata": {},
   "outputs": [],
   "source": [
    "num1.extend(num2)"
   ]
  },
  {
   "cell_type": "code",
   "execution_count": 4,
   "id": "ff8d3e48",
   "metadata": {},
   "outputs": [
    {
     "name": "stdout",
     "output_type": "stream",
     "text": [
      "[1, 2, 3, 5, 6]\n"
     ]
    }
   ],
   "source": [
    "print(num1)"
   ]
  },
  {
   "cell_type": "code",
   "execution_count": null,
   "id": "5a6aaa3f",
   "metadata": {},
   "outputs": [],
   "source": [
    "num1 = [1,2,3]\n",
    "num2 = [5,6]"
   ]
  },
  {
   "cell_type": "code",
   "execution_count": null,
   "id": "f13764a5",
   "metadata": {},
   "outputs": [],
   "source": [
    "print(num1 + num2)"
   ]
  },
  {
   "cell_type": "code",
   "execution_count": null,
   "id": "b5fdc9ef",
   "metadata": {},
   "outputs": [],
   "source": []
  },
  {
   "cell_type": "markdown",
   "id": "eeddf439",
   "metadata": {},
   "source": [
    "## Important function"
   ]
  },
  {
   "cell_type": "code",
   "execution_count": null,
   "id": "0f5b4444",
   "metadata": {},
   "outputs": [],
   "source": [
    "li = ['a', 'b', 'c','d','e','f']"
   ]
  },
  {
   "cell_type": "code",
   "execution_count": null,
   "id": "06513e24",
   "metadata": {},
   "outputs": [],
   "source": [
    "len(li)"
   ]
  },
  {
   "cell_type": "code",
   "execution_count": null,
   "id": "a21c2296",
   "metadata": {},
   "outputs": [],
   "source": [
    "print(li)"
   ]
  },
  {
   "cell_type": "code",
   "execution_count": null,
   "id": "7dfad62a",
   "metadata": {},
   "outputs": [],
   "source": [
    "print(li[::-1])"
   ]
  },
  {
   "cell_type": "markdown",
   "id": "d2108c2a",
   "metadata": {},
   "source": [
    "## List unpacking "
   ]
  },
  {
   "cell_type": "code",
   "execution_count": null,
   "id": "e1e23ddd",
   "metadata": {},
   "outputs": [],
   "source": [
    "li = [1,2,3]"
   ]
  },
  {
   "cell_type": "code",
   "execution_count": null,
   "id": "dd091e10",
   "metadata": {},
   "outputs": [],
   "source": [
    "a,b,c =li"
   ]
  },
  {
   "cell_type": "code",
   "execution_count": null,
   "id": "cc7683be",
   "metadata": {},
   "outputs": [],
   "source": [
    "print(b)"
   ]
  },
  {
   "cell_type": "code",
   "execution_count": null,
   "id": "70ba08c5",
   "metadata": {},
   "outputs": [],
   "source": [
    "a,b,c = [1,2,3]"
   ]
  },
  {
   "cell_type": "code",
   "execution_count": null,
   "id": "d2279329",
   "metadata": {},
   "outputs": [],
   "source": [
    "print(a)"
   ]
  },
  {
   "cell_type": "code",
   "execution_count": null,
   "id": "d262ec85",
   "metadata": {},
   "outputs": [],
   "source": [
    "print(b)"
   ]
  },
  {
   "cell_type": "code",
   "execution_count": null,
   "id": "317d4a16",
   "metadata": {},
   "outputs": [],
   "source": [
    "a,b =[1,2,3]"
   ]
  },
  {
   "cell_type": "code",
   "execution_count": null,
   "id": "8725cfe9",
   "metadata": {},
   "outputs": [],
   "source": [
    "# Unpack this and print the name \"Dibyaranjan\"  [1,2,3,\"Dibyaranjan\"]"
   ]
  },
  {
   "cell_type": "code",
   "execution_count": null,
   "id": "3df9a23c",
   "metadata": {},
   "outputs": [],
   "source": [
    "li =[1,2,3,\"Tinu\"]"
   ]
  },
  {
   "cell_type": "code",
   "execution_count": null,
   "id": "8aa271e3",
   "metadata": {},
   "outputs": [],
   "source": [
    "a,b,c,d=1,2,3,\"Tinu\""
   ]
  },
  {
   "cell_type": "code",
   "execution_count": null,
   "id": "6b63f9fb",
   "metadata": {},
   "outputs": [],
   "source": [
    "print(d)"
   ]
  },
  {
   "cell_type": "code",
   "execution_count": null,
   "id": "2716a794",
   "metadata": {},
   "outputs": [],
   "source": [
    "li = [1,2,3,\"Jeeban\"]"
   ]
  },
  {
   "cell_type": "code",
   "execution_count": null,
   "id": "d68ca79c",
   "metadata": {},
   "outputs": [],
   "source": [
    "a,b,c,d =[1,2,3,\"Jeeban\"]"
   ]
  },
  {
   "cell_type": "code",
   "execution_count": null,
   "id": "6d71e81e",
   "metadata": {},
   "outputs": [],
   "source": [
    "print(d)"
   ]
  },
  {
   "cell_type": "code",
   "execution_count": null,
   "id": "740c0441",
   "metadata": {},
   "outputs": [],
   "source": []
  },
  {
   "cell_type": "markdown",
   "id": "73b69734",
   "metadata": {},
   "source": [
    "# Dictionary"
   ]
  },
  {
   "cell_type": "markdown",
   "id": "d0dd84c3",
   "metadata": {},
   "source": [
    "#### a dictionary is an unordered Key Value pair"
   ]
  },
  {
   "cell_type": "code",
   "execution_count": null,
   "id": "851ad823",
   "metadata": {},
   "outputs": [],
   "source": [
    "new_dic = {'a':[1,2],'b':20}"
   ]
  },
  {
   "cell_type": "code",
   "execution_count": null,
   "id": "5f5fffd8",
   "metadata": {},
   "outputs": [],
   "source": [
    "a,b =new_dic['a']"
   ]
  },
  {
   "cell_type": "code",
   "execution_count": null,
   "id": "4a8b0c35",
   "metadata": {},
   "outputs": [],
   "source": [
    "print(a)"
   ]
  },
  {
   "cell_type": "code",
   "execution_count": null,
   "id": "8d7f68d7",
   "metadata": {},
   "outputs": [],
   "source": [
    "print(b)"
   ]
  },
  {
   "cell_type": "code",
   "execution_count": null,
   "id": "a1ff5148",
   "metadata": {},
   "outputs": [],
   "source": [
    "print(new_dic['b'])"
   ]
  },
  {
   "cell_type": "code",
   "execution_count": 10,
   "id": "d4db880e",
   "metadata": {},
   "outputs": [],
   "source": [
    "muke = {\"name\":\"Mukesh\",20.0:\"abc\"}"
   ]
  },
  {
   "cell_type": "code",
   "execution_count": 11,
   "id": "ca78e842",
   "metadata": {},
   "outputs": [
    {
     "data": {
      "text/plain": [
       "'Mukesh'"
      ]
     },
     "execution_count": 11,
     "metadata": {},
     "output_type": "execute_result"
    }
   ],
   "source": [
    "muke['name']"
   ]
  },
  {
   "cell_type": "code",
   "execution_count": 12,
   "id": "e1a037b1",
   "metadata": {},
   "outputs": [
    {
     "data": {
      "text/plain": [
       "'abc'"
      ]
     },
     "execution_count": 12,
     "metadata": {},
     "output_type": "execute_result"
    }
   ],
   "source": [
    "muke[20.0]"
   ]
  },
  {
   "cell_type": "code",
   "execution_count": null,
   "id": "4fe08283",
   "metadata": {},
   "outputs": [],
   "source": []
  },
  {
   "cell_type": "code",
   "execution_count": null,
   "id": "fbcabd50",
   "metadata": {},
   "outputs": [],
   "source": [
    "print(type(new_dic))"
   ]
  },
  {
   "cell_type": "code",
   "execution_count": null,
   "id": "2f49dafa",
   "metadata": {},
   "outputs": [],
   "source": [
    "new_dic['b']"
   ]
  },
  {
   "cell_type": "code",
   "execution_count": null,
   "id": "f8a61f03",
   "metadata": {},
   "outputs": [],
   "source": [
    "new_dic['c']"
   ]
  },
  {
   "cell_type": "code",
   "execution_count": null,
   "id": "2284ed9c",
   "metadata": {},
   "outputs": [],
   "source": [
    "new_dict = {1:\"A\",2:\"b\"}"
   ]
  },
  {
   "cell_type": "code",
   "execution_count": null,
   "id": "400c41b9",
   "metadata": {},
   "outputs": [],
   "source": [
    "# Can I do the below ?\n",
    "new_dict = {123:\"A\",2:\"b\"}"
   ]
  },
  {
   "cell_type": "code",
   "execution_count": null,
   "id": "eff55d72",
   "metadata": {},
   "outputs": [],
   "source": [
    "print(new_dict)"
   ]
  },
  {
   "cell_type": "code",
   "execution_count": null,
   "id": "efbc8f51",
   "metadata": {},
   "outputs": [],
   "source": [
    "# Can I do the below ?\n",
    "new_dict = {[123]:\"A\",2:\"b\"}"
   ]
  },
  {
   "cell_type": "code",
   "execution_count": null,
   "id": "53cbafdf",
   "metadata": {},
   "outputs": [],
   "source": [
    "## Dictionary Methods"
   ]
  },
  {
   "cell_type": "markdown",
   "id": "6ac66c52",
   "metadata": {},
   "source": [
    "https://www.w3schools.com/python/python_ref_dictionary.asp"
   ]
  },
  {
   "cell_type": "markdown",
   "id": "c19da59a",
   "metadata": {},
   "source": [
    "### get method"
   ]
  },
  {
   "cell_type": "code",
   "execution_count": null,
   "id": "19ccceae",
   "metadata": {},
   "outputs": [],
   "source": [
    "car = {\n",
    "  \"brand\": \"Ford\",\n",
    "  \"model\": \"Mustang\",\n",
    "  \"year\": 1964\n",
    "}\n",
    "\n",
    "x = car.get(\"model\")\n",
    "print(x)"
   ]
  },
  {
   "cell_type": "code",
   "execution_count": null,
   "id": "8bcb4490",
   "metadata": {},
   "outputs": [],
   "source": [
    "print(car['model'])"
   ]
  },
  {
   "cell_type": "code",
   "execution_count": null,
   "id": "a9c4a62b",
   "metadata": {},
   "outputs": [],
   "source": [
    "car = {\n",
    "  \"brand\": \"Ford\",\n",
    "  \"year\": 1964\n",
    "}\n",
    "\n",
    "x = car.setdefault(\"model\", \"Royal Enfild\")\n",
    "\n",
    "print(x)"
   ]
  },
  {
   "cell_type": "code",
   "execution_count": null,
   "id": "9c035320",
   "metadata": {},
   "outputs": [],
   "source": [
    "x = car.items()\n",
    "\n",
    "print(x)"
   ]
  },
  {
   "cell_type": "code",
   "execution_count": null,
   "id": "c5b90415",
   "metadata": {},
   "outputs": [],
   "source": [
    "new_dict = {\"name\":\"Bhabani\"}"
   ]
  },
  {
   "cell_type": "code",
   "execution_count": null,
   "id": "efd44990",
   "metadata": {},
   "outputs": [],
   "source": [
    "print(new_dict.items())"
   ]
  },
  {
   "cell_type": "code",
   "execution_count": null,
   "id": "d66375c9",
   "metadata": {},
   "outputs": [],
   "source": [
    "for a in car.items():\n",
    "    print(a)"
   ]
  },
  {
   "cell_type": "code",
   "execution_count": null,
   "id": "a99c34ae",
   "metadata": {},
   "outputs": [],
   "source": []
  },
  {
   "cell_type": "code",
   "execution_count": null,
   "id": "87b00276",
   "metadata": {},
   "outputs": [],
   "source": [
    "x = car.keys()\n",
    "print(x)"
   ]
  },
  {
   "cell_type": "code",
   "execution_count": null,
   "id": "ca83e04e",
   "metadata": {},
   "outputs": [],
   "source": [
    "x = car.values()\n",
    "print(x)"
   ]
  },
  {
   "cell_type": "markdown",
   "id": "b607b400",
   "metadata": {},
   "source": [
    "### update method"
   ]
  },
  {
   "cell_type": "code",
   "execution_count": 13,
   "id": "441539a6",
   "metadata": {},
   "outputs": [
    {
     "name": "stdout",
     "output_type": "stream",
     "text": [
      "{'brand': 'Ford', 'model': 'Mustang', 'year': 1964, 'color': 'White'}\n"
     ]
    }
   ],
   "source": [
    "car = {\n",
    "  \"brand\": \"Ford\",\n",
    "  \"model\": \"Mustang\",\n",
    "  \"year\": 1964\n",
    "}\n",
    "\n",
    "car.update({\"color\": \"White\"})\n",
    "\n",
    "print(car)"
   ]
  },
  {
   "cell_type": "code",
   "execution_count": 14,
   "id": "13f7368f",
   "metadata": {},
   "outputs": [
    {
     "name": "stdout",
     "output_type": "stream",
     "text": [
      "{'brand': 'MarutiSuzuki', 'model': 'Mustang', 'year': 1964}\n"
     ]
    }
   ],
   "source": [
    "car = {\n",
    "  \"brand\": \"Ford\",\n",
    "  \"model\": \"Mustang\",\n",
    "  \"year\": 1964\n",
    "}\n",
    "\n",
    "car.update({\"brand\": \"MarutiSuzuki\"})\n",
    "print(car)"
   ]
  },
  {
   "cell_type": "markdown",
   "id": "672ba74e",
   "metadata": {},
   "source": [
    "# Tuple"
   ]
  },
  {
   "cell_type": "markdown",
   "id": "5d67ae15",
   "metadata": {},
   "source": [
    "Tuple is like list but it is immutable and ()\n",
    "It's and ordered collecton ot items"
   ]
  },
  {
   "cell_type": "code",
   "execution_count": 15,
   "id": "1c98cbcd",
   "metadata": {},
   "outputs": [],
   "source": [
    "my_tuple =(1,2,5,8,9)"
   ]
  },
  {
   "cell_type": "code",
   "execution_count": 16,
   "id": "d7b3f333",
   "metadata": {},
   "outputs": [
    {
     "data": {
      "text/plain": [
       "1"
      ]
     },
     "execution_count": 16,
     "metadata": {},
     "output_type": "execute_result"
    }
   ],
   "source": [
    "my_tuple[0]"
   ]
  },
  {
   "cell_type": "code",
   "execution_count": 17,
   "id": "f60f89c3",
   "metadata": {},
   "outputs": [
    {
     "ename": "TypeError",
     "evalue": "'tuple' object does not support item assignment",
     "output_type": "error",
     "traceback": [
      "\u001b[1;31m---------------------------------------------------------------------------\u001b[0m",
      "\u001b[1;31mTypeError\u001b[0m                                 Traceback (most recent call last)",
      "\u001b[1;32m<ipython-input-17-f9a0f5b18919>\u001b[0m in \u001b[0;36m<module>\u001b[1;34m\u001b[0m\n\u001b[1;32m----> 1\u001b[1;33m \u001b[0mmy_tuple\u001b[0m\u001b[1;33m[\u001b[0m\u001b[1;36m0\u001b[0m\u001b[1;33m]\u001b[0m \u001b[1;33m=\u001b[0m \u001b[1;36m2\u001b[0m\u001b[1;33m\u001b[0m\u001b[1;33m\u001b[0m\u001b[0m\n\u001b[0m",
      "\u001b[1;31mTypeError\u001b[0m: 'tuple' object does not support item assignment"
     ]
    }
   ],
   "source": [
    "my_tuple[0] = 2"
   ]
  },
  {
   "cell_type": "code",
   "execution_count": null,
   "id": "deafe6cd",
   "metadata": {},
   "outputs": [],
   "source": [
    "# Slicing in tuple"
   ]
  },
  {
   "cell_type": "code",
   "execution_count": null,
   "id": "48be1ab5",
   "metadata": {},
   "outputs": [],
   "source": [
    "my_tuple[::2]"
   ]
  },
  {
   "cell_type": "code",
   "execution_count": null,
   "id": "4e4019fb",
   "metadata": {},
   "outputs": [],
   "source": [
    "# Unpacking a tuple"
   ]
  },
  {
   "cell_type": "code",
   "execution_count": null,
   "id": "0f265498",
   "metadata": {},
   "outputs": [],
   "source": [
    "a,b,c,d,e = my_tuple"
   ]
  },
  {
   "cell_type": "code",
   "execution_count": null,
   "id": "87681511",
   "metadata": {},
   "outputs": [],
   "source": [
    "print(e)"
   ]
  },
  {
   "cell_type": "code",
   "execution_count": null,
   "id": "b82abd8f",
   "metadata": {},
   "outputs": [],
   "source": [
    "# Can I write like this\n",
    "a,b,c,d = my_tuple"
   ]
  },
  {
   "cell_type": "code",
   "execution_count": null,
   "id": "9f98a183",
   "metadata": {},
   "outputs": [],
   "source": [
    "tup=(\"a\",\"b\",\"c\")"
   ]
  },
  {
   "cell_type": "code",
   "execution_count": null,
   "id": "b4f5d7f3",
   "metadata": {},
   "outputs": [],
   "source": [
    "print(tup)"
   ]
  },
  {
   "cell_type": "code",
   "execution_count": null,
   "id": "ca070f06",
   "metadata": {},
   "outputs": [],
   "source": [
    "tup.index(\"b\")"
   ]
  },
  {
   "cell_type": "code",
   "execution_count": null,
   "id": "28ceed4d",
   "metadata": {},
   "outputs": [],
   "source": []
  },
  {
   "cell_type": "markdown",
   "id": "de1c92d7",
   "metadata": {},
   "source": [
    "# SET"
   ]
  },
  {
   "cell_type": "markdown",
   "id": "63402380",
   "metadata": {},
   "source": [
    "Set is unordered collection of UNIQUE items"
   ]
  },
  {
   "cell_type": "code",
   "execution_count": null,
   "id": "459cb24f",
   "metadata": {},
   "outputs": [],
   "source": [
    "my_set={1,1,2,2,3,3}"
   ]
  },
  {
   "cell_type": "code",
   "execution_count": null,
   "id": "4c84b878",
   "metadata": {},
   "outputs": [],
   "source": [
    "print(my_set)"
   ]
  },
  {
   "cell_type": "code",
   "execution_count": null,
   "id": "20728f5f",
   "metadata": {},
   "outputs": [],
   "source": [
    "my_set.add(20)"
   ]
  },
  {
   "cell_type": "code",
   "execution_count": null,
   "id": "f78bfb96",
   "metadata": {},
   "outputs": [],
   "source": [
    "print(my_set)"
   ]
  },
  {
   "cell_type": "code",
   "execution_count": null,
   "id": "1b1f287a",
   "metadata": {},
   "outputs": [],
   "source": [
    "li = [1,1,2,2,3,3]"
   ]
  },
  {
   "cell_type": "code",
   "execution_count": null,
   "id": "7afbc44c",
   "metadata": {},
   "outputs": [],
   "source": [
    "print(li)"
   ]
  },
  {
   "cell_type": "code",
   "execution_count": null,
   "id": "3a70e5ae",
   "metadata": {},
   "outputs": [],
   "source": [
    "print(set(li))"
   ]
  },
  {
   "cell_type": "markdown",
   "id": "061df1a7",
   "metadata": {},
   "source": [
    "### Set Methods"
   ]
  },
  {
   "cell_type": "markdown",
   "id": "66fbc21a",
   "metadata": {},
   "source": [
    "https://www.w3schools.com/python/python_ref_set.asp"
   ]
  },
  {
   "cell_type": "code",
   "execution_count": 18,
   "id": "39ed571f",
   "metadata": {},
   "outputs": [
    {
     "name": "stdout",
     "output_type": "stream",
     "text": [
      "{'banana', 'cherry'}\n"
     ]
    }
   ],
   "source": [
    "x = {\"apple\", \"banana\", \"cherry\"}\n",
    "y = {\"google\", \"microsoft\", \"apple\"}\n",
    "\n",
    "z = x.difference(y)\n",
    "\n",
    "print(z)"
   ]
  },
  {
   "cell_type": "code",
   "execution_count": 19,
   "id": "d04ba8f0",
   "metadata": {},
   "outputs": [
    {
     "name": "stdout",
     "output_type": "stream",
     "text": [
      "{'google', 'microsoft'}\n"
     ]
    }
   ],
   "source": [
    "x = {\"apple\", \"banana\", \"cherry\"}\n",
    "y = {\"google\", \"microsoft\", \"apple\"}\n",
    "\n",
    "z = y.difference(x)\n",
    "\n",
    "print(z)"
   ]
  },
  {
   "cell_type": "markdown",
   "id": "e514f88a",
   "metadata": {},
   "source": [
    "# Exercise"
   ]
  },
  {
   "cell_type": "markdown",
   "id": "a5e43b99",
   "metadata": {},
   "source": [
    "### 1. Swap first element of a list with the last element of the list\n"
   ]
  },
  {
   "cell_type": "markdown",
   "id": "06ad3c9e",
   "metadata": {},
   "source": [
    "li=[\"apple\", \"banana\", \"cherry\"]"
   ]
  },
  {
   "cell_type": "code",
   "execution_count": null,
   "id": "3cb48770",
   "metadata": {},
   "outputs": [],
   "source": [
    "li=[\"apple\",\"banana\",\"cherry\"]"
   ]
  },
  {
   "cell_type": "code",
   "execution_count": null,
   "id": "132bc613",
   "metadata": {},
   "outputs": [],
   "source": [
    "a = li[0]"
   ]
  },
  {
   "cell_type": "code",
   "execution_count": null,
   "id": "4f4699c0",
   "metadata": {},
   "outputs": [],
   "source": [
    "print(a)"
   ]
  },
  {
   "cell_type": "code",
   "execution_count": null,
   "id": "32d74e60",
   "metadata": {},
   "outputs": [],
   "source": [
    "b = li[2]"
   ]
  },
  {
   "cell_type": "code",
   "execution_count": null,
   "id": "6c608c65",
   "metadata": {},
   "outputs": [],
   "source": [
    "print(b)"
   ]
  },
  {
   "cell_type": "code",
   "execution_count": null,
   "id": "f0fb5843",
   "metadata": {},
   "outputs": [],
   "source": [
    "c = a"
   ]
  },
  {
   "cell_type": "code",
   "execution_count": null,
   "id": "908e06d4",
   "metadata": {},
   "outputs": [],
   "source": [
    "a = b"
   ]
  },
  {
   "cell_type": "code",
   "execution_count": null,
   "id": "e444cc95",
   "metadata": {},
   "outputs": [],
   "source": [
    "print(c)"
   ]
  },
  {
   "cell_type": "code",
   "execution_count": null,
   "id": "1d752780",
   "metadata": {},
   "outputs": [],
   "source": [
    "print(a)"
   ]
  },
  {
   "cell_type": "code",
   "execution_count": null,
   "id": "15305323",
   "metadata": {},
   "outputs": [],
   "source": [
    "b = c"
   ]
  },
  {
   "cell_type": "code",
   "execution_count": null,
   "id": "6e6e9c03",
   "metadata": {},
   "outputs": [],
   "source": [
    "print(b)"
   ]
  },
  {
   "cell_type": "code",
   "execution_count": null,
   "id": "f9ac44c2",
   "metadata": {},
   "outputs": [],
   "source": [
    "print(a)"
   ]
  },
  {
   "cell_type": "markdown",
   "id": "eacdacd5",
   "metadata": {},
   "source": [
    "# Exercise Mukesh"
   ]
  },
  {
   "cell_type": "code",
   "execution_count": 24,
   "id": "8d762e19",
   "metadata": {},
   "outputs": [],
   "source": [
    " user={\"age\":20,\"user_name\":\"mukesh\",\"friends\":[\"bhabani\",\"tinu\"],\"gender\":True}"
   ]
  },
  {
   "cell_type": "code",
   "execution_count": 25,
   "id": "617c33ca",
   "metadata": {},
   "outputs": [
    {
     "name": "stdout",
     "output_type": "stream",
     "text": [
      "dict_keys(['age', 'user_name', 'friends', 'gender'])\n"
     ]
    }
   ],
   "source": [
    "print(user.keys())"
   ]
  },
  {
   "cell_type": "code",
   "execution_count": 26,
   "id": "a322d0ab",
   "metadata": {},
   "outputs": [
    {
     "name": "stdout",
     "output_type": "stream",
     "text": [
      "dict_values([20, 'mukesh', ['bhabani', 'tinu'], True])\n"
     ]
    }
   ],
   "source": [
    "print(user.values())"
   ]
  },
  {
   "cell_type": "code",
   "execution_count": 30,
   "id": "3ccf2356",
   "metadata": {},
   "outputs": [
    {
     "name": "stdout",
     "output_type": "stream",
     "text": [
      "None\n"
     ]
    }
   ],
   "source": [
    " print(user[\"friends\"].append(\"jiban\"))"
   ]
  },
  {
   "cell_type": "code",
   "execution_count": 31,
   "id": "271e111c",
   "metadata": {},
   "outputs": [
    {
     "name": "stdout",
     "output_type": "stream",
     "text": [
      "['bhabani', 'tinu', 'jiban']\n"
     ]
    }
   ],
   "source": [
    "print(user[\"friends\"])"
   ]
  },
  {
   "cell_type": "code",
   "execution_count": 33,
   "id": "79229d52",
   "metadata": {},
   "outputs": [],
   "source": [
    "user.update({\"is_married\":True})"
   ]
  },
  {
   "cell_type": "code",
   "execution_count": 34,
   "id": "c44675a9",
   "metadata": {},
   "outputs": [
    {
     "name": "stdout",
     "output_type": "stream",
     "text": [
      "{'age': 20, 'user_name': 'mukesh', 'friends': ['bhabani', 'tinu', 'jiban'], 'gender': True, 'is_married': True}\n"
     ]
    }
   ],
   "source": [
    "print(user)"
   ]
  },
  {
   "cell_type": "code",
   "execution_count": null,
   "id": "9826f7e1",
   "metadata": {},
   "outputs": [],
   "source": []
  },
  {
   "cell_type": "code",
   "execution_count": 35,
   "id": "3d6fdf60",
   "metadata": {},
   "outputs": [],
   "source": [
    "classs={\"bhabani\",\"mukesh\",\"jiban\",\"tinu\",\"dibyaranjan\"}"
   ]
  },
  {
   "cell_type": "code",
   "execution_count": 36,
   "id": "c9b79014",
   "metadata": {},
   "outputs": [],
   "source": [
    "students={\"bhabani\",\"tinu\",\"mukesh\",\"jiban\"}"
   ]
  },
  {
   "cell_type": "code",
   "execution_count": 37,
   "id": "a23a437d",
   "metadata": {},
   "outputs": [
    {
     "data": {
      "text/plain": [
       "{'dibyaranjan'}"
      ]
     },
     "execution_count": 37,
     "metadata": {},
     "output_type": "execute_result"
    }
   ],
   "source": [
    "classs.difference(students)"
   ]
  },
  {
   "cell_type": "code",
   "execution_count": 39,
   "id": "5cb3f338",
   "metadata": {},
   "outputs": [],
   "source": [
    "students=[\"bhabani\",\"tinu\",\"monalisha\",\"jiban\",\"mukesh\"]"
   ]
  },
  {
   "cell_type": "code",
   "execution_count": 40,
   "id": "b7cabdb2",
   "metadata": {},
   "outputs": [],
   "source": [
    "students.remove(\"monalisha\")"
   ]
  },
  {
   "cell_type": "code",
   "execution_count": 41,
   "id": "d7db943a",
   "metadata": {},
   "outputs": [
    {
     "name": "stdout",
     "output_type": "stream",
     "text": [
      "['bhabani', 'tinu', 'jiban', 'mukesh']\n"
     ]
    }
   ],
   "source": [
    "print(students)"
   ]
  },
  {
   "cell_type": "code",
   "execution_count": null,
   "id": "0b42b614",
   "metadata": {},
   "outputs": [],
   "source": []
  }
 ],
 "metadata": {
  "kernelspec": {
   "display_name": "Python 3",
   "language": "python",
   "name": "python3"
  },
  "language_info": {
   "codemirror_mode": {
    "name": "ipython",
    "version": 3
   },
   "file_extension": ".py",
   "mimetype": "text/x-python",
   "name": "python",
   "nbconvert_exporter": "python",
   "pygments_lexer": "ipython3",
   "version": "3.8.8"
  }
 },
 "nbformat": 4,
 "nbformat_minor": 5
}
