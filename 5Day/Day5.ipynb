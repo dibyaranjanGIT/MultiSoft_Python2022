{
 "cells": [
  {
   "cell_type": "markdown",
   "id": "756af02a",
   "metadata": {},
   "source": [
    "# Control Flow"
   ]
  },
  {
   "cell_type": "markdown",
   "id": "44c0a738",
   "metadata": {},
   "source": [
    "A program's control flow is the order in which the program's code executes."
   ]
  },
  {
   "cell_type": "markdown",
   "id": "9ff48bb9",
   "metadata": {},
   "source": [
    " This section covers the if statement and for and while loops"
   ]
  },
  {
   "cell_type": "code",
   "execution_count": null,
   "id": "9bb7ef74",
   "metadata": {},
   "outputs": [],
   "source": [
    "# Start a Pycharm session"
   ]
  },
  {
   "cell_type": "code",
   "execution_count": null,
   "id": "e20eeab9",
   "metadata": {},
   "outputs": [],
   "source": [
    "# Code debugger"
   ]
  },
  {
   "cell_type": "markdown",
   "id": "cdf91bf1",
   "metadata": {},
   "source": [
    "https://pythontutor.com/visualize.html#mode=edit"
   ]
  },
  {
   "cell_type": "code",
   "execution_count": null,
   "id": "c0981f0d",
   "metadata": {},
   "outputs": [],
   "source": [
    "# if test_condition:\n",
    "#     do this"
   ]
  },
  {
   "cell_type": "code",
   "execution_count": null,
   "id": "fa3d6239",
   "metadata": {},
   "outputs": [],
   "source": [
    "score = input(\"Enter you score\")\n",
    "if score >= 30:\n",
    "    print(\"You passed\")\n",
    "elif score >= 60:\n",
    "    print(\"First division\")"
   ]
  },
  {
   "cell_type": "code",
   "execution_count": null,
   "id": "bbb2358e",
   "metadata": {},
   "outputs": [],
   "source": []
  },
  {
   "cell_type": "code",
   "execution_count": null,
   "id": "f7bf64b9",
   "metadata": {},
   "outputs": [],
   "source": [
    "score = input(\"Enter you score\")\n",
    "if score >= 30:\n",
    "    print(\"You passed\")\n",
    "else:\n",
    "    print(\"You failed\")"
   ]
  },
  {
   "cell_type": "code",
   "execution_count": null,
   "id": "eb301fcd",
   "metadata": {},
   "outputs": [],
   "source": [
    "## Remeber the indentation matters"
   ]
  },
  {
   "cell_type": "code",
   "execution_count": null,
   "id": "f83b27f7",
   "metadata": {},
   "outputs": [],
   "source": [
    "# Write a control flow statement to input your hight in centimeter\n",
    "# if your height is > 160 cm then you can join army officer rank else you can't join army"
   ]
  },
  {
   "cell_type": "code",
   "execution_count": 14,
   "id": "5af9fc90",
   "metadata": {},
   "outputs": [
    {
     "name": "stdout",
     "output_type": "stream",
     "text": [
      "what is your height in c.m 150\n",
      "you are not eligable\n"
     ]
    }
   ],
   "source": [
    "height=int(input(\"what is your height in c.m \"))\n",
    "if height >160:\n",
    "    print(\"you can join army\")\n",
    "else:\n",
    "    print(\"you are not eligable\")\n",
    "    "
   ]
  },
  {
   "cell_type": "code",
   "execution_count": null,
   "id": "4b993152",
   "metadata": {},
   "outputs": [],
   "source": []
  },
  {
   "cell_type": "code",
   "execution_count": null,
   "id": "34cd1657",
   "metadata": {},
   "outputs": [],
   "source": []
  },
  {
   "cell_type": "code",
   "execution_count": null,
   "id": "a80aed02",
   "metadata": {},
   "outputs": [],
   "source": []
  },
  {
   "cell_type": "code",
   "execution_count": null,
   "id": "392a4584",
   "metadata": {},
   "outputs": [],
   "source": []
  },
  {
   "cell_type": "code",
   "execution_count": null,
   "id": "d9b1f092",
   "metadata": {},
   "outputs": [],
   "source": []
  },
  {
   "cell_type": "code",
   "execution_count": null,
   "id": "290f90a1",
   "metadata": {},
   "outputs": [],
   "source": []
  },
  {
   "cell_type": "markdown",
   "id": "78a0181b",
   "metadata": {},
   "source": [
    "**If you have more than two condition then you have to use elif**"
   ]
  },
  {
   "cell_type": "code",
   "execution_count": 15,
   "id": "fbae65e6",
   "metadata": {},
   "outputs": [
    {
     "name": "stdout",
     "output_type": "stream",
     "text": [
      "Greater than 10\n"
     ]
    }
   ],
   "source": [
    "num = 20\n",
    "\n",
    "if num > 10:\n",
    "    print(\"Greater than 10\")\n",
    "elif num > 50:\n",
    "    print(\"Greater than 50\")\n",
    "elif num > 100:\n",
    "    print(\"Greater than 1000\")"
   ]
  },
  {
   "cell_type": "code",
   "execution_count": null,
   "id": "1e0f1b05",
   "metadata": {},
   "outputs": [],
   "source": [
    "# Q. Find what is the issue"
   ]
  },
  {
   "cell_type": "code",
   "execution_count": null,
   "id": "86fa20a9",
   "metadata": {},
   "outputs": [],
   "source": [
    "num = 68\n",
    "\n",
    "if num > 100:\n",
    "    print(\"Greater than 10\")\n",
    "elif num > 50:\n",
    "    print(\"Greater than 50\")\n",
    "elif num > 10:\n",
    "    print(\"Greater than 1000\")"
   ]
  },
  {
   "cell_type": "code",
   "execution_count": null,
   "id": "f77f5642",
   "metadata": {},
   "outputs": [],
   "source": []
  },
  {
   "cell_type": "code",
   "execution_count": null,
   "id": "a9c134a8",
   "metadata": {},
   "outputs": [],
   "source": []
  },
  {
   "cell_type": "markdown",
   "id": "c03a2f37",
   "metadata": {},
   "source": [
    "### To add more than one statement in If clause"
   ]
  },
  {
   "cell_type": "code",
   "execution_count": 21,
   "id": "3fcc3249",
   "metadata": {},
   "outputs": [
    {
     "name": "stdout",
     "output_type": "stream",
     "text": [
      "ENTER YOUR AGE 20\n",
      "do you have a voter id True or False False\n",
      "You can vote\n"
     ]
    }
   ],
   "source": [
    "age=int(input(\"ENTER YOUR AGE \"))\n",
    "has_voter_id=bool(input(\"do you have a voter id True or False \"))\n",
    "if age > 18 and has_voter_id == True:\n",
    "    print(\"You can vote\")\n",
    "else:\n",
    "    print(\"Can't vote\")"
   ]
  },
  {
   "cell_type": "code",
   "execution_count": null,
   "id": "119c9d15",
   "metadata": {},
   "outputs": [],
   "source": []
  },
  {
   "cell_type": "markdown",
   "id": "8a86b447",
   "metadata": {},
   "source": [
    "#### Nested IF-Else statement"
   ]
  },
  {
   "cell_type": "code",
   "execution_count": null,
   "id": "abd91652",
   "metadata": {},
   "outputs": [],
   "source": [
    "# if expression1:\n",
    "#    statement(s)\n",
    "#    if expression2:\n",
    "#       statement(s)\n",
    "#    elif expression3:\n",
    "#       statement(s)\n",
    "#    elif expression4:\n",
    "#       statement(s)\n",
    "#    else:\n",
    "#       statement(s)\n",
    "# else:\n",
    "#     statement(s)"
   ]
  },
  {
   "cell_type": "markdown",
   "id": "df95073e",
   "metadata": {},
   "source": [
    "### Questions"
   ]
  },
  {
   "cell_type": "code",
   "execution_count": null,
   "id": "fe5f4a47",
   "metadata": {},
   "outputs": [],
   "source": []
  },
  {
   "cell_type": "code",
   "execution_count": 22,
   "id": "eae75637",
   "metadata": {},
   "outputs": [],
   "source": [
    "## Q. Create a program to check if a number enter by the user is positive or negative or zero"
   ]
  },
  {
   "cell_type": "code",
   "execution_count": 24,
   "id": "77f5f486",
   "metadata": {},
   "outputs": [
    {
     "name": "stdout",
     "output_type": "stream",
     "text": [
      "Enter a number: 5\n",
      "The number is Positive\n"
     ]
    }
   ],
   "source": [
    "num = int(input(\"Enter a number: \"))\n",
    "if num== 0:\n",
    "    print(\"The number is zero\")\n",
    "elif num > 0:\n",
    "    print(\"The number is Positive\")\n",
    "elif num< 0:\n",
    "    print(\"The number is Negative\")"
   ]
  },
  {
   "cell_type": "code",
   "execution_count": 28,
   "id": "fb21a923",
   "metadata": {},
   "outputs": [
    {
     "name": "stdout",
     "output_type": "stream",
     "text": [
      "enter a number: -8\n",
      "the number is\n",
      "negative\n"
     ]
    }
   ],
   "source": [
    "num=int(input(\"enter a number: \"))\n",
    "if num==0 or num<0 or num>0:\n",
    "    print(\"the number is\")\n",
    "    if num == 0:\n",
    "        print(\"zero\")\n",
    "    elif num>0:\n",
    "        print(\"positive\")\n",
    "    elif num<0:\n",
    "        print(\"negative\")\n",
    "        \n"
   ]
  },
  {
   "cell_type": "code",
   "execution_count": null,
   "id": "f2c8cd22",
   "metadata": {},
   "outputs": [],
   "source": []
  },
  {
   "cell_type": "code",
   "execution_count": null,
   "id": "89355347",
   "metadata": {},
   "outputs": [],
   "source": []
  },
  {
   "cell_type": "code",
   "execution_count": null,
   "id": "71c909ee",
   "metadata": {},
   "outputs": [],
   "source": []
  },
  {
   "cell_type": "code",
   "execution_count": null,
   "id": "44dab041",
   "metadata": {},
   "outputs": [],
   "source": []
  },
  {
   "cell_type": "code",
   "execution_count": null,
   "id": "0e709be9",
   "metadata": {},
   "outputs": [],
   "source": []
  },
  {
   "cell_type": "code",
   "execution_count": null,
   "id": "234afc2a",
   "metadata": {},
   "outputs": [],
   "source": []
  },
  {
   "cell_type": "code",
   "execution_count": null,
   "id": "8ad673ee",
   "metadata": {},
   "outputs": [],
   "source": [
    "## Take an input from user\n",
    "## and check if the number is odd or even"
   ]
  },
  {
   "cell_type": "code",
   "execution_count": null,
   "id": "8423890d",
   "metadata": {},
   "outputs": [],
   "source": []
  },
  {
   "cell_type": "markdown",
   "id": "b9af1a18",
   "metadata": {},
   "source": [
    "## While Loop"
   ]
  },
  {
   "cell_type": "markdown",
   "id": "fb439db5",
   "metadata": {},
   "source": [
    "Until a condition is true we want our code to keep on execute"
   ]
  },
  {
   "cell_type": "markdown",
   "id": "df3e53f2",
   "metadata": {},
   "source": [
    "* Be carefull of infinte loop in WHILE loop"
   ]
  },
  {
   "cell_type": "code",
   "execution_count": null,
   "id": "485869ce",
   "metadata": {},
   "outputs": [],
   "source": [
    "## Syntax\n",
    "\n",
    "# if test_condition:\n",
    "#     statement"
   ]
  },
  {
   "cell_type": "code",
   "execution_count": null,
   "id": "d5cf061e",
   "metadata": {},
   "outputs": [],
   "source": []
  },
  {
   "cell_type": "code",
   "execution_count": null,
   "id": "ff774887",
   "metadata": {},
   "outputs": [],
   "source": [
    "i = 0\n",
    "while i < 20:\n",
    "    print(i)"
   ]
  },
  {
   "cell_type": "code",
   "execution_count": null,
   "id": "ebf5e2f3",
   "metadata": {},
   "outputs": [],
   "source": []
  },
  {
   "cell_type": "code",
   "execution_count": null,
   "id": "e6916dbf",
   "metadata": {},
   "outputs": [],
   "source": [
    "i = 0\n",
    "while i < 20:\n",
    "    print(i)\n",
    "    i = i + 1"
   ]
  },
  {
   "cell_type": "markdown",
   "id": "db326345",
   "metadata": {},
   "source": [
    "### Break and continue"
   ]
  },
  {
   "cell_type": "code",
   "execution_count": null,
   "id": "d6cff854",
   "metadata": {},
   "outputs": [],
   "source": [
    "# Suppose I want my code to stop iterating when it reachs 10"
   ]
  },
  {
   "cell_type": "code",
   "execution_count": null,
   "id": "b5b8afcd",
   "metadata": {},
   "outputs": [],
   "source": [
    "i = 0\n",
    "while i < 20:\n",
    "    print(i)\n",
    "    i = i + 1\n",
    "    if i == 10:\n",
    "        break"
   ]
  },
  {
   "cell_type": "code",
   "execution_count": null,
   "id": "032eae47",
   "metadata": {},
   "outputs": [],
   "source": []
  },
  {
   "cell_type": "code",
   "execution_count": null,
   "id": "65e33050",
   "metadata": {},
   "outputs": [],
   "source": [
    "i = 0\n",
    "while i < 9:\n",
    "    i += 1\n",
    "    if i == 3:\n",
    "        continue\n",
    "    print(i)"
   ]
  },
  {
   "cell_type": "code",
   "execution_count": null,
   "id": "8d8694f7",
   "metadata": {},
   "outputs": [],
   "source": [
    "i = 0\n",
    "while i < 9:\n",
    "    i += 1\n",
    "    if i == 3:\n",
    "        break\n",
    "    print(i)"
   ]
  },
  {
   "cell_type": "code",
   "execution_count": null,
   "id": "b838a4e9",
   "metadata": {},
   "outputs": [],
   "source": []
  },
  {
   "cell_type": "markdown",
   "id": "d8f78821",
   "metadata": {},
   "source": [
    "Q. Suppose I want to write a programm so that whenever you enter a negative number it continues with next iteration else print the output"
   ]
  },
  {
   "cell_type": "code",
   "execution_count": null,
   "id": "01170a4a",
   "metadata": {},
   "outputs": [],
   "source": []
  },
  {
   "cell_type": "code",
   "execution_count": null,
   "id": "4f20ff5e",
   "metadata": {},
   "outputs": [],
   "source": [
    "while True:\n",
    "    number = int(input(\"Enter a number\"))\n",
    "    if number < 0:\n",
    "        continue\n",
    "    print(f\"You entered : {number}\")"
   ]
  },
  {
   "cell_type": "code",
   "execution_count": null,
   "id": "0ea2ecd3",
   "metadata": {},
   "outputs": [],
   "source": []
  },
  {
   "cell_type": "markdown",
   "id": "5bd86827",
   "metadata": {},
   "source": [
    "Q. Using while loop create a multiplication table like below\n",
    "\n",
    "5 * 1 = 5\n",
    "\n",
    "5 * 2 = 10\n",
    "\n",
    "5 * 3 = 15\n",
    "\n",
    "    .  \n",
    "    \n",
    "    . \n",
    "    \n",
    "    .\n",
    "\n",
    "5 * 10 = 50"
   ]
  },
  {
   "cell_type": "code",
   "execution_count": null,
   "id": "533ead1f",
   "metadata": {},
   "outputs": [],
   "source": []
  },
  {
   "cell_type": "markdown",
   "id": "b9764f37",
   "metadata": {},
   "source": [
    "Q. Write a programm so that all the languages are printed except \"C\""
   ]
  },
  {
   "cell_type": "code",
   "execution_count": 8,
   "id": "78e0dfbe",
   "metadata": {},
   "outputs": [],
   "source": [
    "languages = [\"Python\",\"Java\",\"C\",\".net\",\"C++\"]"
   ]
  },
  {
   "cell_type": "code",
   "execution_count": null,
   "id": "b3b1da9d",
   "metadata": {},
   "outputs": [],
   "source": []
  }
 ],
 "metadata": {
  "kernelspec": {
   "display_name": "Python 3",
   "language": "python",
   "name": "python3"
  },
  "language_info": {
   "codemirror_mode": {
    "name": "ipython",
    "version": 3
   },
   "file_extension": ".py",
   "mimetype": "text/x-python",
   "name": "python",
   "nbconvert_exporter": "python",
   "pygments_lexer": "ipython3",
   "version": "3.8.8"
  }
 },
 "nbformat": 4,
 "nbformat_minor": 5
}
