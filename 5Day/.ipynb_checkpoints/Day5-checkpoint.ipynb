{
 "cells": [
  {
   "cell_type": "markdown",
   "id": "756af02a",
   "metadata": {},
   "source": [
    "# Control Flow"
   ]
  },
  {
   "cell_type": "markdown",
   "id": "44c0a738",
   "metadata": {},
   "source": [
    "A program's control flow is the order in which the program's code executes."
   ]
  },
  {
   "cell_type": "markdown",
   "id": "9ff48bb9",
   "metadata": {},
   "source": [
    " This section covers the if statement and for and while loops"
   ]
  },
  {
   "cell_type": "code",
   "execution_count": null,
   "id": "1b9f6791",
   "metadata": {},
   "outputs": [],
   "source": [
    "# if test_condition:\n",
    "#     do this"
   ]
  },
  {
   "cell_type": "code",
   "execution_count": null,
   "id": "e8bc953a",
   "metadata": {},
   "outputs": [],
   "source": [
    "score = input(\"Enter you score\")\n",
    "if score >= 30:\n",
    "    print(\"You passed\")"
   ]
  },
  {
   "cell_type": "code",
   "execution_count": null,
   "id": "b8663ad0",
   "metadata": {},
   "outputs": [],
   "source": []
  },
  {
   "cell_type": "code",
   "execution_count": null,
   "id": "09d5708c",
   "metadata": {},
   "outputs": [],
   "source": [
    "score = input(\"Enter you score\")\n",
    "if score >= 30:\n",
    "    print(\"You passed\")\n",
    "else:\n",
    "    print(\"You failed\")"
   ]
  },
  {
   "cell_type": "code",
   "execution_count": 4,
   "id": "eb301fcd",
   "metadata": {},
   "outputs": [],
   "source": [
    "## Remeber the indentation matters"
   ]
  },
  {
   "cell_type": "code",
   "execution_count": 2,
   "id": "f54d9fcd",
   "metadata": {},
   "outputs": [],
   "source": [
    "# If it's raining play football if not play crickt"
   ]
  },
  {
   "cell_type": "code",
   "execution_count": 3,
   "id": "f83b27f7",
   "metadata": {},
   "outputs": [],
   "source": [
    "# Write a control flow statement to input your hight in centimeter\n",
    "# if your height is > 160 cm then you can join army officer rank"
   ]
  },
  {
   "cell_type": "markdown",
   "id": "78a0181b",
   "metadata": {},
   "source": [
    "If you have multiple if condition then how to write it"
   ]
  },
  {
   "cell_type": "code",
   "execution_count": 5,
   "id": "fbae65e6",
   "metadata": {},
   "outputs": [
    {
     "name": "stdout",
     "output_type": "stream",
     "text": [
      "Greater than 10\n"
     ]
    }
   ],
   "source": [
    "num = 20\n",
    "\n",
    "if num > 10:\n",
    "    print(\"Greater than 10\")\n",
    "elif num > 50:\n",
    "    print(\"Greater than 50\")\n",
    "elif num > 100:\n",
    "    print(\"Greater than 1000\")"
   ]
  },
  {
   "cell_type": "code",
   "execution_count": 6,
   "id": "1e0f1b05",
   "metadata": {},
   "outputs": [],
   "source": [
    "# Q. Find what is the issue"
   ]
  },
  {
   "cell_type": "code",
   "execution_count": null,
   "id": "86fa20a9",
   "metadata": {},
   "outputs": [],
   "source": [
    "num = 68\n",
    "\n",
    "if num > 10:\n",
    "    print(\"Greater than 10\")\n",
    "elif num > 50:\n",
    "    print(\"Greater than 50\")\n",
    "elif num > 100:\n",
    "    print(\"Greater than 1000\")"
   ]
  },
  {
   "cell_type": "code",
   "execution_count": null,
   "id": "f77f5642",
   "metadata": {},
   "outputs": [],
   "source": []
  },
  {
   "cell_type": "markdown",
   "id": "c03a2f37",
   "metadata": {},
   "source": [
    "### To add more than one statement in If clause"
   ]
  },
  {
   "cell_type": "code",
   "execution_count": null,
   "id": "3fcc3249",
   "metadata": {},
   "outputs": [],
   "source": [
    "age = 20\n",
    "has_voter_id = True\n",
    "if age > 18 and has_voter_id == True:\n",
    "    print(\"You can vote\")\n",
    "else:\n",
    "    print(\"Can't vote\")"
   ]
  },
  {
   "cell_type": "code",
   "execution_count": null,
   "id": "119c9d15",
   "metadata": {},
   "outputs": [],
   "source": []
  },
  {
   "cell_type": "markdown",
   "id": "424f7db1",
   "metadata": {},
   "source": [
    "#### Nested IF-Else statement"
   ]
  },
  {
   "cell_type": "code",
   "execution_count": null,
   "id": "abd91652",
   "metadata": {},
   "outputs": [],
   "source": [
    "# if expression1:\n",
    "#    statement(s)\n",
    "#    if expression2:\n",
    "#       statement(s)\n",
    "#    elif expression3:\n",
    "#       statement(s)\n",
    "#    elif expression4:\n",
    "#       statement(s)\n",
    "#    else:\n",
    "#       statement(s)\n",
    "# else:\n",
    "#     statement(s)"
   ]
  },
  {
   "cell_type": "markdown",
   "id": "367e2d33",
   "metadata": {},
   "source": [
    "### Questions"
   ]
  },
  {
   "cell_type": "code",
   "execution_count": null,
   "id": "fe5f4a47",
   "metadata": {},
   "outputs": [],
   "source": []
  },
  {
   "cell_type": "code",
   "execution_count": null,
   "id": "e78b404a",
   "metadata": {},
   "outputs": [],
   "source": [
    "# write a programm if_gender_male = True AND if_age_21 = True\n",
    "# then print(\"You can marry\")"
   ]
  },
  {
   "cell_type": "code",
   "execution_count": 11,
   "id": "3390701e",
   "metadata": {},
   "outputs": [],
   "source": [
    "# write a programm if_gender_male = True OR if_age_21 = True\n",
    "# then print(\"You can marry\")"
   ]
  },
  {
   "cell_type": "code",
   "execution_count": null,
   "id": "eae75637",
   "metadata": {},
   "outputs": [],
   "source": []
  },
  {
   "cell_type": "code",
   "execution_count": 13,
   "id": "8ad673ee",
   "metadata": {},
   "outputs": [],
   "source": [
    "## Take an input from user\n",
    "## and check if the number is odd or even"
   ]
  },
  {
   "cell_type": "code",
   "execution_count": null,
   "id": "8423890d",
   "metadata": {},
   "outputs": [],
   "source": []
  },
  {
   "cell_type": "markdown",
   "id": "b9af1a18",
   "metadata": {},
   "source": [
    "## While Loop"
   ]
  },
  {
   "cell_type": "markdown",
   "id": "fb439db5",
   "metadata": {},
   "source": [
    "Until a condition is true keep itertating"
   ]
  },
  {
   "cell_type": "markdown",
   "id": "df3e53f2",
   "metadata": {},
   "source": [
    "* Be carefull of infinte loop in WHILE loop"
   ]
  },
  {
   "cell_type": "code",
   "execution_count": null,
   "id": "ff774887",
   "metadata": {},
   "outputs": [],
   "source": [
    "i = 0\n",
    "while i < 20:\n",
    "    print(i)"
   ]
  },
  {
   "cell_type": "code",
   "execution_count": null,
   "id": "ebf5e2f3",
   "metadata": {},
   "outputs": [],
   "source": []
  },
  {
   "cell_type": "code",
   "execution_count": null,
   "id": "e6916dbf",
   "metadata": {},
   "outputs": [],
   "source": [
    "i = 0\n",
    "while i < 20:\n",
    "    print(i)\n",
    "    i = i + 1"
   ]
  },
  {
   "cell_type": "markdown",
   "id": "d70fb368",
   "metadata": {},
   "source": [
    "### Break and continue"
   ]
  },
  {
   "cell_type": "code",
   "execution_count": 6,
   "id": "d6cff854",
   "metadata": {},
   "outputs": [],
   "source": [
    "# Suppose I want my code to stop iterating when it reachs 10"
   ]
  },
  {
   "cell_type": "code",
   "execution_count": null,
   "id": "b5b8afcd",
   "metadata": {},
   "outputs": [],
   "source": [
    "i = 0\n",
    "while i < 20:\n",
    "    print(i)\n",
    "    i = i + 1\n",
    "    if i == 10:\n",
    "        break"
   ]
  },
  {
   "cell_type": "code",
   "execution_count": null,
   "id": "032eae47",
   "metadata": {},
   "outputs": [],
   "source": []
  },
  {
   "cell_type": "code",
   "execution_count": null,
   "id": "65e33050",
   "metadata": {},
   "outputs": [],
   "source": [
    "i = 0\n",
    "while i < 9:\n",
    "    i += 1\n",
    "    if i == 3:\n",
    "        continue\n",
    "    print(i)"
   ]
  },
  {
   "cell_type": "code",
   "execution_count": null,
   "id": "8d8694f7",
   "metadata": {},
   "outputs": [],
   "source": [
    "i = 0\n",
    "while i < 9:\n",
    "    i += 1\n",
    "    if i == 3:\n",
    "        break\n",
    "    print(i)"
   ]
  },
  {
   "cell_type": "code",
   "execution_count": null,
   "id": "b838a4e9",
   "metadata": {},
   "outputs": [],
   "source": []
  },
  {
   "cell_type": "markdown",
   "id": "9cb187fa",
   "metadata": {},
   "source": [
    "Q. Suppose I want to write a programm so that whenever you enter a negative number it break the loop else it will print the output"
   ]
  },
  {
   "cell_type": "code",
   "execution_count": null,
   "id": "9a294803",
   "metadata": {},
   "outputs": [],
   "source": [
    "while True:\n",
    "    number = int(input(\"Enter a number\"))\n",
    "    if number < 0:\n",
    "        break\n",
    "    print(f\"You entered : {number}\")"
   ]
  },
  {
   "cell_type": "code",
   "execution_count": null,
   "id": "27e8b750",
   "metadata": {},
   "outputs": [],
   "source": []
  },
  {
   "cell_type": "code",
   "execution_count": null,
   "id": "99ca625b",
   "metadata": {},
   "outputs": [],
   "source": [
    "while True:\n",
    "    number = int(input(\"Enter a number\"))\n",
    "    if number < 0:\n",
    "        continue\n",
    "    print(f\"You entered : {number}\")"
   ]
  },
  {
   "cell_type": "code",
   "execution_count": null,
   "id": "fa5428e9",
   "metadata": {},
   "outputs": [],
   "source": []
  },
  {
   "cell_type": "markdown",
   "id": "dcf7b9f1",
   "metadata": {},
   "source": [
    "Q. Write a programm so that all the languages are printed except \"C\""
   ]
  },
  {
   "cell_type": "code",
   "execution_count": null,
   "id": "27e404aa",
   "metadata": {},
   "outputs": [],
   "source": [
    "languages = [\"Python\",\"Java\",\"C\",\".net\",\"C++\"]"
   ]
  }
 ],
 "metadata": {
  "kernelspec": {
   "display_name": "Python 3",
   "language": "python",
   "name": "python3"
  },
  "language_info": {
   "codemirror_mode": {
    "name": "ipython",
    "version": 3
   },
   "file_extension": ".py",
   "mimetype": "text/x-python",
   "name": "python",
   "nbconvert_exporter": "python",
   "pygments_lexer": "ipython3",
   "version": "3.8.8"
  }
 },
 "nbformat": 4,
 "nbformat_minor": 5
}
