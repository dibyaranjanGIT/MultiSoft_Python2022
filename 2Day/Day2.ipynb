{
 "cells": [
  {
   "cell_type": "markdown",
   "id": "ac34088e",
   "metadata": {},
   "source": [
    "# Immutability"
   ]
  },
  {
   "cell_type": "code",
   "execution_count": null,
   "id": "125a3520",
   "metadata": {},
   "outputs": [],
   "source": [
    "name=\"Dibyaranjan\""
   ]
  },
  {
   "cell_type": "code",
   "execution_count": null,
   "id": "1e9720ff",
   "metadata": {},
   "outputs": [],
   "source": [
    "type(name)"
   ]
  },
  {
   "cell_type": "code",
   "execution_count": null,
   "id": "02e097d5",
   "metadata": {},
   "outputs": [],
   "source": [
    "print(name[0])"
   ]
  },
  {
   "cell_type": "code",
   "execution_count": null,
   "id": "9a15f19f",
   "metadata": {},
   "outputs": [],
   "source": [
    "name[0] = \"V\""
   ]
  },
  {
   "cell_type": "code",
   "execution_count": null,
   "id": "6fdfda0a",
   "metadata": {},
   "outputs": [],
   "source": [
    "name = \"Vibyaranjan\""
   ]
  },
  {
   "cell_type": "code",
   "execution_count": null,
   "id": "75e43b0e",
   "metadata": {},
   "outputs": [],
   "source": [
    "print(name)"
   ]
  },
  {
   "cell_type": "code",
   "execution_count": null,
   "id": "09d6e440",
   "metadata": {},
   "outputs": [],
   "source": [
    "name[0] = \"D\""
   ]
  },
  {
   "cell_type": "markdown",
   "id": "67311c97",
   "metadata": {},
   "source": [
    "## Built in Function"
   ]
  },
  {
   "cell_type": "code",
   "execution_count": null,
   "id": "3f5ee852",
   "metadata": {},
   "outputs": [],
   "source": [
    "print(len(\"Dibya\"))"
   ]
  },
  {
   "cell_type": "code",
   "execution_count": null,
   "id": "7c93c90b",
   "metadata": {},
   "outputs": [],
   "source": [
    "name=\"google.com\""
   ]
  },
  {
   "cell_type": "code",
   "execution_count": null,
   "id": "6db0ce9e",
   "metadata": {},
   "outputs": [],
   "source": [
    "name[0:6]"
   ]
  },
  {
   "cell_type": "code",
   "execution_count": null,
   "id": "04098286",
   "metadata": {},
   "outputs": [],
   "source": [
    "name=\"facebook.com\""
   ]
  },
  {
   "cell_type": "code",
   "execution_count": null,
   "id": "662353e2",
   "metadata": {},
   "outputs": [],
   "source": [
    "print(name)"
   ]
  },
  {
   "cell_type": "code",
   "execution_count": null,
   "id": "c1f09552",
   "metadata": {},
   "outputs": [],
   "source": [
    "name =\"BhabaniMukeshJiban.com\""
   ]
  },
  {
   "cell_type": "code",
   "execution_count": null,
   "id": "2a28e2af",
   "metadata": {},
   "outputs": [],
   "source": [
    "name[0:len(name)-4]"
   ]
  },
  {
   "cell_type": "code",
   "execution_count": null,
   "id": "125d4cda",
   "metadata": {},
   "outputs": [],
   "source": [
    "# Range function"
   ]
  },
  {
   "cell_type": "code",
   "execution_count": null,
   "id": "14ec8b61",
   "metadata": {},
   "outputs": [],
   "source": [
    "range(len(\"Dibyaranjan\"))"
   ]
  },
  {
   "cell_type": "markdown",
   "id": "eef931f5",
   "metadata": {},
   "source": [
    "## Mathmatical Operations"
   ]
  },
  {
   "cell_type": "code",
   "execution_count": null,
   "id": "dab72e8d",
   "metadata": {},
   "outputs": [],
   "source": [
    "# () * / + -"
   ]
  },
  {
   "cell_type": "code",
   "execution_count": null,
   "id": "456c6de3",
   "metadata": {},
   "outputs": [],
   "source": [
    "a = 35 / 5 * 2 + 5"
   ]
  },
  {
   "cell_type": "code",
   "execution_count": null,
   "id": "5e5ec719",
   "metadata": {},
   "outputs": [],
   "source": [
    "print(a)"
   ]
  },
  {
   "cell_type": "code",
   "execution_count": null,
   "id": "3b03d8a1",
   "metadata": {},
   "outputs": [],
   "source": [
    "print(10/5)"
   ]
  },
  {
   "cell_type": "code",
   "execution_count": null,
   "id": "04137557",
   "metadata": {},
   "outputs": [],
   "source": [
    "print(35/7)"
   ]
  },
  {
   "cell_type": "code",
   "execution_count": 1,
   "id": "2ca33769",
   "metadata": {},
   "outputs": [
    {
     "name": "stdout",
     "output_type": "stream",
     "text": [
      "0\n"
     ]
    }
   ],
   "source": [
    "print(10%2)"
   ]
  },
  {
   "cell_type": "code",
   "execution_count": 2,
   "id": "a25ff5f5",
   "metadata": {},
   "outputs": [],
   "source": [
    "a = 35 / 5 * (2 + 5)"
   ]
  },
  {
   "cell_type": "code",
   "execution_count": 3,
   "id": "7dbf5996",
   "metadata": {},
   "outputs": [
    {
     "name": "stdout",
     "output_type": "stream",
     "text": [
      "49.0\n"
     ]
    }
   ],
   "source": [
    "print(a)"
   ]
  },
  {
   "cell_type": "code",
   "execution_count": null,
   "id": "98b9dad2",
   "metadata": {},
   "outputs": [],
   "source": []
  },
  {
   "cell_type": "markdown",
   "id": "39dbf0f5",
   "metadata": {},
   "source": [
    "https://docs.python.org/3/library/functions.html"
   ]
  },
  {
   "cell_type": "markdown",
   "id": "82959e02",
   "metadata": {},
   "source": [
    "## Built in Methods"
   ]
  },
  {
   "cell_type": "markdown",
   "id": "8f2fd3b2",
   "metadata": {},
   "source": [
    "https://www.w3schools.com/python/python_ref_string.asp"
   ]
  },
  {
   "cell_type": "markdown",
   "id": "14749b4b",
   "metadata": {},
   "source": [
    "Methods can only be used for a specific Data Type or Class"
   ]
  },
  {
   "cell_type": "code",
   "execution_count": null,
   "id": "6254329c",
   "metadata": {},
   "outputs": [],
   "source": [
    "name = \"Dibyaranjan\""
   ]
  },
  {
   "cell_type": "code",
   "execution_count": null,
   "id": "50db1f08",
   "metadata": {},
   "outputs": [],
   "source": [
    "name.upper()"
   ]
  },
  {
   "cell_type": "code",
   "execution_count": null,
   "id": "b0d9e4fa",
   "metadata": {},
   "outputs": [],
   "source": [
    "myTuple = [\"John\", \"Peter\", \"Vicky\"]\n",
    "x = \"_\".join(myTuple)\n",
    "print(x)"
   ]
  },
  {
   "cell_type": "code",
   "execution_count": 4,
   "id": "fe5f7644",
   "metadata": {},
   "outputs": [
    {
     "name": "stdout",
     "output_type": "stream",
     "text": [
      "Help on built-in function len in module builtins:\n",
      "\n",
      "len(obj, /)\n",
      "    Return the number of items in a container.\n",
      "\n"
     ]
    }
   ],
   "source": [
    "help(len)"
   ]
  },
  {
   "cell_type": "code",
   "execution_count": null,
   "id": "eee49102",
   "metadata": {},
   "outputs": [],
   "source": [
    "help(type)"
   ]
  },
  {
   "cell_type": "code",
   "execution_count": null,
   "id": "ecdc002e",
   "metadata": {},
   "outputs": [],
   "source": [
    "help(name.join)"
   ]
  },
  {
   "cell_type": "code",
   "execution_count": null,
   "id": "3e744af2",
   "metadata": {},
   "outputs": [],
   "source": [
    "print(name)"
   ]
  },
  {
   "cell_type": "markdown",
   "id": "44b5b86f",
   "metadata": {},
   "source": [
    "# Booleans"
   ]
  },
  {
   "cell_type": "code",
   "execution_count": null,
   "id": "a6ec56a0",
   "metadata": {},
   "outputs": [],
   "source": [
    "is_good = True"
   ]
  },
  {
   "cell_type": "code",
   "execution_count": null,
   "id": "f7037a4a",
   "metadata": {},
   "outputs": [],
   "source": [
    "is_bad = False"
   ]
  },
  {
   "cell_type": "code",
   "execution_count": null,
   "id": "345663ea",
   "metadata": {},
   "outputs": [],
   "source": [
    "type(is_bad)"
   ]
  },
  {
   "cell_type": "markdown",
   "id": "233d3720",
   "metadata": {},
   "source": [
    "## Input Function"
   ]
  },
  {
   "cell_type": "code",
   "execution_count": null,
   "id": "b984c77d",
   "metadata": {},
   "outputs": [],
   "source": [
    "input(\"What is your name : \")"
   ]
  },
  {
   "cell_type": "markdown",
   "id": "9c38a4c6",
   "metadata": {},
   "source": [
    "To store this into a variable "
   ]
  },
  {
   "cell_type": "code",
   "execution_count": null,
   "id": "6b3b9365",
   "metadata": {},
   "outputs": [],
   "source": [
    "name = input(\"What is your name : \")"
   ]
  },
  {
   "cell_type": "code",
   "execution_count": null,
   "id": "7e3b61e0",
   "metadata": {},
   "outputs": [],
   "source": [
    "print(name)"
   ]
  },
  {
   "cell_type": "markdown",
   "id": "2a9812d8",
   "metadata": {},
   "source": [
    "Do this exercise in new notebook "
   ]
  },
  {
   "cell_type": "markdown",
   "id": "924b9ace",
   "metadata": {},
   "source": [
    "Next is take your age as input, store it in a variable my_age and add 5 to show your brother's or sister's age"
   ]
  },
  {
   "cell_type": "code",
   "execution_count": null,
   "id": "b7517973",
   "metadata": {},
   "outputs": [],
   "source": [
    "age=input(\"what is your age \")"
   ]
  },
  {
   "cell_type": "code",
   "execution_count": null,
   "id": "21f6c8e7",
   "metadata": {},
   "outputs": [],
   "source": [
    "print(age)"
   ]
  },
  {
   "cell_type": "code",
   "execution_count": null,
   "id": "e0ab7207",
   "metadata": {},
   "outputs": [],
   "source": [
    "print(type(age))"
   ]
  },
  {
   "cell_type": "code",
   "execution_count": null,
   "id": "6ace87fd",
   "metadata": {},
   "outputs": [],
   "source": [
    "print(int(age)+5)"
   ]
  },
  {
   "cell_type": "code",
   "execution_count": null,
   "id": "a70d360c",
   "metadata": {},
   "outputs": [],
   "source": []
  },
  {
   "cell_type": "markdown",
   "id": "2e9c4c1e",
   "metadata": {},
   "source": [
    "https://www.google.com/search?q=important+built+in+functions+in+python&sxsrf=ALiCzsZ6w975B_Sfl01H9Tl-rhFrMAshMQ%3A1660471017407&ei=6cb4Yra2GLq14-EP682ysAE&oq=important+build+in+f&gs_lcp=Cgxnd3Mtd2l6LXNlcnAQAxgAMgQIABANMgUIABCGAzIFCAAQhgMyBQgAEIYDMgUIABCGAzoKCC4QxwEQrwEQJzoECCMQJzoECAAQQzoLCAAQgAQQsQMQgwE6CAgAELEDEIMBOhEILhCABBCxAxCDARDHARDRAzoHCC4Q1AIQQzoICAAQgAQQsQM6BQgAEJECOgUIABCxAzoFCAAQgAQ6EAgAEIAEEIcCELEDEIMBEBQ6CggAEIAEEIcCEBQ6CAgAEIAEEMkDOggIABAeEA8QDToGCAAQHhAWOggIABAeEA8QFkoECEEYAEoECEYYAFAAWIAkYJouaABwAXgBgAHmA4gByCGSAQowLjE0LjQuMC4ymAEAoAEBwAEB&sclient=gws-wiz-serp"
   ]
  },
  {
   "cell_type": "markdown",
   "id": "5b9d4e33",
   "metadata": {},
   "source": [
    "## Commenting your code very often"
   ]
  },
  {
   "cell_type": "code",
   "execution_count": null,
   "id": "016d0e2e",
   "metadata": {},
   "outputs": [],
   "source": [
    "# below is my age \n",
    "my_age = input(\"Please give your age : \")"
   ]
  },
  {
   "cell_type": "code",
   "execution_count": null,
   "id": "c88d2767",
   "metadata": {},
   "outputs": [],
   "source": [
    "print(my_age)"
   ]
  },
  {
   "cell_type": "code",
   "execution_count": null,
   "id": "fed1bb80",
   "metadata": {},
   "outputs": [],
   "source": []
  },
  {
   "cell_type": "markdown",
   "id": "b3f80acb",
   "metadata": {},
   "source": [
    "## Exercise"
   ]
  },
  {
   "cell_type": "markdown",
   "id": "04f2a50d",
   "metadata": {},
   "source": [
    "## 1"
   ]
  },
  {
   "cell_type": "code",
   "execution_count": null,
   "id": "fa193b59",
   "metadata": {},
   "outputs": [],
   "source": [
    "# Name length checker"
   ]
  },
  {
   "cell_type": "code",
   "execution_count": null,
   "id": "16a03298",
   "metadata": {},
   "outputs": [],
   "source": [
    "full_name=input(\"what is your name \")"
   ]
  },
  {
   "cell_type": "code",
   "execution_count": null,
   "id": "f7a066c7",
   "metadata": {},
   "outputs": [],
   "source": [
    "print(full_name)"
   ]
  },
  {
   "cell_type": "code",
   "execution_count": null,
   "id": "ec4a2bd9",
   "metadata": {},
   "outputs": [],
   "source": [
    "user_name=input(\"what is your user name \")"
   ]
  },
  {
   "cell_type": "code",
   "execution_count": null,
   "id": "19a9039d",
   "metadata": {},
   "outputs": [],
   "source": [
    "password=input(\"what is your password\")"
   ]
  },
  {
   "cell_type": "code",
   "execution_count": null,
   "id": "0083f6bc",
   "metadata": {},
   "outputs": [],
   "source": [
    "clas=user_name+password"
   ]
  },
  {
   "cell_type": "code",
   "execution_count": null,
   "id": "8b23876f",
   "metadata": {},
   "outputs": [],
   "source": [
    "print(f\"year id and password is {clas}\")"
   ]
  },
  {
   "cell_type": "code",
   "execution_count": null,
   "id": "87ed6445",
   "metadata": {},
   "outputs": [],
   "source": [
    "print(len(full_name))"
   ]
  },
  {
   "cell_type": "markdown",
   "id": "7f754c3a",
   "metadata": {},
   "source": [
    "user_name = input(\"Enter your user name\")\n",
    "password = input(\"Enter your password\")\n",
    "\n",
    "print(Hey {user_name} your password is of length {len(password)})"
   ]
  },
  {
   "cell_type": "markdown",
   "id": "038a3de1",
   "metadata": {},
   "source": [
    "## 2"
   ]
  },
  {
   "cell_type": "markdown",
   "id": "5a81c0e6",
   "metadata": {},
   "source": [
    "a = input(\"a:\")\n",
    "b = input(\"b:\")\n",
    "\n",
    "Write a programm that switches values stored in the variables a and b"
   ]
  },
  {
   "cell_type": "code",
   "execution_count": null,
   "id": "970cfb05",
   "metadata": {},
   "outputs": [],
   "source": [
    "a = 10"
   ]
  },
  {
   "cell_type": "code",
   "execution_count": null,
   "id": "1cef61cb",
   "metadata": {},
   "outputs": [],
   "source": [
    "b=15"
   ]
  },
  {
   "cell_type": "code",
   "execution_count": null,
   "id": "648ee585",
   "metadata": {},
   "outputs": [],
   "source": [
    "print(a)"
   ]
  },
  {
   "cell_type": "code",
   "execution_count": null,
   "id": "e43e69aa",
   "metadata": {},
   "outputs": [],
   "source": [
    "print(b)"
   ]
  },
  {
   "cell_type": "code",
   "execution_count": null,
   "id": "3a6b0f4d",
   "metadata": {},
   "outputs": [],
   "source": []
  },
  {
   "cell_type": "code",
   "execution_count": null,
   "id": "bac150dc",
   "metadata": {},
   "outputs": [],
   "source": [
    "n=(\"a15_b10\")"
   ]
  },
  {
   "cell_type": "code",
   "execution_count": null,
   "id": "d03ee352",
   "metadata": {},
   "outputs": [],
   "source": [
    "print"
   ]
  },
  {
   "cell_type": "code",
   "execution_count": null,
   "id": "e086ae21",
   "metadata": {},
   "outputs": [],
   "source": []
  },
  {
   "cell_type": "code",
   "execution_count": null,
   "id": "99200087",
   "metadata": {},
   "outputs": [],
   "source": []
  },
  {
   "cell_type": "markdown",
   "id": "f4e2081b",
   "metadata": {},
   "source": [
    "## 4"
   ]
  },
  {
   "attachments": {
    "image.png": {
     "image/png": "[encoded data removed]"
    }
   },
   "cell_type": "markdown",
   "id": "5386853c",
   "metadata": {},
   "source": [
    "![image.png](attachment:image.png)"
   ]
  },
  {
   "cell_type": "markdown",
   "id": "ce2c1a99",
   "metadata": {},
   "source": [
    "## 5"
   ]
  },
  {
   "attachments": {
    "image.png": {
     "image/png": "[encoded data removed]"
    }
   },
   "cell_type": "markdown",
   "id": "e288fdb8",
   "metadata": {},
   "source": [
    "![image.png](attachment:image.png)"
   ]
  },
  {
   "cell_type": "markdown",
   "id": "b70a7fbf",
   "metadata": {},
   "source": [
    "## 6"
   ]
  },
  {
   "attachments": {
    "image.png": {
     "image/png": "[encoded data removed]"
    }
   },
   "cell_type": "markdown",
   "id": "ca7abe24",
   "metadata": {},
   "source": [
    "![image.png](attachment:image.png)"
   ]
  },
  {
   "cell_type": "markdown",
   "id": "2ab30124",
   "metadata": {},
   "source": [
    "# 7"
   ]
  },
  {
   "attachments": {
    "image.png": {
     "image/png": "[encoded data removed]"
    }
   },
   "cell_type": "markdown",
   "id": "1949a0cb",
   "metadata": {},
   "source": [
    "![image.png](attachment:image.png)"
   ]
  },
  {
   "cell_type": "markdown",
   "id": "d025b8fa",
   "metadata": {},
   "source": [
    "# 8"
   ]
  },
  {
   "attachments": {
    "image.png": {
     "image/png": "[encoded data removed]"
    }
   },
   "cell_type": "markdown",
   "id": "47a2c876",
   "metadata": {},
   "source": [
    "![image.png](attachment:image.png)"
   ]
  },
  {
   "cell_type": "markdown",
   "id": "dd467a08",
   "metadata": {},
   "source": [
    "## 9"
   ]
  },
  {
   "cell_type": "markdown",
   "id": "c426c2cc",
   "metadata": {},
   "source": [
    "### User name generator\n",
    "\n",
    "Ask for first name \n",
    "\n",
    "Ask for village you born in \n",
    "\n",
    "Ask for year of birth \n",
    "\n",
    "Concatenate all those and store it in a variable\n",
    "\n",
    "print that like Your user name is ___"
   ]
  },
  {
   "cell_type": "code",
   "execution_count": null,
   "id": "7101c2ca",
   "metadata": {},
   "outputs": [],
   "source": []
  }
 ],
 "metadata": {
  "kernelspec": {
   "display_name": "Python 3",
   "language": "python",
   "name": "python3"
  },
  "language_info": {
   "codemirror_mode": {
    "name": "ipython",
    "version": 3
   },
   "file_extension": ".py",
   "mimetype": "text/x-python",
   "name": "python",
   "nbconvert_exporter": "python",
   "pygments_lexer": "ipython3",
   "version": "3.8.8"
  }
 },
 "nbformat": 4,
 "nbformat_minor": 5
}
