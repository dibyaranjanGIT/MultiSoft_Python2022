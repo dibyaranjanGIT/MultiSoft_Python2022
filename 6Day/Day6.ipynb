{
 "cells": [
  {
   "cell_type": "markdown",
   "id": "8de6df34",
   "metadata": {},
   "source": [
    "## Random Function"
   ]
  },
  {
   "cell_type": "code",
   "execution_count": null,
   "id": "0e9a3506",
   "metadata": {},
   "outputs": [],
   "source": []
  },
  {
   "cell_type": "code",
   "execution_count": 1,
   "id": "8d3b80a3",
   "metadata": {},
   "outputs": [],
   "source": [
    "## Exception handling with Try Except "
   ]
  },
  {
   "cell_type": "code",
   "execution_count": null,
   "id": "41fbf0fa",
   "metadata": {},
   "outputs": [],
   "source": []
  }
 ],
 "metadata": {
  "kernelspec": {
   "display_name": "Python 3",
   "language": "python",
   "name": "python3"
  },
  "language_info": {
   "codemirror_mode": {
    "name": "ipython",
    "version": 3
   },
   "file_extension": ".py",
   "mimetype": "text/x-python",
   "name": "python",
   "nbconvert_exporter": "python",
   "pygments_lexer": "ipython3",
   "version": "3.8.8"
  }
 },
 "nbformat": 4,
 "nbformat_minor": 5
}
