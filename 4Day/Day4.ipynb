{
 "cells": [
  {
   "cell_type": "markdown",
   "id": "e254d06f",
   "metadata": {},
   "source": [
    "# Important Keyword and Function in Python"
   ]
  },
  {
   "cell_type": "markdown",
   "id": "52dd56f1",
   "metadata": {},
   "source": [
    "## keywords in python "
   ]
  },
  {
   "cell_type": "code",
   "execution_count": null,
   "id": "942a5722",
   "metadata": {},
   "outputs": [],
   "source": [
    "# in keyword"
   ]
  },
  {
   "cell_type": "markdown",
   "id": "192cd5ab",
   "metadata": {},
   "source": [
    "“in” Keyword:\n",
    "The in keyword has two purposes:\n",
    "\n",
    "To check if a value is present in a list, tuple, range, string, etc.\n",
    "\n",
    "To iterate through a sequence in a for loop."
   ]
  },
  {
   "cell_type": "code",
   "execution_count": null,
   "id": "c476cb9f",
   "metadata": {},
   "outputs": [],
   "source": [
    "numbers = [1,2,3,4]"
   ]
  },
  {
   "cell_type": "code",
   "execution_count": null,
   "id": "5e34779a",
   "metadata": {},
   "outputs": [],
   "source": [
    "print(1 in numbers)"
   ]
  },
  {
   "cell_type": "code",
   "execution_count": null,
   "id": "393ce39e",
   "metadata": {},
   "outputs": [],
   "source": [
    "print(5 in numbers)"
   ]
  },
  {
   "cell_type": "code",
   "execution_count": null,
   "id": "4f657124",
   "metadata": {},
   "outputs": [],
   "source": [
    "aplhabets=['a','b','c']"
   ]
  },
  {
   "cell_type": "code",
   "execution_count": null,
   "id": "e45e2bd2",
   "metadata": {},
   "outputs": [],
   "source": [
    "print('a' in aplhabets)"
   ]
  },
  {
   "cell_type": "markdown",
   "id": "49795c9c",
   "metadata": {},
   "source": [
    "### is keyword"
   ]
  },
  {
   "cell_type": "markdown",
   "id": "c7220fae",
   "metadata": {},
   "source": [
    "The “is keyword” is used to test whether two variables belong to the same object."
   ]
  },
  {
   "cell_type": "code",
   "execution_count": null,
   "id": "1bda3b90",
   "metadata": {},
   "outputs": [],
   "source": [
    "x = [\"apple\", \"banana\", \"cherry\"]\n",
    "y = x"
   ]
  },
  {
   "cell_type": "code",
   "execution_count": null,
   "id": "c15e419f",
   "metadata": {},
   "outputs": [],
   "source": [
    "print(y is x)"
   ]
  },
  {
   "cell_type": "code",
   "execution_count": null,
   "id": "b9c3c4c5",
   "metadata": {},
   "outputs": [],
   "source": [
    "print(x is y)"
   ]
  },
  {
   "cell_type": "code",
   "execution_count": null,
   "id": "c811e5a1",
   "metadata": {},
   "outputs": [],
   "source": [
    "print(id(x))"
   ]
  },
  {
   "cell_type": "code",
   "execution_count": null,
   "id": "8fae2451",
   "metadata": {},
   "outputs": [],
   "source": [
    "print(id(y))"
   ]
  },
  {
   "cell_type": "code",
   "execution_count": null,
   "id": "e2adeb93",
   "metadata": {},
   "outputs": [],
   "source": [
    "b = ['a','b']"
   ]
  },
  {
   "cell_type": "code",
   "execution_count": null,
   "id": "f526d337",
   "metadata": {},
   "outputs": [],
   "source": [
    "print(id(b))"
   ]
  },
  {
   "cell_type": "code",
   "execution_count": null,
   "id": "3ec19b70",
   "metadata": {},
   "outputs": [],
   "source": [
    "a = [\"apple\", \"banana\", \"cherry\"]\n",
    "\n",
    "b = [\"apple\", \"banana\", \"cherry\"]\n",
    "\n",
    "print(a is b)"
   ]
  },
  {
   "cell_type": "code",
   "execution_count": null,
   "id": "7c60d9b0",
   "metadata": {},
   "outputs": [],
   "source": [
    "print(id(a))"
   ]
  },
  {
   "cell_type": "code",
   "execution_count": null,
   "id": "422d0740",
   "metadata": {},
   "outputs": [],
   "source": [
    "print(id(b))"
   ]
  },
  {
   "cell_type": "markdown",
   "id": "330e2bf9",
   "metadata": {},
   "source": [
    "**Everything is in Python treated as an object, including variable, function, list, tuple, dictionary, set, int etc. Every object belongs to its class. For example - An integer variable belongs to integer class.**"
   ]
  },
  {
   "cell_type": "code",
   "execution_count": null,
   "id": "d99bce48",
   "metadata": {},
   "outputs": [],
   "source": [
    "num = 10"
   ]
  },
  {
   "cell_type": "code",
   "execution_count": null,
   "id": "31ddbb6b",
   "metadata": {},
   "outputs": [],
   "source": [
    "print(type(num))"
   ]
  },
  {
   "cell_type": "markdown",
   "id": "7eb484c0",
   "metadata": {},
   "source": [
    "### Comparison and Logical operators"
   ]
  },
  {
   "cell_type": "code",
   "execution_count": null,
   "id": "7cab7dd4",
   "metadata": {},
   "outputs": [],
   "source": [
    "'''\n",
    "\n",
    ">   Greater than\n",
    "<   Lesser than \n",
    "==  Equal to\n",
    "!=  Not equal to\n",
    ">=  Greater than or equal to\n",
    "<=  Lesser than or equal to\n",
    "and \n",
    "or \n",
    "not \n",
    "\n",
    "'''"
   ]
  },
  {
   "cell_type": "code",
   "execution_count": null,
   "id": "ef8ded07",
   "metadata": {},
   "outputs": [],
   "source": [
    "num1 = 2"
   ]
  },
  {
   "cell_type": "code",
   "execution_count": null,
   "id": "2d71bc56",
   "metadata": {},
   "outputs": [],
   "source": [
    "num2 = 3"
   ]
  },
  {
   "cell_type": "code",
   "execution_count": null,
   "id": "501c0838",
   "metadata": {},
   "outputs": [],
   "source": [
    "print(num1 > num2)"
   ]
  },
  {
   "cell_type": "code",
   "execution_count": null,
   "id": "3ea27093",
   "metadata": {},
   "outputs": [],
   "source": [
    "print(num1 < num2)"
   ]
  },
  {
   "cell_type": "code",
   "execution_count": null,
   "id": "d977732b",
   "metadata": {},
   "outputs": [],
   "source": [
    "print(num1 == num2)"
   ]
  },
  {
   "cell_type": "code",
   "execution_count": null,
   "id": "1a53411d",
   "metadata": {},
   "outputs": [],
   "source": [
    "print(num1 > 1 and num2 > 2)"
   ]
  },
  {
   "cell_type": "code",
   "execution_count": null,
   "id": "cf46317b",
   "metadata": {},
   "outputs": [],
   "source": [
    "num1 = -1\n",
    "num2 = 10"
   ]
  },
  {
   "cell_type": "code",
   "execution_count": null,
   "id": "3853e887",
   "metadata": {},
   "outputs": [],
   "source": [
    "print(not(True))"
   ]
  },
  {
   "cell_type": "code",
   "execution_count": null,
   "id": "3fc55cee",
   "metadata": {},
   "outputs": [],
   "source": [
    "print(False and True)"
   ]
  },
  {
   "cell_type": "code",
   "execution_count": null,
   "id": "e140befd",
   "metadata": {},
   "outputs": [],
   "source": [
    "print(not(num1 > 1 and num2 > 2))"
   ]
  },
  {
   "cell_type": "code",
   "execution_count": null,
   "id": "7d7233be",
   "metadata": {},
   "outputs": [],
   "source": [
    "print(num1 > 4 or num2 > 2)"
   ]
  },
  {
   "cell_type": "code",
   "execution_count": null,
   "id": "09766cda",
   "metadata": {},
   "outputs": [],
   "source": [
    "print(not(num1 > 1 and num2 > 2))"
   ]
  },
  {
   "cell_type": "code",
   "execution_count": null,
   "id": "e094f57a",
   "metadata": {},
   "outputs": [],
   "source": [
    "a = 11\n",
    "b = 10"
   ]
  },
  {
   "cell_type": "code",
   "execution_count": null,
   "id": "9836d533",
   "metadata": {},
   "outputs": [],
   "source": [
    "print(a >= b)"
   ]
  },
  {
   "cell_type": "code",
   "execution_count": null,
   "id": "8b1ea3b8",
   "metadata": {},
   "outputs": [],
   "source": [
    "a = 21\n",
    "b = 22"
   ]
  },
  {
   "cell_type": "code",
   "execution_count": null,
   "id": "a44dc974",
   "metadata": {},
   "outputs": [],
   "source": [
    "print(b <= a)"
   ]
  },
  {
   "cell_type": "markdown",
   "id": "b2f3d1d7",
   "metadata": {},
   "source": [
    "## Important functions/methods"
   ]
  },
  {
   "cell_type": "code",
   "execution_count": null,
   "id": "dd5f41c8",
   "metadata": {},
   "outputs": [],
   "source": [
    "# range function"
   ]
  },
  {
   "cell_type": "markdown",
   "id": "35f97a01",
   "metadata": {},
   "source": [
    "**Range function creates a sequence of numbers, it is commonly used in for loops to run the loop a certain number of time**"
   ]
  },
  {
   "cell_type": "code",
   "execution_count": null,
   "id": "53b90b9a",
   "metadata": {},
   "outputs": [],
   "source": [
    "help(range)"
   ]
  },
  {
   "cell_type": "code",
   "execution_count": null,
   "id": "cbee457e",
   "metadata": {},
   "outputs": [],
   "source": [
    "print(range(1,10))"
   ]
  },
  {
   "cell_type": "code",
   "execution_count": null,
   "id": "690dc29a",
   "metadata": {},
   "outputs": [],
   "source": [
    "print(range(10))"
   ]
  },
  {
   "cell_type": "markdown",
   "id": "51299e20",
   "metadata": {},
   "source": [
    "## For Loop"
   ]
  },
  {
   "cell_type": "markdown",
   "id": "5109f170",
   "metadata": {},
   "source": [
    "**For loops are used when you have a block of code which you want to repeat a fixed number of times. The for-loop is always used in combination with an iterable object, like a list , tuple, set, dictionary or a range function**"
   ]
  },
  {
   "attachments": {},
   "cell_type": "markdown",
   "id": "f07f4a6a",
   "metadata": {},
   "source": [
    "**for loop is also just a programming function that iterates a statement or a number of statements based on specific boundaries under certain defined conditions, which are the loop's basis.**"
   ]
  },
  {
   "cell_type": "markdown",
   "id": "f4d7bb4e",
   "metadata": {},
   "source": [
    "If an object has __iter__ dunder method then it's an iterable object"
   ]
  },
  {
   "cell_type": "code",
   "execution_count": null,
   "id": "24e35a6d",
   "metadata": {},
   "outputs": [],
   "source": [
    "numbers=[1,2]"
   ]
  },
  {
   "cell_type": "code",
   "execution_count": null,
   "id": "a02ab4e2",
   "metadata": {},
   "outputs": [],
   "source": [
    "dir(numbers)"
   ]
  },
  {
   "cell_type": "code",
   "execution_count": null,
   "id": "eb4b41f1",
   "metadata": {
    "scrolled": true
   },
   "outputs": [],
   "source": [
    "num = 10\n",
    "dir(num)"
   ]
  },
  {
   "cell_type": "code",
   "execution_count": null,
   "id": "d563dc38",
   "metadata": {},
   "outputs": [],
   "source": [
    "# Syntax for using for loop\n",
    "for x in range(0,10):\n",
    "    print(x)"
   ]
  },
  {
   "cell_type": "markdown",
   "id": "4d436c6d",
   "metadata": {},
   "source": [
    "**I can take any other variable instead of x**"
   ]
  },
  {
   "cell_type": "code",
   "execution_count": null,
   "id": "a23bbfad",
   "metadata": {},
   "outputs": [],
   "source": [
    "for i in range(10):\n",
    "    print(i)"
   ]
  },
  {
   "cell_type": "code",
   "execution_count": null,
   "id": "be62d0cc",
   "metadata": {},
   "outputs": [],
   "source": [
    "for i in range(0,10,2):\n",
    "    print(i)"
   ]
  },
  {
   "cell_type": "code",
   "execution_count": null,
   "id": "13e14f67",
   "metadata": {},
   "outputs": [],
   "source": [
    "# If I want to apply some operation on top of it"
   ]
  },
  {
   "cell_type": "code",
   "execution_count": null,
   "id": "9d5946cf",
   "metadata": {},
   "outputs": [],
   "source": [
    "for i in range(10):\n",
    "    print(i * 2)"
   ]
  },
  {
   "cell_type": "code",
   "execution_count": null,
   "id": "47c7362c",
   "metadata": {},
   "outputs": [],
   "source": [
    "for i in range(10):\n",
    "    print('Dibya')\n",
    "    #print(i)"
   ]
  },
  {
   "cell_type": "code",
   "execution_count": null,
   "id": "afccadae",
   "metadata": {},
   "outputs": [],
   "source": [
    "for i in range(10):\n",
    "    print(\"Bhabani\")"
   ]
  },
  {
   "cell_type": "code",
   "execution_count": null,
   "id": "b6f487d5",
   "metadata": {},
   "outputs": [],
   "source": [
    "for item in ['a','b','c']:\n",
    "    print(item)"
   ]
  },
  {
   "cell_type": "code",
   "execution_count": null,
   "id": "a48af224",
   "metadata": {},
   "outputs": [],
   "source": [
    "for i in ('a','b','c'):\n",
    "    print(i)"
   ]
  },
  {
   "cell_type": "code",
   "execution_count": null,
   "id": "bfa4c226",
   "metadata": {},
   "outputs": [],
   "source": [
    "for i in \"Bhabani\":\n",
    "    print(i)"
   ]
  },
  {
   "cell_type": "code",
   "execution_count": null,
   "id": "b7170278",
   "metadata": {},
   "outputs": [],
   "source": []
  },
  {
   "cell_type": "markdown",
   "id": "71615d63",
   "metadata": {},
   "source": [
    "**Indentation**"
   ]
  },
  {
   "cell_type": "code",
   "execution_count": null,
   "id": "3bf6883a",
   "metadata": {},
   "outputs": [],
   "source": [
    "# What will be the output of the following statement?"
   ]
  },
  {
   "cell_type": "code",
   "execution_count": null,
   "id": "e2220315",
   "metadata": {},
   "outputs": [],
   "source": [
    "for x in range(0,10,-1):\n",
    "print(x)"
   ]
  },
  {
   "cell_type": "code",
   "execution_count": null,
   "id": "0fe4d708",
   "metadata": {},
   "outputs": [],
   "source": [
    "for x in range(10,0,-1):\n",
    "    print(x)"
   ]
  },
  {
   "cell_type": "markdown",
   "id": "a1cce259",
   "metadata": {},
   "source": [
    "## list type conversion"
   ]
  },
  {
   "cell_type": "markdown",
   "id": "39f3892e",
   "metadata": {},
   "source": [
    "list() : This function is used to convert any data type to a list type."
   ]
  },
  {
   "cell_type": "code",
   "execution_count": null,
   "id": "c3feaee5",
   "metadata": {},
   "outputs": [],
   "source": [
    "num = 10"
   ]
  },
  {
   "cell_type": "code",
   "execution_count": null,
   "id": "88190f55",
   "metadata": {},
   "outputs": [],
   "source": [
    "num_str = str(num)"
   ]
  },
  {
   "cell_type": "code",
   "execution_count": null,
   "id": "41753fae",
   "metadata": {},
   "outputs": [],
   "source": [
    "print(type(num_str))"
   ]
  },
  {
   "cell_type": "code",
   "execution_count": null,
   "id": "c5c3a651",
   "metadata": {},
   "outputs": [],
   "source": [
    "name = 'hello'"
   ]
  },
  {
   "cell_type": "code",
   "execution_count": null,
   "id": "ca2a9995",
   "metadata": {},
   "outputs": [],
   "source": [
    "list(name)"
   ]
  },
  {
   "cell_type": "code",
   "execution_count": null,
   "id": "9493ea95",
   "metadata": {},
   "outputs": [],
   "source": [
    "print(list(range(11)))"
   ]
  },
  {
   "cell_type": "markdown",
   "id": "27e5a281",
   "metadata": {},
   "source": [
    "### ZIP Funciton"
   ]
  },
  {
   "cell_type": "markdown",
   "id": "409a5ccf",
   "metadata": {},
   "source": [
    "zip() function takes iterable or containers and returns a single iterator object"
   ]
  },
  {
   "cell_type": "code",
   "execution_count": null,
   "id": "73713f3f",
   "metadata": {},
   "outputs": [],
   "source": [
    "num_list = [1,2,3,4]\n",
    "str_list = ['one','two','three','four']"
   ]
  },
  {
   "cell_type": "code",
   "execution_count": null,
   "id": "6eae5c2d",
   "metadata": {},
   "outputs": [],
   "source": [
    "result = zip(num_list,str_list)"
   ]
  },
  {
   "cell_type": "code",
   "execution_count": null,
   "id": "6a9e6ad3",
   "metadata": {},
   "outputs": [],
   "source": [
    "print(result)"
   ]
  },
  {
   "cell_type": "code",
   "execution_count": null,
   "id": "9373dd5a",
   "metadata": {},
   "outputs": [],
   "source": [
    "print(list(result))"
   ]
  },
  {
   "cell_type": "markdown",
   "id": "10fa35e6",
   "metadata": {},
   "source": [
    "**Q. Use for loop to print the above**"
   ]
  },
  {
   "cell_type": "markdown",
   "id": "9367ce59",
   "metadata": {},
   "source": [
    "### join function"
   ]
  },
  {
   "cell_type": "markdown",
   "id": "5c913030",
   "metadata": {},
   "source": [
    "The join() function lets you merge string items in a list.\n",
    "\n",
    "You only need to specify a delimiter and the target list to use it:"
   ]
  },
  {
   "cell_type": "code",
   "execution_count": null,
   "id": "e87ee33d",
   "metadata": {},
   "outputs": [],
   "source": [
    "a = [\"Python\", \"tutorial\", \"on\", \"MUO\"]\n",
    "a = \" \".join(a)"
   ]
  },
  {
   "cell_type": "code",
   "execution_count": null,
   "id": "eb9e1edd",
   "metadata": {},
   "outputs": [],
   "source": [
    "print(a)"
   ]
  },
  {
   "cell_type": "code",
   "execution_count": null,
   "id": "67c8e512",
   "metadata": {},
   "outputs": [],
   "source": [
    "a = [\"Python\", \"tutorial\", \"on\", \"MUO\"]\n",
    "a = \"-\".join(a)"
   ]
  },
  {
   "cell_type": "code",
   "execution_count": null,
   "id": "9ad592a2",
   "metadata": {},
   "outputs": [],
   "source": [
    "print(a)"
   ]
  },
  {
   "cell_type": "markdown",
   "id": "d8c55c10",
   "metadata": {},
   "source": [
    "### enumerate function"
   ]
  },
  {
   "cell_type": "code",
   "execution_count": null,
   "id": "f6c68206",
   "metadata": {},
   "outputs": [],
   "source": [
    "help(enumerate)"
   ]
  },
  {
   "cell_type": "code",
   "execution_count": null,
   "id": "458f9945",
   "metadata": {},
   "outputs": [],
   "source": [
    "print(list(enumerate(range(5))))"
   ]
  },
  {
   "cell_type": "code",
   "execution_count": null,
   "id": "ae440394",
   "metadata": {},
   "outputs": [],
   "source": [
    "l1 = [\"eat\", \"sleep\", \"repeat\"]"
   ]
  },
  {
   "cell_type": "code",
   "execution_count": null,
   "id": "3c7b69d2",
   "metadata": {},
   "outputs": [],
   "source": [
    "print(list(enumerate(l1)))"
   ]
  },
  {
   "cell_type": "code",
   "execution_count": null,
   "id": "afaf6429",
   "metadata": {},
   "outputs": [],
   "source": [
    "# How to write this using for loop"
   ]
  },
  {
   "cell_type": "code",
   "execution_count": null,
   "id": "c82eb538",
   "metadata": {},
   "outputs": [],
   "source": [
    "for item in enumerate(l1):\n",
    "    print(item)"
   ]
  },
  {
   "cell_type": "markdown",
   "id": "26a12ee6",
   "metadata": {},
   "source": [
    "### .split method"
   ]
  },
  {
   "cell_type": "markdown",
   "id": "61d43b92",
   "metadata": {},
   "source": [
    "**The split() method splits a string into a list.**"
   ]
  },
  {
   "cell_type": "code",
   "execution_count": null,
   "id": "5f7a2eff",
   "metadata": {},
   "outputs": [],
   "source": [
    " txt = \"welcome to,th,-jungle\"\n",
    "\n",
    "x = txt.split(',')\n",
    "\n",
    "print(x)"
   ]
  },
  {
   "cell_type": "markdown",
   "id": "e69a4404",
   "metadata": {},
   "source": [
    "### List comprehension"
   ]
  },
  {
   "cell_type": "code",
   "execution_count": null,
   "id": "3d7edd3d",
   "metadata": {},
   "outputs": [],
   "source": []
  },
  {
   "cell_type": "markdown",
   "id": "6ce6a3d7",
   "metadata": {},
   "source": [
    "**Python List comprehension provides a much more short syntax for creating a new list based on the values of an existing list.**"
   ]
  },
  {
   "cell_type": "markdown",
   "id": "402a0f0c",
   "metadata": {},
   "source": [
    "**Syntax**\n",
    "*The syntax of the Python programming language is the set of rules that defines how a Python program will be written and interpreted, so that it can be easily understood by human and machine*"
   ]
  },
  {
   "cell_type": "markdown",
   "id": "7a4d473a",
   "metadata": {},
   "source": [
    "**newList = [ expression(element) for element in oldList if (condition) ]**"
   ]
  },
  {
   "cell_type": "code",
   "execution_count": 279,
   "id": "30f11279",
   "metadata": {},
   "outputs": [],
   "source": [
    "num = []\n",
    "for i in range(2,6):\n",
    "    num.append(i)"
   ]
  },
  {
   "cell_type": "code",
   "execution_count": 280,
   "id": "d161732d",
   "metadata": {},
   "outputs": [
    {
     "name": "stdout",
     "output_type": "stream",
     "text": [
      "[2, 3, 4, 5]\n"
     ]
    }
   ],
   "source": [
    "print(num)"
   ]
  },
  {
   "cell_type": "code",
   "execution_count": 282,
   "id": "fc682786",
   "metadata": {},
   "outputs": [],
   "source": [
    "num_li = [i for i in range(2,6)]"
   ]
  },
  {
   "cell_type": "code",
   "execution_count": 283,
   "id": "c69e7320",
   "metadata": {},
   "outputs": [
    {
     "name": "stdout",
     "output_type": "stream",
     "text": [
      "[2, 3, 4, 5]\n"
     ]
    }
   ],
   "source": [
    "print(num_li)"
   ]
  },
  {
   "cell_type": "code",
   "execution_count": null,
   "id": "aa5418fb",
   "metadata": {},
   "outputs": [],
   "source": [
    "num_list = [item for item in [1, 2, 3]]\n",
    "print(num_list)"
   ]
  },
  {
   "cell_type": "code",
   "execution_count": null,
   "id": "36c23ffc",
   "metadata": {},
   "outputs": [],
   "source": [
    "num_list = [item*2 for item in [1, 2, 3]]\n",
    "print(num_list)"
   ]
  },
  {
   "cell_type": "code",
   "execution_count": null,
   "id": "196598e3",
   "metadata": {},
   "outputs": [],
   "source": [
    "num_list = [item**2 for item in [1, 2, 3]]\n",
    "print(li)"
   ]
  },
  {
   "cell_type": "code",
   "execution_count": 284,
   "id": "286d25b5",
   "metadata": {},
   "outputs": [],
   "source": [
    "# You can also pass an if condition while creating a new list"
   ]
  },
  {
   "cell_type": "code",
   "execution_count": null,
   "id": "b560bbd6",
   "metadata": {},
   "outputs": [],
   "source": [
    "even_number = [i for i in range(11) if (i % 2 == 0)]"
   ]
  },
  {
   "cell_type": "code",
   "execution_count": null,
   "id": "11cbc115",
   "metadata": {},
   "outputs": [],
   "source": [
    "print(even_number)"
   ]
  },
  {
   "cell_type": "code",
   "execution_count": 296,
   "id": "951761e9",
   "metadata": {},
   "outputs": [],
   "source": [
    "## Can you create a dictionary comprehension "
   ]
  },
  {
   "cell_type": "code",
   "execution_count": 293,
   "id": "d335e1e7",
   "metadata": {},
   "outputs": [],
   "source": [
    "old_dict = {'one':1,'two':2,'three':3}"
   ]
  },
  {
   "cell_type": "markdown",
   "id": "9e47c086",
   "metadata": {},
   "source": [
    "### A nested list is a list within a list"
   ]
  },
  {
   "cell_type": "code",
   "execution_count": null,
   "id": "6e18b5f0",
   "metadata": {},
   "outputs": [],
   "source": [
    "nestedList = [1, 2, ['a', 1], ['b',[1,2,3,45]],3]"
   ]
  },
  {
   "cell_type": "code",
   "execution_count": null,
   "id": "a819b0e9",
   "metadata": {},
   "outputs": [],
   "source": [
    "print(nestedList[3][1][3])"
   ]
  },
  {
   "cell_type": "code",
   "execution_count": null,
   "id": "b80f9b52",
   "metadata": {},
   "outputs": [],
   "source": [
    "print(element)"
   ]
  },
  {
   "cell_type": "code",
   "execution_count": null,
   "id": "bf08f27d",
   "metadata": {},
   "outputs": [],
   "source": []
  },
  {
   "cell_type": "markdown",
   "id": "b147eabe",
   "metadata": {},
   "source": [
    "# Question"
   ]
  },
  {
   "cell_type": "markdown",
   "id": "93b91135",
   "metadata": {},
   "source": [
    "Q. Creats a new list using list comprehension which will contain all fruits except kiwi"
   ]
  },
  {
   "cell_type": "code",
   "execution_count": null,
   "id": "4eaca6b2",
   "metadata": {},
   "outputs": [],
   "source": [
    "fruits = ['apple','banana','cherry','mango','kiwi']"
   ]
  },
  {
   "cell_type": "markdown",
   "id": "4ce9fe83",
   "metadata": {},
   "source": [
    "Q. What is the output of the below ?"
   ]
  },
  {
   "cell_type": "code",
   "execution_count": null,
   "id": "3403c592",
   "metadata": {},
   "outputs": [],
   "source": [
    "for item in [1,2,3,4]:\n",
    "    print(item)\n",
    "    print(item)\n",
    "    print(item)\n",
    " "
   ]
  },
  {
   "cell_type": "markdown",
   "id": "93a5eb91",
   "metadata": {},
   "source": [
    "Q. What is the output of the below ?"
   ]
  },
  {
   "cell_type": "code",
   "execution_count": null,
   "id": "f1245e75",
   "metadata": {},
   "outputs": [],
   "source": [
    "for item in [1,2,3,4]:\n",
    "    for x in ['a','b','c']:\n",
    "        print(x)"
   ]
  },
  {
   "cell_type": "markdown",
   "id": "a493dc01",
   "metadata": {},
   "source": [
    "Q. What is the output of the below ?"
   ]
  },
  {
   "cell_type": "code",
   "execution_count": null,
   "id": "d4fe7063",
   "metadata": {},
   "outputs": [],
   "source": [
    "for item in [1,2,3]:\n",
    "    for x in ['a','b','c']:\n",
    "        print(item)\n",
    "    print(x)"
   ]
  },
  {
   "cell_type": "markdown",
   "id": "32a64fce",
   "metadata": {},
   "source": [
    "Q. Unpack the below list"
   ]
  },
  {
   "cell_type": "code",
   "execution_count": null,
   "id": "ef56beec",
   "metadata": {},
   "outputs": [],
   "source": [
    "num_list = [1,2,3]"
   ]
  },
  {
   "cell_type": "code",
   "execution_count": null,
   "id": "a07ac975",
   "metadata": {},
   "outputs": [],
   "source": [
    "a,b,c=num_list"
   ]
  },
  {
   "cell_type": "code",
   "execution_count": null,
   "id": "bfedba56",
   "metadata": {},
   "outputs": [],
   "source": []
  },
  {
   "cell_type": "code",
   "execution_count": null,
   "id": "1b0765e1",
   "metadata": {},
   "outputs": [],
   "source": [
    "li = [1,2,3]"
   ]
  },
  {
   "cell_type": "code",
   "execution_count": null,
   "id": "e3b7fba1",
   "metadata": {},
   "outputs": [],
   "source": [
    "li[::-1]"
   ]
  },
  {
   "cell_type": "markdown",
   "id": "37b626bb",
   "metadata": {},
   "source": [
    "Q. Use negative index to find the last two items from the tupple"
   ]
  },
  {
   "cell_type": "code",
   "execution_count": null,
   "id": "b91c36df",
   "metadata": {},
   "outputs": [],
   "source": [
    "name = ['Jiban','Tinu','Bhabani']"
   ]
  },
  {
   "cell_type": "code",
   "execution_count": null,
   "id": "86362293",
   "metadata": {},
   "outputs": [],
   "source": [
    "name[::]"
   ]
  },
  {
   "cell_type": "code",
   "execution_count": null,
   "id": "464fc429",
   "metadata": {},
   "outputs": [],
   "source": []
  },
  {
   "cell_type": "code",
   "execution_count": null,
   "id": "d04c1d1c",
   "metadata": {},
   "outputs": [],
   "source": []
  },
  {
   "cell_type": "markdown",
   "id": "9b305240",
   "metadata": {},
   "source": [
    "## ** Setup Pycharm for coding **"
   ]
  },
  {
   "cell_type": "code",
   "execution_count": null,
   "id": "a5ed1343",
   "metadata": {},
   "outputs": [],
   "source": []
  }
 ],
 "metadata": {
  "kernelspec": {
   "display_name": "Python 3",
   "language": "python",
   "name": "python3"
  },
  "language_info": {
   "codemirror_mode": {
    "name": "ipython",
    "version": 3
   },
   "file_extension": ".py",
   "mimetype": "text/x-python",
   "name": "python",
   "nbconvert_exporter": "python",
   "pygments_lexer": "ipython3",
   "version": "3.8.8"
  }
 },
 "nbformat": 4,
 "nbformat_minor": 5
}
