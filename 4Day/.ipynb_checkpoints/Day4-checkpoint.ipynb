{
 "cells": [
  {
   "cell_type": "markdown",
   "id": "e254d06f",
   "metadata": {},
   "source": [
    "# IMportant Keyword and FUnction in Python"
   ]
  },
  {
   "cell_type": "markdown",
   "id": "52dd56f1",
   "metadata": {},
   "source": [
    "## keywords in python "
   ]
  },
  {
   "cell_type": "code",
   "execution_count": null,
   "id": "942a5722",
   "metadata": {},
   "outputs": [],
   "source": [
    "# in keyword"
   ]
  },
  {
   "cell_type": "markdown",
   "id": "3f133f34",
   "metadata": {},
   "source": [
    "“in” Keyword:\n",
    "The in keyword has two purposes:\n",
    "\n",
    "To check if a value is present in a list, tuple, range, string, etc.\n",
    "\n",
    "To iterate through a sequence in a for loop."
   ]
  },
  {
   "cell_type": "code",
   "execution_count": 19,
   "id": "bf3f5c9c",
   "metadata": {},
   "outputs": [],
   "source": [
    "numbers = [1,2,3,4]"
   ]
  },
  {
   "cell_type": "code",
   "execution_count": 20,
   "id": "5e34779a",
   "metadata": {},
   "outputs": [
    {
     "name": "stdout",
     "output_type": "stream",
     "text": [
      "True\n"
     ]
    }
   ],
   "source": [
    "print(1 in numbers)"
   ]
  },
  {
   "cell_type": "code",
   "execution_count": 21,
   "id": "15015cb7",
   "metadata": {},
   "outputs": [
    {
     "name": "stdout",
     "output_type": "stream",
     "text": [
      "False\n"
     ]
    }
   ],
   "source": [
    "print(5 in numbers)"
   ]
  },
  {
   "cell_type": "code",
   "execution_count": 22,
   "id": "4b52666c",
   "metadata": {},
   "outputs": [],
   "source": [
    "aplhabets=['a','b','c']"
   ]
  },
  {
   "cell_type": "code",
   "execution_count": 23,
   "id": "0acd439e",
   "metadata": {},
   "outputs": [
    {
     "name": "stdout",
     "output_type": "stream",
     "text": [
      "True\n"
     ]
    }
   ],
   "source": [
    "print('a' in aplhabets)"
   ]
  },
  {
   "cell_type": "code",
   "execution_count": 1,
   "id": "f278ec2b",
   "metadata": {},
   "outputs": [],
   "source": [
    "# is keyword"
   ]
  },
  {
   "cell_type": "markdown",
   "id": "4c54e7fa",
   "metadata": {},
   "source": [
    "The “is keyword” is used to test whether two variables belong to the same object."
   ]
  },
  {
   "cell_type": "code",
   "execution_count": 29,
   "id": "1bda3b90",
   "metadata": {},
   "outputs": [],
   "source": [
    "# x = [\"apple\", \"banana\", \"cherry\"]\n",
    "# y = x\n",
    "\n",
    "y = [\"apple\", \"banana\", \"cherry\"]\n",
    "x = y"
   ]
  },
  {
   "cell_type": "code",
   "execution_count": 31,
   "id": "b0954a5d",
   "metadata": {},
   "outputs": [
    {
     "name": "stdout",
     "output_type": "stream",
     "text": [
      "True\n"
     ]
    }
   ],
   "source": [
    "print(y is x)"
   ]
  },
  {
   "cell_type": "code",
   "execution_count": 26,
   "id": "3ec19b70",
   "metadata": {},
   "outputs": [
    {
     "name": "stdout",
     "output_type": "stream",
     "text": [
      "False\n"
     ]
    }
   ],
   "source": [
    "x = [\"apple\", \"banana\", \"cherry\"]\n",
    "\n",
    "y = [\"apple\", \"banana\", \"cherry\"]\n",
    "\n",
    "print(x is y)"
   ]
  },
  {
   "cell_type": "markdown",
   "id": "d77c3976",
   "metadata": {},
   "source": [
    "Everything is in Python treated as an object, including variable, function, list, tuple, dictionary, set, int etc. Every object belongs to its class. For example - An integer variable belongs to integer class."
   ]
  },
  {
   "cell_type": "code",
   "execution_count": 27,
   "id": "d99bce48",
   "metadata": {},
   "outputs": [],
   "source": [
    "num = 10"
   ]
  },
  {
   "cell_type": "code",
   "execution_count": 33,
   "id": "f243e9d6",
   "metadata": {},
   "outputs": [
    {
     "name": "stdout",
     "output_type": "stream",
     "text": [
      "<class 'int'>\n"
     ]
    }
   ],
   "source": [
    "print(type(num))"
   ]
  },
  {
   "cell_type": "markdown",
   "id": "7eb484c0",
   "metadata": {},
   "source": [
    "### Comparison and Logical operators"
   ]
  },
  {
   "cell_type": "code",
   "execution_count": 51,
   "id": "7cab7dd4",
   "metadata": {},
   "outputs": [],
   "source": [
    "'''\n",
    "\n",
    ">   Greater than\n",
    "<   Lesser than \n",
    "==  Equal to\n",
    "!=  Not equal to\n",
    ">=  Greater than or equal to\n",
    "<=  Lesser than or equal to\n",
    "and \n",
    "or \n",
    "not \n",
    "\n",
    "'''"
   ]
  },
  {
   "cell_type": "code",
   "execution_count": 34,
   "id": "ef8ded07",
   "metadata": {},
   "outputs": [],
   "source": [
    "num1 = 2"
   ]
  },
  {
   "cell_type": "code",
   "execution_count": 35,
   "id": "2d71bc56",
   "metadata": {},
   "outputs": [],
   "source": [
    "num2 = 3"
   ]
  },
  {
   "cell_type": "code",
   "execution_count": 36,
   "id": "501c0838",
   "metadata": {},
   "outputs": [
    {
     "name": "stdout",
     "output_type": "stream",
     "text": [
      "False\n"
     ]
    }
   ],
   "source": [
    "print(num1 > num2)"
   ]
  },
  {
   "cell_type": "code",
   "execution_count": 37,
   "id": "3ea27093",
   "metadata": {},
   "outputs": [
    {
     "name": "stdout",
     "output_type": "stream",
     "text": [
      "True\n"
     ]
    }
   ],
   "source": [
    "print(num1 < num2)"
   ]
  },
  {
   "cell_type": "code",
   "execution_count": 38,
   "id": "d977732b",
   "metadata": {},
   "outputs": [
    {
     "name": "stdout",
     "output_type": "stream",
     "text": [
      "False\n"
     ]
    }
   ],
   "source": [
    "print(num1 == num2)"
   ]
  },
  {
   "cell_type": "code",
   "execution_count": 39,
   "id": "1a53411d",
   "metadata": {},
   "outputs": [
    {
     "name": "stdout",
     "output_type": "stream",
     "text": [
      "True\n"
     ]
    }
   ],
   "source": [
    "print(num1 > 1 and num2 > 2)"
   ]
  },
  {
   "cell_type": "code",
   "execution_count": 40,
   "id": "e140befd",
   "metadata": {},
   "outputs": [
    {
     "name": "stdout",
     "output_type": "stream",
     "text": [
      "True\n"
     ]
    }
   ],
   "source": [
    "print(num1 > 1 or num2 > 2)"
   ]
  },
  {
   "cell_type": "code",
   "execution_count": 41,
   "id": "47890beb",
   "metadata": {},
   "outputs": [
    {
     "name": "stdout",
     "output_type": "stream",
     "text": [
      "True\n"
     ]
    }
   ],
   "source": [
    "print(num1 > 4 or num2 > 2)"
   ]
  },
  {
   "cell_type": "code",
   "execution_count": null,
   "id": "09766cda",
   "metadata": {},
   "outputs": [],
   "source": [
    "print(not(num1 > 1 and num2 > 2))"
   ]
  },
  {
   "cell_type": "code",
   "execution_count": 44,
   "id": "711e8961",
   "metadata": {},
   "outputs": [
    {
     "ename": "SyntaxError",
     "evalue": "expression cannot contain assignment, perhaps you meant \"==\"? (<ipython-input-44-8783ff60ed9b>, line 1)",
     "output_type": "error",
     "traceback": [
      "\u001b[1;36m  File \u001b[1;32m\"<ipython-input-44-8783ff60ed9b>\"\u001b[1;36m, line \u001b[1;32m1\u001b[0m\n\u001b[1;33m    print('a' = 'b')\u001b[0m\n\u001b[1;37m          ^\u001b[0m\n\u001b[1;31mSyntaxError\u001b[0m\u001b[1;31m:\u001b[0m expression cannot contain assignment, perhaps you meant \"==\"?\n"
     ]
    }
   ],
   "source": [
    "print('a' = 'b')"
   ]
  },
  {
   "cell_type": "code",
   "execution_count": 48,
   "id": "f4d8ad32",
   "metadata": {},
   "outputs": [],
   "source": [
    "a = 11\n",
    "b = 10"
   ]
  },
  {
   "cell_type": "code",
   "execution_count": 49,
   "id": "cf0c7ece",
   "metadata": {},
   "outputs": [
    {
     "name": "stdout",
     "output_type": "stream",
     "text": [
      "True\n"
     ]
    }
   ],
   "source": [
    "print(a >= b)"
   ]
  },
  {
   "cell_type": "code",
   "execution_count": 51,
   "id": "8cad02f2",
   "metadata": {},
   "outputs": [],
   "source": [
    "a = 21\n",
    "b = 22"
   ]
  },
  {
   "cell_type": "code",
   "execution_count": 52,
   "id": "24d9e2ac",
   "metadata": {},
   "outputs": [
    {
     "name": "stdout",
     "output_type": "stream",
     "text": [
      "False\n"
     ]
    }
   ],
   "source": [
    "print(b <= a)"
   ]
  },
  {
   "cell_type": "markdown",
   "id": "b2f3d1d7",
   "metadata": {},
   "source": [
    "## Important functions/methods"
   ]
  },
  {
   "cell_type": "code",
   "execution_count": null,
   "id": "dd5f41c8",
   "metadata": {},
   "outputs": [],
   "source": [
    "# range function"
   ]
  },
  {
   "cell_type": "markdown",
   "id": "88a48f0f",
   "metadata": {},
   "source": [
    "**Range function creates a sequence of numbers, it is commonly used in for loops to run the loop a certain number of time**"
   ]
  },
  {
   "cell_type": "code",
   "execution_count": 53,
   "id": "b1285165",
   "metadata": {},
   "outputs": [
    {
     "name": "stdout",
     "output_type": "stream",
     "text": [
      "Help on class range in module builtins:\n",
      "\n",
      "class range(object)\n",
      " |  range(stop) -> range object\n",
      " |  range(start, stop[, step]) -> range object\n",
      " |  \n",
      " |  Return an object that produces a sequence of integers from start (inclusive)\n",
      " |  to stop (exclusive) by step.  range(i, j) produces i, i+1, i+2, ..., j-1.\n",
      " |  start defaults to 0, and stop is omitted!  range(4) produces 0, 1, 2, 3.\n",
      " |  These are exactly the valid indices for a list of 4 elements.\n",
      " |  When step is given, it specifies the increment (or decrement).\n",
      " |  \n",
      " |  Methods defined here:\n",
      " |  \n",
      " |  __bool__(self, /)\n",
      " |      self != 0\n",
      " |  \n",
      " |  __contains__(self, key, /)\n",
      " |      Return key in self.\n",
      " |  \n",
      " |  __eq__(self, value, /)\n",
      " |      Return self==value.\n",
      " |  \n",
      " |  __ge__(self, value, /)\n",
      " |      Return self>=value.\n",
      " |  \n",
      " |  __getattribute__(self, name, /)\n",
      " |      Return getattr(self, name).\n",
      " |  \n",
      " |  __getitem__(self, key, /)\n",
      " |      Return self[key].\n",
      " |  \n",
      " |  __gt__(self, value, /)\n",
      " |      Return self>value.\n",
      " |  \n",
      " |  __hash__(self, /)\n",
      " |      Return hash(self).\n",
      " |  \n",
      " |  __iter__(self, /)\n",
      " |      Implement iter(self).\n",
      " |  \n",
      " |  __le__(self, value, /)\n",
      " |      Return self<=value.\n",
      " |  \n",
      " |  __len__(self, /)\n",
      " |      Return len(self).\n",
      " |  \n",
      " |  __lt__(self, value, /)\n",
      " |      Return self<value.\n",
      " |  \n",
      " |  __ne__(self, value, /)\n",
      " |      Return self!=value.\n",
      " |  \n",
      " |  __reduce__(...)\n",
      " |      Helper for pickle.\n",
      " |  \n",
      " |  __repr__(self, /)\n",
      " |      Return repr(self).\n",
      " |  \n",
      " |  __reversed__(...)\n",
      " |      Return a reverse iterator.\n",
      " |  \n",
      " |  count(...)\n",
      " |      rangeobject.count(value) -> integer -- return number of occurrences of value\n",
      " |  \n",
      " |  index(...)\n",
      " |      rangeobject.index(value) -> integer -- return index of value.\n",
      " |      Raise ValueError if the value is not present.\n",
      " |  \n",
      " |  ----------------------------------------------------------------------\n",
      " |  Static methods defined here:\n",
      " |  \n",
      " |  __new__(*args, **kwargs) from builtins.type\n",
      " |      Create and return a new object.  See help(type) for accurate signature.\n",
      " |  \n",
      " |  ----------------------------------------------------------------------\n",
      " |  Data descriptors defined here:\n",
      " |  \n",
      " |  start\n",
      " |  \n",
      " |  step\n",
      " |  \n",
      " |  stop\n",
      "\n"
     ]
    }
   ],
   "source": [
    "help(range)"
   ]
  },
  {
   "cell_type": "code",
   "execution_count": 54,
   "id": "eec50501",
   "metadata": {},
   "outputs": [
    {
     "name": "stdout",
     "output_type": "stream",
     "text": [
      "range(1, 10)\n"
     ]
    }
   ],
   "source": [
    "print(range(1,10))"
   ]
  },
  {
   "cell_type": "code",
   "execution_count": 55,
   "id": "690dc29a",
   "metadata": {},
   "outputs": [
    {
     "name": "stdout",
     "output_type": "stream",
     "text": [
      "range(0, 10)\n"
     ]
    }
   ],
   "source": [
    "print(range(10))"
   ]
  },
  {
   "cell_type": "markdown",
   "id": "f4f47ec1",
   "metadata": {},
   "source": [
    "## For Loop"
   ]
  },
  {
   "cell_type": "markdown",
   "id": "5109f170",
   "metadata": {},
   "source": [
    "**For loops are used when you have a block of code which you want to repeat a fixed number of times. The for-loop is always used in combination with an iterable object, like a list , tuple, set, dictionary or a range function**"
   ]
  },
  {
   "cell_type": "markdown",
   "id": "11b405e8",
   "metadata": {},
   "source": [
    "**Anything through which we can iterate over are iterable objects .\n",
    "Lists, tuples, dictionaries, and sets are all iterable objects.**"
   ]
  },
  {
   "cell_type": "markdown",
   "id": "b65d9a52",
   "metadata": {},
   "source": [
    "*You can use for loop to iterate over any object which is a collection of item or stores value using index or key value pair*"
   ]
  },
  {
   "cell_type": "markdown",
   "id": "a4e1f576",
   "metadata": {},
   "source": [
    "If an object has __iter__ dunder method then it's an iterable object"
   ]
  },
  {
   "cell_type": "code",
   "execution_count": 56,
   "id": "bce599c9",
   "metadata": {},
   "outputs": [],
   "source": [
    "numbers=[1,2]"
   ]
  },
  {
   "cell_type": "code",
   "execution_count": 57,
   "id": "c90574dc",
   "metadata": {},
   "outputs": [
    {
     "data": {
      "text/plain": [
       "['__add__',\n",
       " '__class__',\n",
       " '__contains__',\n",
       " '__delattr__',\n",
       " '__delitem__',\n",
       " '__dir__',\n",
       " '__doc__',\n",
       " '__eq__',\n",
       " '__format__',\n",
       " '__ge__',\n",
       " '__getattribute__',\n",
       " '__getitem__',\n",
       " '__gt__',\n",
       " '__hash__',\n",
       " '__iadd__',\n",
       " '__imul__',\n",
       " '__init__',\n",
       " '__init_subclass__',\n",
       " '__iter__',\n",
       " '__le__',\n",
       " '__len__',\n",
       " '__lt__',\n",
       " '__mul__',\n",
       " '__ne__',\n",
       " '__new__',\n",
       " '__reduce__',\n",
       " '__reduce_ex__',\n",
       " '__repr__',\n",
       " '__reversed__',\n",
       " '__rmul__',\n",
       " '__setattr__',\n",
       " '__setitem__',\n",
       " '__sizeof__',\n",
       " '__str__',\n",
       " '__subclasshook__',\n",
       " 'append',\n",
       " 'clear',\n",
       " 'copy',\n",
       " 'count',\n",
       " 'extend',\n",
       " 'index',\n",
       " 'insert',\n",
       " 'pop',\n",
       " 'remove',\n",
       " 'reverse',\n",
       " 'sort']"
      ]
     },
     "execution_count": 57,
     "metadata": {},
     "output_type": "execute_result"
    }
   ],
   "source": [
    "dir(numbers)"
   ]
  },
  {
   "cell_type": "code",
   "execution_count": null,
   "id": "56755854",
   "metadata": {},
   "outputs": [],
   "source": [
    "#"
   ]
  },
  {
   "cell_type": "code",
   "execution_count": 58,
   "id": "8ef16d03",
   "metadata": {
    "scrolled": true
   },
   "outputs": [
    {
     "data": {
      "text/plain": [
       "['__abs__',\n",
       " '__add__',\n",
       " '__and__',\n",
       " '__bool__',\n",
       " '__ceil__',\n",
       " '__class__',\n",
       " '__delattr__',\n",
       " '__dir__',\n",
       " '__divmod__',\n",
       " '__doc__',\n",
       " '__eq__',\n",
       " '__float__',\n",
       " '__floor__',\n",
       " '__floordiv__',\n",
       " '__format__',\n",
       " '__ge__',\n",
       " '__getattribute__',\n",
       " '__getnewargs__',\n",
       " '__gt__',\n",
       " '__hash__',\n",
       " '__index__',\n",
       " '__init__',\n",
       " '__init_subclass__',\n",
       " '__int__',\n",
       " '__invert__',\n",
       " '__le__',\n",
       " '__lshift__',\n",
       " '__lt__',\n",
       " '__mod__',\n",
       " '__mul__',\n",
       " '__ne__',\n",
       " '__neg__',\n",
       " '__new__',\n",
       " '__or__',\n",
       " '__pos__',\n",
       " '__pow__',\n",
       " '__radd__',\n",
       " '__rand__',\n",
       " '__rdivmod__',\n",
       " '__reduce__',\n",
       " '__reduce_ex__',\n",
       " '__repr__',\n",
       " '__rfloordiv__',\n",
       " '__rlshift__',\n",
       " '__rmod__',\n",
       " '__rmul__',\n",
       " '__ror__',\n",
       " '__round__',\n",
       " '__rpow__',\n",
       " '__rrshift__',\n",
       " '__rshift__',\n",
       " '__rsub__',\n",
       " '__rtruediv__',\n",
       " '__rxor__',\n",
       " '__setattr__',\n",
       " '__sizeof__',\n",
       " '__str__',\n",
       " '__sub__',\n",
       " '__subclasshook__',\n",
       " '__truediv__',\n",
       " '__trunc__',\n",
       " '__xor__',\n",
       " 'as_integer_ratio',\n",
       " 'bit_length',\n",
       " 'conjugate',\n",
       " 'denominator',\n",
       " 'from_bytes',\n",
       " 'imag',\n",
       " 'numerator',\n",
       " 'real',\n",
       " 'to_bytes']"
      ]
     },
     "execution_count": 58,
     "metadata": {},
     "output_type": "execute_result"
    }
   ],
   "source": [
    "num = 10\n",
    "dir(num)"
   ]
  },
  {
   "cell_type": "code",
   "execution_count": 59,
   "id": "d563dc38",
   "metadata": {},
   "outputs": [
    {
     "name": "stdout",
     "output_type": "stream",
     "text": [
      "0\n",
      "1\n",
      "2\n",
      "3\n",
      "4\n",
      "5\n",
      "6\n",
      "7\n",
      "8\n",
      "9\n"
     ]
    }
   ],
   "source": [
    "for x in range(0,10):\n",
    "    print(x)"
   ]
  },
  {
   "cell_type": "markdown",
   "id": "4d436c6d",
   "metadata": {},
   "source": [
    "**instead of x, I can take any other variable as i**"
   ]
  },
  {
   "cell_type": "code",
   "execution_count": 63,
   "id": "222c9492",
   "metadata": {},
   "outputs": [
    {
     "name": "stdout",
     "output_type": "stream",
     "text": [
      "0\n",
      "1\n",
      "2\n",
      "3\n",
      "4\n",
      "5\n",
      "6\n",
      "7\n",
      "8\n",
      "9\n"
     ]
    }
   ],
   "source": [
    "for i in range(10):\n",
    "    print(i)"
   ]
  },
  {
   "cell_type": "code",
   "execution_count": null,
   "id": "3df1f067",
   "metadata": {},
   "outputs": [],
   "source": []
  },
  {
   "cell_type": "code",
   "execution_count": 60,
   "id": "be62d0cc",
   "metadata": {},
   "outputs": [
    {
     "name": "stdout",
     "output_type": "stream",
     "text": [
      "0\n",
      "2\n",
      "4\n",
      "6\n",
      "8\n"
     ]
    }
   ],
   "source": [
    "for i in range(0,10,2):\n",
    "    print(i)"
   ]
  },
  {
   "cell_type": "markdown",
   "id": "71615d63",
   "metadata": {},
   "source": [
    "### Keep in mind the indentation"
   ]
  },
  {
   "cell_type": "code",
   "execution_count": 29,
   "id": "3bf6883a",
   "metadata": {},
   "outputs": [],
   "source": [
    "# What will be the output of the following statement?"
   ]
  },
  {
   "cell_type": "code",
   "execution_count": 66,
   "id": "e2220315",
   "metadata": {},
   "outputs": [
    {
     "name": "stdout",
     "output_type": "stream",
     "text": [
      "0\n",
      "1\n",
      "2\n",
      "3\n",
      "4\n",
      "5\n",
      "6\n",
      "7\n",
      "8\n",
      "9\n"
     ]
    }
   ],
   "source": [
    "for x in range(0,10,1):\n",
    "    print(x)"
   ]
  },
  {
   "cell_type": "code",
   "execution_count": 68,
   "id": "0fe4d708",
   "metadata": {},
   "outputs": [],
   "source": [
    "for x in range(10,0,-1):\n",
    "    print(x)"
   ]
  },
  {
   "cell_type": "code",
   "execution_count": null,
   "id": "191007b0",
   "metadata": {},
   "outputs": [],
   "source": [
    "# replace method"
   ]
  },
  {
   "cell_type": "code",
   "execution_count": 3,
   "id": "16201842",
   "metadata": {},
   "outputs": [],
   "source": [
    "name = \"Dibyaranjan Jena\""
   ]
  },
  {
   "cell_type": "code",
   "execution_count": null,
   "id": "b0a19ad9",
   "metadata": {},
   "outputs": [],
   "source": [
    "print(name.replace(\"J\",\"X\"))"
   ]
  },
  {
   "cell_type": "code",
   "execution_count": null,
   "id": "62528738",
   "metadata": {},
   "outputs": [],
   "source": [
    "# list type conversion"
   ]
  },
  {
   "cell_type": "markdown",
   "id": "032edcf6",
   "metadata": {},
   "source": [
    "list() : This function is used to convert any data type to a list type."
   ]
  },
  {
   "cell_type": "code",
   "execution_count": 73,
   "id": "c5c3a651",
   "metadata": {},
   "outputs": [],
   "source": [
    "name = 'hello'"
   ]
  },
  {
   "cell_type": "code",
   "execution_count": 70,
   "id": "ca2a9995",
   "metadata": {},
   "outputs": [
    {
     "data": {
      "text/plain": [
       "['h', 'e', 'l', 'l', 'o']"
      ]
     },
     "execution_count": 70,
     "metadata": {},
     "output_type": "execute_result"
    }
   ],
   "source": [
    "list(name)"
   ]
  },
  {
   "cell_type": "code",
   "execution_count": 74,
   "id": "31dea3a3",
   "metadata": {},
   "outputs": [
    {
     "name": "stdout",
     "output_type": "stream",
     "text": [
      "h\n"
     ]
    }
   ],
   "source": [
    "a = 123\n",
    "print(name[0])"
   ]
  },
  {
   "cell_type": "code",
   "execution_count": 76,
   "id": "6fcabf49",
   "metadata": {},
   "outputs": [
    {
     "name": "stdout",
     "output_type": "stream",
     "text": [
      "[0, 1, 2, 3, 4, 5, 6, 7, 8, 9, 10]\n"
     ]
    }
   ],
   "source": [
    "print(list(range(11)))"
   ]
  },
  {
   "cell_type": "code",
   "execution_count": null,
   "id": "803d783d",
   "metadata": {},
   "outputs": [],
   "source": []
  },
  {
   "cell_type": "code",
   "execution_count": null,
   "id": "09252328",
   "metadata": {},
   "outputs": [],
   "source": []
  },
  {
   "cell_type": "code",
   "execution_count": null,
   "id": "33355ba9",
   "metadata": {},
   "outputs": [],
   "source": []
  },
  {
   "cell_type": "code",
   "execution_count": null,
   "id": "c6736608",
   "metadata": {},
   "outputs": [],
   "source": []
  },
  {
   "cell_type": "code",
   "execution_count": null,
   "id": "ee9d3014",
   "metadata": {},
   "outputs": [],
   "source": []
  },
  {
   "cell_type": "code",
   "execution_count": null,
   "id": "deff80d3",
   "metadata": {},
   "outputs": [],
   "source": []
  },
  {
   "cell_type": "code",
   "execution_count": null,
   "id": "333032a1",
   "metadata": {},
   "outputs": [],
   "source": []
  },
  {
   "cell_type": "code",
   "execution_count": null,
   "id": "d39e4b4c",
   "metadata": {},
   "outputs": [],
   "source": []
  },
  {
   "cell_type": "code",
   "execution_count": null,
   "id": "95d043a3",
   "metadata": {},
   "outputs": [],
   "source": []
  },
  {
   "cell_type": "code",
   "execution_count": null,
   "id": "15c5d3b4",
   "metadata": {},
   "outputs": [],
   "source": [
    "# join function"
   ]
  },
  {
   "cell_type": "markdown",
   "id": "5c913030",
   "metadata": {},
   "source": [
    "The join() function lets you merge string items in a list.\n",
    "\n",
    "You only need to specify a delimiter and the target list to use it:"
   ]
  },
  {
   "cell_type": "code",
   "execution_count": null,
   "id": "e87ee33d",
   "metadata": {},
   "outputs": [],
   "source": [
    "a = [\"Python\", \"tutorial\", \"on\", \"MUO\"]\n",
    "a = \" \".join(a)"
   ]
  },
  {
   "cell_type": "code",
   "execution_count": null,
   "id": "eb9e1edd",
   "metadata": {},
   "outputs": [],
   "source": [
    "print(a)"
   ]
  },
  {
   "cell_type": "code",
   "execution_count": null,
   "id": "67c8e512",
   "metadata": {},
   "outputs": [],
   "source": [
    "a = [\"Python\", \"tutorial\", \"on\", \"MUO\"]\n",
    "a = \"-\".join(a)"
   ]
  },
  {
   "cell_type": "code",
   "execution_count": 4,
   "id": "4359285b",
   "metadata": {},
   "outputs": [],
   "source": [
    "# enumerate functino"
   ]
  },
  {
   "cell_type": "code",
   "execution_count": null,
   "id": "c2f3e356",
   "metadata": {},
   "outputs": [],
   "source": [
    "help(enumerate)"
   ]
  },
  {
   "cell_type": "code",
   "execution_count": null,
   "id": "458f9945",
   "metadata": {},
   "outputs": [],
   "source": [
    "print(list(enumerate(range(10))))"
   ]
  },
  {
   "cell_type": "code",
   "execution_count": 40,
   "id": "ae440394",
   "metadata": {},
   "outputs": [],
   "source": [
    "l1 = [\"eat\", \"sleep\", \"repeat\"]"
   ]
  },
  {
   "cell_type": "code",
   "execution_count": null,
   "id": "3c7b69d2",
   "metadata": {},
   "outputs": [],
   "source": [
    "print(list(enumerate(l1)))"
   ]
  },
  {
   "cell_type": "code",
   "execution_count": 37,
   "id": "afaf6429",
   "metadata": {},
   "outputs": [],
   "source": [
    "# How to write this using for loop"
   ]
  },
  {
   "cell_type": "code",
   "execution_count": null,
   "id": "c82eb538",
   "metadata": {},
   "outputs": [],
   "source": [
    "for item in enumerate(l1):\n",
    "    print(item)"
   ]
  },
  {
   "cell_type": "code",
   "execution_count": null,
   "id": "b9b90700",
   "metadata": {},
   "outputs": [],
   "source": []
  },
  {
   "cell_type": "code",
   "execution_count": 2,
   "id": "8f897bef",
   "metadata": {},
   "outputs": [],
   "source": [
    "# .split method"
   ]
  },
  {
   "cell_type": "markdown",
   "id": "61d43b92",
   "metadata": {},
   "source": [
    "The split() method splits a string into a list."
   ]
  },
  {
   "cell_type": "code",
   "execution_count": null,
   "id": "5f7a2eff",
   "metadata": {},
   "outputs": [],
   "source": [
    "txt = \"welcome to the jungle\"\n",
    "\n",
    "x = txt.split()\n",
    "\n",
    "print(x)"
   ]
  },
  {
   "cell_type": "markdown",
   "id": "e69a4404",
   "metadata": {},
   "source": [
    "### List comprehension"
   ]
  },
  {
   "cell_type": "markdown",
   "id": "6ce6a3d7",
   "metadata": {},
   "source": [
    "**Python List comprehension provides a much more short syntax for creating a new list based on the values of an existing list.**"
   ]
  },
  {
   "cell_type": "markdown",
   "id": "df30b133",
   "metadata": {},
   "source": [
    "*The syntax of the Python programming language is the set of rules that defines how a Python program will be written and interpreted, so that it can be easily understood by human and machine*"
   ]
  },
  {
   "cell_type": "markdown",
   "id": "7a4d473a",
   "metadata": {},
   "source": [
    "**newList = [ expression(element) for element in oldList if condition ]**"
   ]
  },
  {
   "cell_type": "code",
   "execution_count": null,
   "id": "aa5418fb",
   "metadata": {},
   "outputs": [],
   "source": [
    "li = [character for character in [1, 2, 3]]\n",
    "print(li)"
   ]
  },
  {
   "cell_type": "code",
   "execution_count": 10,
   "id": "fce3f68b",
   "metadata": {},
   "outputs": [],
   "source": [
    "li = [character*2 for character in [1, 2, 3]]\n",
    "print(li)"
   ]
  },
  {
   "cell_type": "code",
   "execution_count": null,
   "id": "565c3327",
   "metadata": {},
   "outputs": [],
   "source": [
    "li = [character**2 for character in [1, 2, 3]]\n",
    "print(li)"
   ]
  },
  {
   "cell_type": "code",
   "execution_count": null,
   "id": "91d711ba",
   "metadata": {},
   "outputs": [],
   "source": [
    "li = [i for i in range(11)]"
   ]
  },
  {
   "cell_type": "code",
   "execution_count": null,
   "id": "286d25b5",
   "metadata": {},
   "outputs": [],
   "source": [
    "print(li)"
   ]
  },
  {
   "cell_type": "code",
   "execution_count": null,
   "id": "b560bbd6",
   "metadata": {},
   "outputs": [],
   "source": [
    "li = [i for i in range(11) if i % 2 == 0]"
   ]
  },
  {
   "cell_type": "code",
   "execution_count": null,
   "id": "11cbc115",
   "metadata": {},
   "outputs": [],
   "source": [
    "print(li)"
   ]
  },
  {
   "cell_type": "markdown",
   "id": "9e47c086",
   "metadata": {},
   "source": [
    "### A nested list is a list within a list"
   ]
  },
  {
   "cell_type": "code",
   "execution_count": null,
   "id": "6e18b5f0",
   "metadata": {},
   "outputs": [],
   "source": [
    "nestedList = [1, 2, ['a', 1], 3]"
   ]
  },
  {
   "cell_type": "code",
   "execution_count": null,
   "id": "a819b0e9",
   "metadata": {},
   "outputs": [],
   "source": [
    "subList = nestedList[2]"
   ]
  },
  {
   "cell_type": "code",
   "execution_count": null,
   "id": "64b12754",
   "metadata": {},
   "outputs": [],
   "source": [
    "element = nestedList[2][0]"
   ]
  },
  {
   "cell_type": "code",
   "execution_count": null,
   "id": "b80f9b52",
   "metadata": {},
   "outputs": [],
   "source": [
    "print(element)"
   ]
  },
  {
   "cell_type": "code",
   "execution_count": null,
   "id": "bf08f27d",
   "metadata": {},
   "outputs": [],
   "source": []
  },
  {
   "cell_type": "markdown",
   "id": "b147eabe",
   "metadata": {},
   "source": [
    "# Question"
   ]
  },
  {
   "cell_type": "markdown",
   "id": "93b91135",
   "metadata": {},
   "source": [
    "Q. Creats a new list using list comprehension which will contain all fruits except kiwi"
   ]
  },
  {
   "cell_type": "code",
   "execution_count": null,
   "id": "4eaca6b2",
   "metadata": {},
   "outputs": [],
   "source": [
    "fruits = ['apple','banana','cherry','mango','kiwi']"
   ]
  },
  {
   "cell_type": "markdown",
   "id": "4ce9fe83",
   "metadata": {},
   "source": [
    "Q. What is the output of the below ?"
   ]
  },
  {
   "cell_type": "code",
   "execution_count": null,
   "id": "3403c592",
   "metadata": {},
   "outputs": [],
   "source": [
    "for item in [1,2,3,4]:\n",
    "    print(item)\n",
    "    print(item)\n",
    "    print(item)\n",
    " "
   ]
  },
  {
   "cell_type": "markdown",
   "id": "93a5eb91",
   "metadata": {},
   "source": [
    "Q. What is the output of the below ?"
   ]
  },
  {
   "cell_type": "code",
   "execution_count": null,
   "id": "f1245e75",
   "metadata": {},
   "outputs": [],
   "source": [
    "for item in [1,2,3,4]:\n",
    "    for x in ['a','b','c']:\n",
    "        print(x)"
   ]
  },
  {
   "cell_type": "markdown",
   "id": "a493dc01",
   "metadata": {},
   "source": [
    "Q. What is the output of the below ?"
   ]
  },
  {
   "cell_type": "code",
   "execution_count": null,
   "id": "d4fe7063",
   "metadata": {},
   "outputs": [],
   "source": [
    "for item in [1,2,3]:\n",
    "    for x in ['a','b','c']:\n",
    "        print(item)\n",
    "    print(x)"
   ]
  },
  {
   "cell_type": "code",
   "execution_count": null,
   "id": "ef56beec",
   "metadata": {},
   "outputs": [],
   "source": []
  },
  {
   "cell_type": "markdown",
   "id": "9b305240",
   "metadata": {},
   "source": [
    "## ** Setup Pycharm for coding **"
   ]
  },
  {
   "cell_type": "code",
   "execution_count": null,
   "id": "1238243b",
   "metadata": {},
   "outputs": [],
   "source": []
  },
  {
   "cell_type": "code",
   "execution_count": null,
   "id": "a5ed1343",
   "metadata": {},
   "outputs": [],
   "source": []
  }
 ],
 "metadata": {
  "kernelspec": {
   "display_name": "Python 3",
   "language": "python",
   "name": "python3"
  },
  "language_info": {
   "codemirror_mode": {
    "name": "ipython",
    "version": 3
   },
   "file_extension": ".py",
   "mimetype": "text/x-python",
   "name": "python",
   "nbconvert_exporter": "python",
   "pygments_lexer": "ipython3",
   "version": "3.8.8"
  }
 },
 "nbformat": 4,
 "nbformat_minor": 5
}
