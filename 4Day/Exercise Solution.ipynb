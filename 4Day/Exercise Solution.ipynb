{
 "cells": [
  {
   "cell_type": "code",
   "execution_count": 1,
   "id": "2e796e58",
   "metadata": {},
   "outputs": [],
   "source": [
    "name = \"Mukesh\""
   ]
  },
  {
   "cell_type": "code",
   "execution_count": 2,
   "id": "2cc2a2d0",
   "metadata": {},
   "outputs": [
    {
     "name": "stdout",
     "output_type": "stream",
     "text": [
      "My name is Mukesh\n"
     ]
    }
   ],
   "source": [
    "print(f\"My name is {name}\")"
   ]
  },
  {
   "cell_type": "code",
   "execution_count": 1,
   "id": "a22001ee",
   "metadata": {},
   "outputs": [],
   "source": [
    "user = {\"age\":30,\"user_name\":\"dj1992\",\"friends\":[\"Ram\",\"Hari\"],\"gender\":True}"
   ]
  },
  {
   "cell_type": "code",
   "execution_count": 2,
   "id": "479814be",
   "metadata": {},
   "outputs": [
    {
     "name": "stdout",
     "output_type": "stream",
     "text": [
      "{'age': 30, 'user_name': 'dj1992', 'friends': ['Ram', 'Hari'], 'gender': True}\n"
     ]
    }
   ],
   "source": [
    "print(user)"
   ]
  },
  {
   "cell_type": "code",
   "execution_count": 4,
   "id": "08f2c859",
   "metadata": {},
   "outputs": [],
   "source": [
    "user[\"friends\"].append(\"Raja\")"
   ]
  },
  {
   "cell_type": "code",
   "execution_count": 5,
   "id": "0a7eace8",
   "metadata": {},
   "outputs": [
    {
     "name": "stdout",
     "output_type": "stream",
     "text": [
      "{'age': 30, 'user_name': 'dj1992', 'friends': ['Ram', 'Hari', 'Raja'], 'gender': True}\n"
     ]
    }
   ],
   "source": [
    "print(user)"
   ]
  },
  {
   "cell_type": "code",
   "execution_count": 9,
   "id": "7ff4a88e",
   "metadata": {},
   "outputs": [],
   "source": [
    "user.update({\"is_married\":False})    "
   ]
  },
  {
   "cell_type": "code",
   "execution_count": 10,
   "id": "cf3931e1",
   "metadata": {},
   "outputs": [
    {
     "name": "stdout",
     "output_type": "stream",
     "text": [
      "{'age': 30, 'user_name': 'dj1992', 'friends': ['Ram', 'Hari', 'Raja'], 'gender': True, 'is_married': False}\n"
     ]
    }
   ],
   "source": [
    "print(user)"
   ]
  },
  {
   "cell_type": "code",
   "execution_count": 12,
   "id": "41d02815",
   "metadata": {},
   "outputs": [],
   "source": [
    "classs = {'Bhabani','Tinu','Mukesh','Jiban','Dibyaranajn'}"
   ]
  },
  {
   "cell_type": "code",
   "execution_count": 13,
   "id": "165794ec",
   "metadata": {},
   "outputs": [],
   "source": [
    "students = {'Bhabani','Tinu','Mukesh','Jiban'}"
   ]
  },
  {
   "cell_type": "code",
   "execution_count": 14,
   "id": "dd32c864",
   "metadata": {},
   "outputs": [
    {
     "data": {
      "text/plain": [
       "{'Dibyaranajn'}"
      ]
     },
     "execution_count": 14,
     "metadata": {},
     "output_type": "execute_result"
    }
   ],
   "source": [
    "classs.difference(students)"
   ]
  },
  {
   "cell_type": "code",
   "execution_count": 15,
   "id": "d2bc2775",
   "metadata": {},
   "outputs": [],
   "source": [
    "students = ['Bhabani','Tinu','Mukesh','Jiban','Monalisa']"
   ]
  },
  {
   "cell_type": "code",
   "execution_count": 16,
   "id": "47ec34c3",
   "metadata": {},
   "outputs": [],
   "source": [
    "students.remove(\"Monalisa\")"
   ]
  },
  {
   "cell_type": "code",
   "execution_count": 17,
   "id": "df6789b3",
   "metadata": {},
   "outputs": [
    {
     "name": "stdout",
     "output_type": "stream",
     "text": [
      "['Bhabani', 'Tinu', 'Mukesh', 'Jiban']\n"
     ]
    }
   ],
   "source": [
    "print(students)"
   ]
  },
  {
   "cell_type": "code",
   "execution_count": null,
   "id": "2a386687",
   "metadata": {},
   "outputs": [],
   "source": []
  },
  {
   "cell_type": "code",
   "execution_count": 1,
   "id": "feb075e8",
   "metadata": {},
   "outputs": [],
   "source": [
    "tup ={1,2,3,3}"
   ]
  },
  {
   "cell_type": "code",
   "execution_count": 8,
   "id": "98432c62",
   "metadata": {},
   "outputs": [
    {
     "ename": "TypeError",
     "evalue": "pop() takes no arguments (1 given)",
     "output_type": "error",
     "traceback": [
      "\u001b[1;31m---------------------------------------------------------------------------\u001b[0m",
      "\u001b[1;31mTypeError\u001b[0m                                 Traceback (most recent call last)",
      "\u001b[1;32m<ipython-input-8-4027ef8cbb62>\u001b[0m in \u001b[0;36m<module>\u001b[1;34m\u001b[0m\n\u001b[1;32m----> 1\u001b[1;33m \u001b[0ma\u001b[0m \u001b[1;33m=\u001b[0m \u001b[0mtup\u001b[0m\u001b[1;33m.\u001b[0m\u001b[0mpop\u001b[0m\u001b[1;33m(\u001b[0m\u001b[1;36m1\u001b[0m\u001b[1;33m)\u001b[0m\u001b[1;33m\u001b[0m\u001b[1;33m\u001b[0m\u001b[0m\n\u001b[0m\u001b[0;32m      2\u001b[0m \u001b[0mprint\u001b[0m\u001b[1;33m(\u001b[0m\u001b[0ma\u001b[0m\u001b[1;33m)\u001b[0m\u001b[1;33m\u001b[0m\u001b[1;33m\u001b[0m\u001b[0m\n",
      "\u001b[1;31mTypeError\u001b[0m: pop() takes no arguments (1 given)"
     ]
    }
   ],
   "source": [
    "a = tup.pop()\n",
    "print(a)"
   ]
  },
  {
   "cell_type": "code",
   "execution_count": 3,
   "id": "ea84209b",
   "metadata": {},
   "outputs": [
    {
     "ename": "TypeError",
     "evalue": "'set' object is not subscriptable",
     "output_type": "error",
     "traceback": [
      "\u001b[1;31m---------------------------------------------------------------------------\u001b[0m",
      "\u001b[1;31mTypeError\u001b[0m                                 Traceback (most recent call last)",
      "\u001b[1;32m<ipython-input-3-28230eee9b56>\u001b[0m in \u001b[0;36m<module>\u001b[1;34m\u001b[0m\n\u001b[1;32m----> 1\u001b[1;33m \u001b[0mtup\u001b[0m\u001b[1;33m[\u001b[0m\u001b[1;36m1\u001b[0m\u001b[1;33m]\u001b[0m\u001b[1;33m\u001b[0m\u001b[1;33m\u001b[0m\u001b[0m\n\u001b[0m",
      "\u001b[1;31mTypeError\u001b[0m: 'set' object is not subscriptable"
     ]
    }
   ],
   "source": [
    "tup[1]"
   ]
  },
  {
   "cell_type": "code",
   "execution_count": 1,
   "id": "17c1ad04",
   "metadata": {},
   "outputs": [
    {
     "data": {
      "text/plain": [
       "2"
      ]
     },
     "execution_count": 1,
     "metadata": {},
     "output_type": "execute_result"
    }
   ],
   "source": [
    "li = ['a', 'b', 'b','d','e','f','a']\n",
    "li.count('b')"
   ]
  },
  {
   "cell_type": "code",
   "execution_count": 12,
   "id": "ebdbfc30",
   "metadata": {},
   "outputs": [],
   "source": [
    "palindrom_input = 'bapuji'"
   ]
  },
  {
   "cell_type": "code",
   "execution_count": 13,
   "id": "7bca3020",
   "metadata": {},
   "outputs": [],
   "source": [
    "new_input = palindrom_input[::-1]"
   ]
  },
  {
   "cell_type": "code",
   "execution_count": 14,
   "id": "adc6cc01",
   "metadata": {},
   "outputs": [
    {
     "name": "stdout",
     "output_type": "stream",
     "text": [
      "ijupab\n"
     ]
    }
   ],
   "source": [
    "print(new_input)"
   ]
  },
  {
   "cell_type": "code",
   "execution_count": 17,
   "id": "1767186a",
   "metadata": {},
   "outputs": [
    {
     "data": {
      "text/plain": [
       "'eee'"
      ]
     },
     "execution_count": 17,
     "metadata": {},
     "output_type": "execute_result"
    }
   ],
   "source": [
    "L = ['a', 'b', ['cc', 'dd', ['eee', 'fff']], 'g', 'h']\n",
    "L[2][2][0]"
   ]
  },
  {
   "cell_type": "code",
   "execution_count": 18,
   "id": "11552024",
   "metadata": {},
   "outputs": [],
   "source": [
    "cryptowallet={'makerCommission':0,\n",
    "'takerCommission':0,\n",
    "'buyerCommission':0,\n",
    "'sellerCommission':0,\n",
    "'canTrade':True,\n",
    "'canWithdraw':False,\n",
    "'canDeposit':True,\n",
    "'accountType':['SPOT','ONLINE'],\n",
    "'balances':[{'assset':'BTC','free':'₹100','locked':2.0},\n",
    "{'assset':'BNB','free':'₹150','locked':1.0},\n",
    "{'assset':'USD','free':'₹500','locked':0.0},\n",
    "{'assset':'ETH','free':'₹100','locked':2.0}]}"
   ]
  },
  {
   "cell_type": "code",
   "execution_count": 24,
   "id": "a107d16c",
   "metadata": {},
   "outputs": [
    {
     "data": {
      "text/plain": [
       "'₹150'"
      ]
     },
     "execution_count": 24,
     "metadata": {},
     "output_type": "execute_result"
    }
   ],
   "source": [
    "cryptowallet['balances'][1]['free']"
   ]
  },
  {
   "cell_type": "code",
   "execution_count": 32,
   "id": "570a3861",
   "metadata": {},
   "outputs": [
    {
     "name": "stdout",
     "output_type": "stream",
     "text": [
      "sethi\n"
     ]
    }
   ],
   "source": [
    "name='Mukesh kumar sethi'\n",
    "print(name[-5::])"
   ]
  },
  {
   "cell_type": "markdown",
   "id": "44266384",
   "metadata": {},
   "source": []
  },
  {
   "cell_type": "code",
   "execution_count": 30,
   "id": "97065c37",
   "metadata": {},
   "outputs": [],
   "source": [
    "import random"
   ]
  },
  {
   "cell_type": "code",
   "execution_count": 33,
   "id": "3776e509",
   "metadata": {},
   "outputs": [
    {
     "name": "stdout",
     "output_type": "stream",
     "text": [
      "['__add__', '__class__', '__contains__', '__delattr__', '__dir__', '__doc__', '__eq__', '__format__', '__ge__', '__getattribute__', '__getitem__', '__getnewargs__', '__gt__', '__hash__', '__init__', '__init_subclass__', '__iter__', '__le__', '__len__', '__lt__', '__mod__', '__mul__', '__ne__', '__new__', '__reduce__', '__reduce_ex__', '__repr__', '__rmod__', '__rmul__', '__setattr__', '__sizeof__', '__str__', '__subclasshook__', 'capitalize', 'casefold', 'center', 'count', 'encode', 'endswith', 'expandtabs', 'find', 'format', 'format_map', 'index', 'isalnum', 'isalpha', 'isascii', 'isdecimal', 'isdigit', 'isidentifier', 'islower', 'isnumeric', 'isprintable', 'isspace', 'istitle', 'isupper', 'join', 'ljust', 'lower', 'lstrip', 'maketrans', 'partition', 'replace', 'rfind', 'rindex', 'rjust', 'rpartition', 'rsplit', 'rstrip', 'split', 'splitlines', 'startswith', 'strip', 'swapcase', 'title', 'translate', 'upper', 'zfill']\n"
     ]
    }
   ],
   "source": [
    "print(dir(name))"
   ]
  },
  {
   "cell_type": "code",
   "execution_count": 35,
   "id": "4e6f80e8",
   "metadata": {},
   "outputs": [
    {
     "name": "stdout",
     "output_type": "stream",
     "text": [
      "<method-wrapper '__add__' of str object at 0x0000013269FD5120>\n"
     ]
    }
   ],
   "source": [
    "print(name.__add__)"
   ]
  },
  {
   "cell_type": "code",
   "execution_count": null,
   "id": "7c7c34ef",
   "metadata": {},
   "outputs": [],
   "source": []
  },
  {
   "cell_type": "code",
   "execution_count": 42,
   "id": "75323633",
   "metadata": {},
   "outputs": [],
   "source": [
    "my_set={\"tinu\",\"giri\"}"
   ]
  },
  {
   "cell_type": "code",
   "execution_count": 44,
   "id": "c87a96b5",
   "metadata": {},
   "outputs": [
    {
     "data": {
      "text/plain": [
       "{'giri', 'tinu'}"
      ]
     },
     "execution_count": 44,
     "metadata": {},
     "output_type": "execute_result"
    }
   ],
   "source": [
    "my_set"
   ]
  },
  {
   "cell_type": "code",
   "execution_count": 43,
   "id": "452622fc",
   "metadata": {},
   "outputs": [
    {
     "name": "stdout",
     "output_type": "stream",
     "text": [
      "{'giri', 'tinu'}\n"
     ]
    }
   ],
   "source": [
    "print(my_set)"
   ]
  },
  {
   "cell_type": "code",
   "execution_count": 45,
   "id": "3dc8d701",
   "metadata": {},
   "outputs": [],
   "source": [
    "a,b=(my_set)"
   ]
  },
  {
   "cell_type": "code",
   "execution_count": 46,
   "id": "88887c12",
   "metadata": {},
   "outputs": [
    {
     "name": "stdout",
     "output_type": "stream",
     "text": [
      "giri\n"
     ]
    }
   ],
   "source": [
    "print(a)"
   ]
  },
  {
   "cell_type": "code",
   "execution_count": 47,
   "id": "6579ed94",
   "metadata": {},
   "outputs": [],
   "source": [
    "a = list(my_set)"
   ]
  },
  {
   "cell_type": "code",
   "execution_count": 48,
   "id": "6d1eb98f",
   "metadata": {},
   "outputs": [
    {
     "name": "stdout",
     "output_type": "stream",
     "text": [
      "['giri', 'tinu']\n"
     ]
    }
   ],
   "source": [
    "print(a)"
   ]
  },
  {
   "cell_type": "code",
   "execution_count": null,
   "id": "499a624c",
   "metadata": {},
   "outputs": [],
   "source": []
  },
  {
   "cell_type": "code",
   "execution_count": 50,
   "id": "6b9a1280",
   "metadata": {},
   "outputs": [],
   "source": [
    "li= ['a', 'b', 'b','d','e','f','a']"
   ]
  },
  {
   "cell_type": "code",
   "execution_count": 52,
   "id": "ec7efe05",
   "metadata": {},
   "outputs": [
    {
     "data": {
      "text/plain": [
       "7"
      ]
     },
     "execution_count": 52,
     "metadata": {},
     "output_type": "execute_result"
    }
   ],
   "source": [
    "len(li)"
   ]
  },
  {
   "cell_type": "code",
   "execution_count": 53,
   "id": "b739f288",
   "metadata": {},
   "outputs": [
    {
     "data": {
      "text/plain": [
       "['__add__',\n",
       " '__class__',\n",
       " '__contains__',\n",
       " '__delattr__',\n",
       " '__delitem__',\n",
       " '__dir__',\n",
       " '__doc__',\n",
       " '__eq__',\n",
       " '__format__',\n",
       " '__ge__',\n",
       " '__getattribute__',\n",
       " '__getitem__',\n",
       " '__gt__',\n",
       " '__hash__',\n",
       " '__iadd__',\n",
       " '__imul__',\n",
       " '__init__',\n",
       " '__init_subclass__',\n",
       " '__iter__',\n",
       " '__le__',\n",
       " '__len__',\n",
       " '__lt__',\n",
       " '__mul__',\n",
       " '__ne__',\n",
       " '__new__',\n",
       " '__reduce__',\n",
       " '__reduce_ex__',\n",
       " '__repr__',\n",
       " '__reversed__',\n",
       " '__rmul__',\n",
       " '__setattr__',\n",
       " '__setitem__',\n",
       " '__sizeof__',\n",
       " '__str__',\n",
       " '__subclasshook__',\n",
       " 'append',\n",
       " 'clear',\n",
       " 'copy',\n",
       " 'count',\n",
       " 'extend',\n",
       " 'index',\n",
       " 'insert',\n",
       " 'pop',\n",
       " 'remove',\n",
       " 'reverse',\n",
       " 'sort']"
      ]
     },
     "execution_count": 53,
     "metadata": {},
     "output_type": "execute_result"
    }
   ],
   "source": [
    "dir(li)"
   ]
  },
  {
   "cell_type": "code",
   "execution_count": 54,
   "id": "3543c746",
   "metadata": {},
   "outputs": [
    {
     "data": {
      "text/plain": [
       "2"
      ]
     },
     "execution_count": 54,
     "metadata": {},
     "output_type": "execute_result"
    }
   ],
   "source": [
    "li.count('b')"
   ]
  },
  {
   "cell_type": "code",
   "execution_count": 7,
   "id": "32ecd9c2",
   "metadata": {},
   "outputs": [
    {
     "name": "stdout",
     "output_type": "stream",
     "text": [
      "enter a wordamaama\n"
     ]
    }
   ],
   "source": [
    "user_input = input(\"enter a word\")"
   ]
  },
  {
   "cell_type": "code",
   "execution_count": 8,
   "id": "bc61817e",
   "metadata": {},
   "outputs": [
    {
     "name": "stdout",
     "output_type": "stream",
     "text": [
      "amaama\n"
     ]
    }
   ],
   "source": [
    "print(user_input)"
   ]
  },
  {
   "cell_type": "code",
   "execution_count": 12,
   "id": "877a4de8",
   "metadata": {},
   "outputs": [],
   "source": [
    "user=user_input[ : :-1]"
   ]
  },
  {
   "cell_type": "code",
   "execution_count": 13,
   "id": "4a80b8e8",
   "metadata": {},
   "outputs": [
    {
     "name": "stdout",
     "output_type": "stream",
     "text": [
      "amaama\n"
     ]
    }
   ],
   "source": [
    "print(user)"
   ]
  },
  {
   "cell_type": "code",
   "execution_count": 14,
   "id": "eb694dc6",
   "metadata": {},
   "outputs": [
    {
     "data": {
      "text/plain": [
       "True"
      ]
     },
     "execution_count": 14,
     "metadata": {},
     "output_type": "execute_result"
    }
   ],
   "source": [
    "user==user_input"
   ]
  },
  {
   "cell_type": "code",
   "execution_count": 15,
   "id": "40aadd8d",
   "metadata": {},
   "outputs": [],
   "source": [
    "L = ['a', 'b', ['cc', 'dd', ['eee', 'fff']], 'g', 'h']"
   ]
  },
  {
   "cell_type": "code",
   "execution_count": 16,
   "id": "045f8187",
   "metadata": {},
   "outputs": [
    {
     "data": {
      "text/plain": [
       "'eee'"
      ]
     },
     "execution_count": 16,
     "metadata": {},
     "output_type": "execute_result"
    }
   ],
   "source": [
    "L[2][2][0]"
   ]
  },
  {
   "cell_type": "code",
   "execution_count": null,
   "id": "33dfc9ac",
   "metadata": {},
   "outputs": [],
   "source": []
  },
  {
   "cell_type": "code",
   "execution_count": 17,
   "id": "a5320ace",
   "metadata": {},
   "outputs": [],
   "source": [
    "cryptowallet={'makerCommission':0,\n",
    "'takerCommission':0,\n",
    "'buyerCommission':0,\n",
    "'sellerCommission':0,\n",
    "'canTrade':True,\n",
    "'canWithdraw':False,\n",
    "'canDeposit':True,\n",
    "'accountType':['SPOT','ONLINE'],\n",
    "'balances':[{'assset':'BTC','free':'₹100','locked':2.0},\n",
    "{'assset':'BNB','free':'₹150','locked':1.0},\n",
    "{'assset':'USD','free':'₹500','locked':0.0},\n",
    "{'assset':'ETH','free':'₹100','locked':2.0}]}"
   ]
  },
  {
   "cell_type": "code",
   "execution_count": 21,
   "id": "cbd98e1a",
   "metadata": {},
   "outputs": [
    {
     "name": "stdout",
     "output_type": "stream",
     "text": [
      "₹100\n"
     ]
    }
   ],
   "source": [
    "print(cryptowallet[\"balances\"][3][\"free\"])"
   ]
  },
  {
   "cell_type": "code",
   "execution_count": 22,
   "id": "c587ab73",
   "metadata": {},
   "outputs": [],
   "source": [
    "text = 'He said, What\\'s there'"
   ]
  },
  {
   "cell_type": "code",
   "execution_count": 23,
   "id": "fb8d98a9",
   "metadata": {},
   "outputs": [
    {
     "name": "stdout",
     "output_type": "stream",
     "text": [
      "He said, What's there\n"
     ]
    }
   ],
   "source": [
    "print(text)"
   ]
  },
  {
   "cell_type": "code",
   "execution_count": 26,
   "id": "07bee369",
   "metadata": {},
   "outputs": [
    {
     "name": "stdout",
     "output_type": "stream",
     "text": [
      "set\n"
     ]
    }
   ],
   "source": [
    "name='Mukesh kumar sethi'\n",
    "print(name[-5:-2:])"
   ]
  },
  {
   "cell_type": "code",
   "execution_count": null,
   "id": "86e7dbd5",
   "metadata": {},
   "outputs": [],
   "source": []
  },
  {
   "cell_type": "code",
   "execution_count": null,
   "id": "86d3934d",
   "metadata": {},
   "outputs": [],
   "source": []
  },
  {
   "cell_type": "code",
   "execution_count": 27,
   "id": "8d023ffb",
   "metadata": {},
   "outputs": [],
   "source": [
    "bhabani = {\"Name\":\"Bhabani Shankar Nayak\", \"age\": 21}"
   ]
  },
  {
   "cell_type": "code",
   "execution_count": 28,
   "id": "0e529c1f",
   "metadata": {},
   "outputs": [
    {
     "name": "stdout",
     "output_type": "stream",
     "text": [
      "{'Name': 'Bhabani Shankar Nayak', 'age': 21}\n"
     ]
    }
   ],
   "source": [
    "print(bhabani)"
   ]
  },
  {
   "cell_type": "code",
   "execution_count": 29,
   "id": "1c130d22",
   "metadata": {},
   "outputs": [
    {
     "name": "stdout",
     "output_type": "stream",
     "text": [
      "21\n"
     ]
    }
   ],
   "source": [
    "print(bhabani[\"age\"])"
   ]
  },
  {
   "cell_type": "code",
   "execution_count": 31,
   "id": "ec56aa87",
   "metadata": {},
   "outputs": [],
   "source": [
    "bhabani.update({\"is_male\":True})"
   ]
  },
  {
   "cell_type": "code",
   "execution_count": 32,
   "id": "f47a4c4b",
   "metadata": {},
   "outputs": [
    {
     "name": "stdout",
     "output_type": "stream",
     "text": [
      "dict_keys(['Name', 'age', 'is_male'])\n"
     ]
    }
   ],
   "source": [
    "print(bhabani.keys())"
   ]
  },
  {
   "cell_type": "code",
   "execution_count": 33,
   "id": "7c1d057c",
   "metadata": {},
   "outputs": [
    {
     "name": "stdout",
     "output_type": "stream",
     "text": [
      "dict_items([('Name', 'Bhabani Shankar Nayak'), ('age', 21), ('is_male', True)])\n"
     ]
    }
   ],
   "source": [
    "print(bhabani.items())"
   ]
  },
  {
   "cell_type": "code",
   "execution_count": 34,
   "id": "8714edc7",
   "metadata": {},
   "outputs": [
    {
     "name": "stdout",
     "output_type": "stream",
     "text": [
      "{'Name': 'Bhabani Shankar Nayak', 'age': 21, 'is_male': True}\n"
     ]
    }
   ],
   "source": [
    "print(bhabani)"
   ]
  },
  {
   "cell_type": "code",
   "execution_count": 35,
   "id": "a41a1b2f",
   "metadata": {},
   "outputs": [],
   "source": [
    "numbers = [1,2,3,[4,5],6]"
   ]
  },
  {
   "cell_type": "code",
   "execution_count": 36,
   "id": "8f841841",
   "metadata": {},
   "outputs": [
    {
     "name": "stdout",
     "output_type": "stream",
     "text": [
      "5\n"
     ]
    }
   ],
   "source": [
    "print(numbers[3][1])"
   ]
  },
  {
   "cell_type": "code",
   "execution_count": null,
   "id": "306e0028",
   "metadata": {},
   "outputs": [],
   "source": []
  },
  {
   "cell_type": "code",
   "execution_count": null,
   "id": "9d981c07",
   "metadata": {},
   "outputs": [],
   "source": []
  },
  {
   "cell_type": "code",
   "execution_count": 48,
   "id": "3c75adf5",
   "metadata": {},
   "outputs": [],
   "source": [
    "names=[\"a\",\"b\",\"a\",\"a\",\"b\",\"c\",\"z\"]"
   ]
  },
  {
   "cell_type": "code",
   "execution_count": 49,
   "id": "65cec5f0",
   "metadata": {},
   "outputs": [
    {
     "name": "stdout",
     "output_type": "stream",
     "text": [
      "['a', 'b', 'a', 'a', 'b', 'c', 'z']\n"
     ]
    }
   ],
   "source": [
    "print(names)"
   ]
  },
  {
   "cell_type": "code",
   "execution_count": 50,
   "id": "9d2232ff",
   "metadata": {},
   "outputs": [],
   "source": [
    "names_uniques=set(names)"
   ]
  },
  {
   "cell_type": "code",
   "execution_count": 51,
   "id": "a7ddb994",
   "metadata": {},
   "outputs": [
    {
     "name": "stdout",
     "output_type": "stream",
     "text": [
      "{'c', 'a', 'z', 'b'}\n"
     ]
    }
   ],
   "source": [
    "print(names_uniques)"
   ]
  },
  {
   "cell_type": "code",
   "execution_count": null,
   "id": "a42487a6",
   "metadata": {},
   "outputs": [],
   "source": []
  }
 ],
 "metadata": {
  "kernelspec": {
   "display_name": "Python 3",
   "language": "python",
   "name": "python3"
  },
  "language_info": {
   "codemirror_mode": {
    "name": "ipython",
    "version": 3
   },
   "file_extension": ".py",
   "mimetype": "text/x-python",
   "name": "python",
   "nbconvert_exporter": "python",
   "pygments_lexer": "ipython3",
   "version": "3.8.8"
  }
 },
 "nbformat": 4,
 "nbformat_minor": 5
}
