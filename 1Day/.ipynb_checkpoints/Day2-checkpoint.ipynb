{
 "cells": [
  {
   "cell_type": "markdown",
   "id": "ac34088e",
   "metadata": {},
   "source": [
    "# Immutability"
   ]
  },
  {
   "cell_type": "code",
   "execution_count": 1,
   "id": "125a3520",
   "metadata": {},
   "outputs": [],
   "source": [
    "name=\"Dibyaranjan\""
   ]
  },
  {
   "cell_type": "code",
   "execution_count": 2,
   "id": "02e097d5",
   "metadata": {},
   "outputs": [
    {
     "data": {
      "text/plain": [
       "'D'"
      ]
     },
     "execution_count": 2,
     "metadata": {},
     "output_type": "execute_result"
    }
   ],
   "source": [
    "name[0]"
   ]
  },
  {
   "cell_type": "code",
   "execution_count": 4,
   "id": "9a15f19f",
   "metadata": {},
   "outputs": [
    {
     "ename": "TypeError",
     "evalue": "'str' object does not support item assignment",
     "output_type": "error",
     "traceback": [
      "\u001b[1;31m---------------------------------------------------------------------------\u001b[0m",
      "\u001b[1;31mTypeError\u001b[0m                                 Traceback (most recent call last)",
      "\u001b[1;32m<ipython-input-4-91fa644d4b01>\u001b[0m in \u001b[0;36m<module>\u001b[1;34m\u001b[0m\n\u001b[1;32m----> 1\u001b[1;33m \u001b[0mname\u001b[0m\u001b[1;33m[\u001b[0m\u001b[1;36m0\u001b[0m\u001b[1;33m]\u001b[0m \u001b[1;33m=\u001b[0m \u001b[1;34m\"V\"\u001b[0m\u001b[1;33m\u001b[0m\u001b[1;33m\u001b[0m\u001b[0m\n\u001b[0m",
      "\u001b[1;31mTypeError\u001b[0m: 'str' object does not support item assignment"
     ]
    }
   ],
   "source": [
    "name[0] = \"V\""
   ]
  },
  {
   "cell_type": "code",
   "execution_count": 5,
   "id": "6fdfda0a",
   "metadata": {},
   "outputs": [],
   "source": [
    "name = \"Vibyaranjan\""
   ]
  },
  {
   "cell_type": "markdown",
   "id": "67311c97",
   "metadata": {},
   "source": [
    "## Built in Function"
   ]
  },
  {
   "cell_type": "code",
   "execution_count": 7,
   "id": "3f5ee852",
   "metadata": {},
   "outputs": [
    {
     "name": "stdout",
     "output_type": "stream",
     "text": [
      "5\n"
     ]
    }
   ],
   "source": [
    "print(len(\"Dibya\"))"
   ]
  },
  {
   "cell_type": "markdown",
   "id": "39dbf0f5",
   "metadata": {},
   "source": [
    "https://docs.python.org/3/library/functions.html"
   ]
  },
  {
   "cell_type": "markdown",
   "id": "82959e02",
   "metadata": {},
   "source": [
    "## Built in Methods"
   ]
  },
  {
   "cell_type": "markdown",
   "id": "8f2fd3b2",
   "metadata": {},
   "source": [
    "https://www.w3schools.com/python/python_ref_string.asp"
   ]
  },
  {
   "cell_type": "markdown",
   "id": "14749b4b",
   "metadata": {},
   "source": [
    "Methods can only be used for a specific Data Type or Class"
   ]
  },
  {
   "cell_type": "code",
   "execution_count": 8,
   "id": "6254329c",
   "metadata": {},
   "outputs": [],
   "source": [
    "name = \"Dibyaranjan\""
   ]
  },
  {
   "cell_type": "code",
   "execution_count": 10,
   "id": "50db1f08",
   "metadata": {},
   "outputs": [
    {
     "data": {
      "text/plain": [
       "'DIBYARANJAN'"
      ]
     },
     "execution_count": 10,
     "metadata": {},
     "output_type": "execute_result"
    }
   ],
   "source": [
    "name.upper()"
   ]
  },
  {
   "cell_type": "code",
   "execution_count": 15,
   "id": "b0d9e4fa",
   "metadata": {},
   "outputs": [
    {
     "name": "stdout",
     "output_type": "stream",
     "text": [
      "John#Peter#Vicky\n"
     ]
    }
   ],
   "source": [
    "myTuple = (\"John\", \"Peter\", \"Vicky\")\n",
    "x = \"#\".join(myTuple)\n",
    "print(x)"
   ]
  },
  {
   "cell_type": "code",
   "execution_count": 18,
   "id": "ecdc002e",
   "metadata": {},
   "outputs": [
    {
     "name": "stdout",
     "output_type": "stream",
     "text": [
      "Help on built-in function join:\n",
      "\n",
      "join(iterable, /) method of builtins.str instance\n",
      "    Concatenate any number of strings.\n",
      "    \n",
      "    The string whose method is called is inserted in between each given string.\n",
      "    The result is returned as a new string.\n",
      "    \n",
      "    Example: '.'.join(['ab', 'pq', 'rs']) -> 'ab.pq.rs'\n",
      "\n"
     ]
    }
   ],
   "source": [
    "help(name.join)"
   ]
  },
  {
   "cell_type": "code",
   "execution_count": 20,
   "id": "1daf108b",
   "metadata": {},
   "outputs": [
    {
     "name": "stdout",
     "output_type": "stream",
     "text": [
      "Gibyaranjan\n"
     ]
    }
   ],
   "source": [
    "print(name.replace('D','G'))"
   ]
  },
  {
   "cell_type": "markdown",
   "id": "44b5b86f",
   "metadata": {},
   "source": [
    "# Booleans"
   ]
  },
  {
   "cell_type": "code",
   "execution_count": 22,
   "id": "a6ec56a0",
   "metadata": {},
   "outputs": [],
   "source": [
    "is_good = True"
   ]
  },
  {
   "cell_type": "code",
   "execution_count": 23,
   "id": "f7037a4a",
   "metadata": {},
   "outputs": [],
   "source": [
    "is_bad = False"
   ]
  },
  {
   "cell_type": "code",
   "execution_count": null,
   "id": "345663ea",
   "metadata": {},
   "outputs": [],
   "source": []
  },
  {
   "cell_type": "markdown",
   "id": "233d3720",
   "metadata": {},
   "source": [
    "## Input Function"
   ]
  },
  {
   "cell_type": "code",
   "execution_count": 24,
   "id": "b984c77d",
   "metadata": {},
   "outputs": [
    {
     "name": "stdout",
     "output_type": "stream",
     "text": [
      "What is your nameDIby\n"
     ]
    },
    {
     "data": {
      "text/plain": [
       "'DIby'"
      ]
     },
     "execution_count": 24,
     "metadata": {},
     "output_type": "execute_result"
    }
   ],
   "source": [
    "input(\"What is your name\")"
   ]
  },
  {
   "cell_type": "markdown",
   "id": "9c38a4c6",
   "metadata": {},
   "source": [
    "To store this into a variable "
   ]
  },
  {
   "cell_type": "code",
   "execution_count": 28,
   "id": "6b3b9365",
   "metadata": {},
   "outputs": [
    {
     "name": "stdout",
     "output_type": "stream",
     "text": [
      "What is your name : Dibya\n"
     ]
    }
   ],
   "source": [
    "name = input(\"What is your name : \")"
   ]
  },
  {
   "cell_type": "code",
   "execution_count": 26,
   "id": "7e3b61e0",
   "metadata": {},
   "outputs": [
    {
     "name": "stdout",
     "output_type": "stream",
     "text": [
      "Dibya\n"
     ]
    }
   ],
   "source": [
    "print(name)"
   ]
  },
  {
   "cell_type": "markdown",
   "id": "2a9812d8",
   "metadata": {},
   "source": [
    "Do this exercise in new notebook "
   ]
  },
  {
   "cell_type": "markdown",
   "id": "924b9ace",
   "metadata": {},
   "source": [
    "Next is take your age as input, store it in a variable my_age and add 5 to show your brother's or sister's age"
   ]
  },
  {
   "cell_type": "code",
   "execution_count": null,
   "id": "b7517973",
   "metadata": {},
   "outputs": [],
   "source": []
  },
  {
   "cell_type": "markdown",
   "id": "5b9d4e33",
   "metadata": {},
   "source": [
    "## Commenting your code very often"
   ]
  },
  {
   "cell_type": "code",
   "execution_count": 29,
   "id": "016d0e2e",
   "metadata": {},
   "outputs": [
    {
     "name": "stdout",
     "output_type": "stream",
     "text": [
      "Please give your age : 30\n"
     ]
    }
   ],
   "source": [
    "# below is my age \n",
    "my_age = input(\"Please give your age : \")"
   ]
  },
  {
   "cell_type": "code",
   "execution_count": 30,
   "id": "c88d2767",
   "metadata": {},
   "outputs": [
    {
     "name": "stdout",
     "output_type": "stream",
     "text": [
      "30\n"
     ]
    }
   ],
   "source": [
    "print(my_age)"
   ]
  },
  {
   "cell_type": "code",
   "execution_count": null,
   "id": "fed1bb80",
   "metadata": {},
   "outputs": [],
   "source": []
  },
  {
   "cell_type": "code",
   "execution_count": 31,
   "id": "fa193b59",
   "metadata": {},
   "outputs": [],
   "source": [
    "# Password length checker"
   ]
  },
  {
   "cell_type": "code",
   "execution_count": 32,
   "id": "55badb07",
   "metadata": {},
   "outputs": [
    {
     "name": "stdout",
     "output_type": "stream",
     "text": [
      "Enter your user namediby\n",
      "Enter your password456\n",
      "Hey diby your password is of length 3\n"
     ]
    }
   ],
   "source": [
    "user_name = input(\"Enter your user name\")\n",
    "password = input(\"Enter your password\")\n",
    "\n",
    "print(f\"Hey {user_name} your password is of length {len(password)}\")"
   ]
  },
  {
   "cell_type": "code",
   "execution_count": null,
   "id": "e90ed68e",
   "metadata": {},
   "outputs": [],
   "source": []
  }
 ],
 "metadata": {
  "kernelspec": {
   "display_name": "Python 3",
   "language": "python",
   "name": "python3"
  },
  "language_info": {
   "codemirror_mode": {
    "name": "ipython",
    "version": 3
   },
   "file_extension": ".py",
   "mimetype": "text/x-python",
   "name": "python",
   "nbconvert_exporter": "python",
   "pygments_lexer": "ipython3",
   "version": "3.8.8"
  }
 },
 "nbformat": 4,
 "nbformat_minor": 5
}
