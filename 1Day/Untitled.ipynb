{
 "cells": [
  {
   "cell_type": "code",
   "execution_count": 3,
   "id": "761bd5a4",
   "metadata": {},
   "outputs": [],
   "source": [
    "first_name=\"jiban \"\n",
    "middle_name=\"jyoti \"\n",
    "last_name=\"giri\""
   ]
  },
  {
   "cell_type": "code",
   "execution_count": 4,
   "id": "8a149227",
   "metadata": {},
   "outputs": [
    {
     "name": "stdout",
     "output_type": "stream",
     "text": [
      "jiban jyoti giri\n"
     ]
    }
   ],
   "source": [
    "print(first_name+middle_name+last_name\n",
    "    )"
   ]
  },
  {
   "cell_type": "markdown",
   "id": "23122797",
   "metadata": {},
   "source": [
    "It\"s raining outside"
   ]
  },
  {
   "cell_type": "code",
   "execution_count": 8,
   "id": "2305865c",
   "metadata": {},
   "outputs": [
    {
     "name": "stdout",
     "output_type": "stream",
     "text": [
      "it\"s raning outside\n"
     ]
    }
   ],
   "source": [
    "print(\"it\\\"s raning outside\")"
   ]
  },
  {
   "cell_type": "code",
   "execution_count": 9,
   "id": "56b8ae95",
   "metadata": {},
   "outputs": [
    {
     "name": "stdout",
     "output_type": "stream",
     "text": [
      "My name is \t Dibyaranjan\n"
     ]
    }
   ],
   "source": [
    "print(\"My name is \\t Dibyaranjan\")"
   ]
  },
  {
   "cell_type": "code",
   "execution_count": 10,
   "id": "e3d75d89",
   "metadata": {},
   "outputs": [
    {
     "name": "stdout",
     "output_type": "stream",
     "text": [
      "my name is\n",
      " jibanjyoti\n"
     ]
    }
   ],
   "source": [
    "print(\"my name is\\n jibanjyoti\")"
   ]
  },
  {
   "cell_type": "code",
   "execution_count": 11,
   "id": "1cc15c16",
   "metadata": {},
   "outputs": [],
   "source": [
    "name = \"Jibanjyoti\""
   ]
  },
  {
   "cell_type": "code",
   "execution_count": 13,
   "id": "b5738ff0",
   "metadata": {},
   "outputs": [
    {
     "name": "stdout",
     "output_type": "stream",
     "text": [
      "my name is Jibanjyoti\n"
     ]
    }
   ],
   "source": [
    "print(f\"my name is {name}\")"
   ]
  },
  {
   "cell_type": "code",
   "execution_count": 2,
   "id": "44048801",
   "metadata": {},
   "outputs": [
    {
     "name": "stdout",
     "output_type": "stream",
     "text": [
      "1\n"
     ]
    }
   ],
   "source": [
    "print(11 % 2)"
   ]
  },
  {
   "cell_type": "code",
   "execution_count": null,
   "id": "ae2efce2",
   "metadata": {},
   "outputs": [],
   "source": []
  }
 ],
 "metadata": {
  "kernelspec": {
   "display_name": "Python 3",
   "language": "python",
   "name": "python3"
  },
  "language_info": {
   "codemirror_mode": {
    "name": "ipython",
    "version": 3
   },
   "file_extension": ".py",
   "mimetype": "text/x-python",
   "name": "python",
   "nbconvert_exporter": "python",
   "pygments_lexer": "ipython3",
   "version": "3.8.8"
  }
 },
 "nbformat": 4,
 "nbformat_minor": 5
}
