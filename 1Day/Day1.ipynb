{
 "cells": [
  {
   "cell_type": "code",
   "execution_count": null,
   "id": "40a6109d",
   "metadata": {},
   "outputs": [],
   "source": [
    "print(100)"
   ]
  },
  {
   "cell_type": "code",
   "execution_count": null,
   "id": "d177c6bf",
   "metadata": {},
   "outputs": [],
   "source": [
    "print(20.22)"
   ]
  },
  {
   "cell_type": "code",
   "execution_count": null,
   "id": "17250f25",
   "metadata": {},
   "outputs": [],
   "source": [
    "print(20+5)"
   ]
  },
  {
   "cell_type": "code",
   "execution_count": null,
   "id": "fdbdad3a",
   "metadata": {},
   "outputs": [],
   "source": [
    "print(10+2)"
   ]
  },
  {
   "cell_type": "code",
   "execution_count": null,
   "id": "36c1f4b2",
   "metadata": {},
   "outputs": [],
   "source": [
    "print(10 * 2)"
   ]
  },
  {
   "cell_type": "code",
   "execution_count": null,
   "id": "b88c768c",
   "metadata": {},
   "outputs": [],
   "source": [
    "print(type(2/4))"
   ]
  },
  {
   "cell_type": "markdown",
   "id": "85de840d",
   "metadata": {},
   "source": [
    "Why distinction between float and int ?"
   ]
  },
  {
   "cell_type": "code",
   "execution_count": null,
   "id": "cfcbb5bc",
   "metadata": {},
   "outputs": [],
   "source": [
    "print(type(10+1.1))"
   ]
  },
  {
   "cell_type": "code",
   "execution_count": null,
   "id": "d9b6d3b8",
   "metadata": {},
   "outputs": [],
   "source": [
    "print(10**2)"
   ]
  },
  {
   "cell_type": "code",
   "execution_count": null,
   "id": "1adcf376",
   "metadata": {},
   "outputs": [],
   "source": [
    "print(5%4)"
   ]
  },
  {
   "cell_type": "markdown",
   "id": "b46b7246",
   "metadata": {},
   "source": [
    "Math Functions -> Actions"
   ]
  },
  {
   "cell_type": "code",
   "execution_count": null,
   "id": "b31fbb2a",
   "metadata": {},
   "outputs": [],
   "source": [
    "print(round(3.210))"
   ]
  },
  {
   "cell_type": "code",
   "execution_count": null,
   "id": "6f7c34bd",
   "metadata": {},
   "outputs": [],
   "source": [
    "print(round(3.9))"
   ]
  },
  {
   "cell_type": "code",
   "execution_count": null,
   "id": "bd561385",
   "metadata": {},
   "outputs": [],
   "source": [
    "print(abs(5))"
   ]
  },
  {
   "cell_type": "code",
   "execution_count": null,
   "id": "98ae62d3",
   "metadata": {},
   "outputs": [],
   "source": [
    "print(abs(-5))"
   ]
  },
  {
   "cell_type": "markdown",
   "id": "be03ed34",
   "metadata": {},
   "source": [
    "Installing and importing a package"
   ]
  },
  {
   "cell_type": "code",
   "execution_count": null,
   "id": "1bde4177",
   "metadata": {},
   "outputs": [],
   "source": [
    "import math"
   ]
  },
  {
   "cell_type": "markdown",
   "id": "51797008",
   "metadata": {},
   "source": [
    "Operator precedence"
   ]
  },
  {
   "cell_type": "code",
   "execution_count": null,
   "id": "a107b7f2",
   "metadata": {},
   "outputs": [],
   "source": [
    "print(20 + 3 * 4)"
   ]
  },
  {
   "cell_type": "code",
   "execution_count": null,
   "id": "6466485b",
   "metadata": {},
   "outputs": [],
   "source": [
    "() ** * / + -"
   ]
  },
  {
   "cell_type": "code",
   "execution_count": null,
   "id": "92d6fec8",
   "metadata": {},
   "outputs": [],
   "source": [
    "# print((5 + 4) * 10 / 2)\n",
    "\n",
    "# print(((5 + 4) * 10) / 2)"
   ]
  },
  {
   "cell_type": "code",
   "execution_count": null,
   "id": "3555b200",
   "metadata": {},
   "outputs": [],
   "source": []
  },
  {
   "cell_type": "markdown",
   "id": "4e1a224b",
   "metadata": {},
   "source": [
    "## Variables"
   ]
  },
  {
   "cell_type": "code",
   "execution_count": null,
   "id": "29d2a8f6",
   "metadata": {},
   "outputs": [],
   "source": [
    "name = \"Dibyaranjan Jena\""
   ]
  },
  {
   "cell_type": "code",
   "execution_count": null,
   "id": "b083915e",
   "metadata": {},
   "outputs": [],
   "source": [
    "print(name)"
   ]
  },
  {
   "cell_type": "markdown",
   "id": "2f8cf590",
   "metadata": {},
   "source": [
    "best practices:\n",
    "snake_case, Case sensitive, Letters Numbers Underscore, Don't overwrite keywords"
   ]
  },
  {
   "cell_type": "code",
   "execution_count": null,
   "id": "96423162",
   "metadata": {},
   "outputs": [],
   "source": [
    "user_id = \"dj\"\n",
    "password = 123"
   ]
  },
  {
   "cell_type": "code",
   "execution_count": null,
   "id": "18ed4d02",
   "metadata": {},
   "outputs": [],
   "source": [
    "print = \"Hello World\""
   ]
  },
  {
   "cell_type": "code",
   "execution_count": null,
   "id": "dcbd5620",
   "metadata": {},
   "outputs": [],
   "source": [
    "print(print)"
   ]
  },
  {
   "cell_type": "markdown",
   "id": "fdc9c3f9",
   "metadata": {},
   "source": [
    "How to know whether something is a keyword or not ?"
   ]
  },
  {
   "cell_type": "code",
   "execution_count": null,
   "id": "b15a1a83",
   "metadata": {},
   "outputs": [],
   "source": [
    "new_name = name"
   ]
  },
  {
   "cell_type": "code",
   "execution_count": null,
   "id": "415ed4e0",
   "metadata": {},
   "outputs": [],
   "source": [
    "print(new_name)"
   ]
  },
  {
   "cell_type": "markdown",
   "id": "a98c118d",
   "metadata": {},
   "source": [
    "CONSTANT"
   ]
  },
  {
   "cell_type": "code",
   "execution_count": null,
   "id": "1ea8bdc0",
   "metadata": {},
   "outputs": [],
   "source": [
    "PI = 3.14"
   ]
  },
  {
   "cell_type": "code",
   "execution_count": null,
   "id": "9eacc9b2",
   "metadata": {},
   "outputs": [],
   "source": [
    "print(PI)"
   ]
  },
  {
   "cell_type": "code",
   "execution_count": null,
   "id": "08f129b6",
   "metadata": {},
   "outputs": [],
   "source": [
    "__ # Dunder"
   ]
  },
  {
   "cell_type": "code",
   "execution_count": null,
   "id": "9c404d72",
   "metadata": {},
   "outputs": [],
   "source": [
    "__name = \"DIby\""
   ]
  },
  {
   "cell_type": "code",
   "execution_count": null,
   "id": "a420e4f4",
   "metadata": {},
   "outputs": [],
   "source": [
    "full_name = \"DIbyaranjan Jena\""
   ]
  },
  {
   "cell_type": "code",
   "execution_count": null,
   "id": "9c59e700",
   "metadata": {},
   "outputs": [],
   "source": [
    "# Statement vs Expression"
   ]
  },
  {
   "cell_type": "code",
   "execution_count": null,
   "id": "789eaa7f",
   "metadata": {},
   "outputs": [],
   "source": [
    "fathers_age = 40"
   ]
  },
  {
   "cell_type": "code",
   "execution_count": null,
   "id": "0e5e9428",
   "metadata": {},
   "outputs": [],
   "source": [
    "my_age = fathers_age / 4"
   ]
  },
  {
   "cell_type": "code",
   "execution_count": null,
   "id": "c3ab4539",
   "metadata": {},
   "outputs": [],
   "source": [
    "print(my_age)"
   ]
  },
  {
   "cell_type": "code",
   "execution_count": null,
   "id": "01dd50b9",
   "metadata": {},
   "outputs": [],
   "source": [
    "#Another way of declaring a variable"
   ]
  },
  {
   "cell_type": "code",
   "execution_count": null,
   "id": "d4663bbd",
   "metadata": {},
   "outputs": [],
   "source": [
    "my_age, salary = 30, 10000"
   ]
  },
  {
   "cell_type": "code",
   "execution_count": null,
   "id": "0c2e2d78",
   "metadata": {},
   "outputs": [],
   "source": [
    "print(my_age)"
   ]
  },
  {
   "cell_type": "code",
   "execution_count": null,
   "id": "c7c341d3",
   "metadata": {},
   "outputs": [],
   "source": [
    "print(salary)"
   ]
  },
  {
   "cell_type": "markdown",
   "id": "826f9661",
   "metadata": {},
   "source": [
    "Augmented assignment opertor"
   ]
  },
  {
   "cell_type": "code",
   "execution_count": null,
   "id": "e7ec0c65",
   "metadata": {},
   "outputs": [],
   "source": [
    "a = 10"
   ]
  },
  {
   "cell_type": "code",
   "execution_count": null,
   "id": "0c4c82c6",
   "metadata": {},
   "outputs": [],
   "source": [
    "print(a)"
   ]
  },
  {
   "cell_type": "code",
   "execution_count": null,
   "id": "0491374d",
   "metadata": {},
   "outputs": [],
   "source": [
    "a = a + 2"
   ]
  },
  {
   "cell_type": "code",
   "execution_count": null,
   "id": "36aa1a08",
   "metadata": {},
   "outputs": [],
   "source": [
    "print(a)"
   ]
  },
  {
   "cell_type": "code",
   "execution_count": null,
   "id": "a645535c",
   "metadata": {},
   "outputs": [],
   "source": [
    "a = 10"
   ]
  },
  {
   "cell_type": "code",
   "execution_count": null,
   "id": "5be7161b",
   "metadata": {},
   "outputs": [],
   "source": [
    "print(a)"
   ]
  },
  {
   "cell_type": "code",
   "execution_count": null,
   "id": "cf7ee9d0",
   "metadata": {},
   "outputs": [],
   "source": [
    "a += 2"
   ]
  },
  {
   "cell_type": "code",
   "execution_count": null,
   "id": "054bc036",
   "metadata": {},
   "outputs": [],
   "source": [
    "print(a)"
   ]
  },
  {
   "cell_type": "code",
   "execution_count": null,
   "id": "34223003",
   "metadata": {},
   "outputs": [],
   "source": [
    "# Create a variable with name \"x\" and a value of 10. Execute."
   ]
  },
  {
   "cell_type": "code",
   "execution_count": null,
   "id": "df1b1030",
   "metadata": {},
   "outputs": [],
   "source": [
    "# Tell the computer to show you the value of that variable."
   ]
  },
  {
   "cell_type": "code",
   "execution_count": null,
   "id": "d8506d1e",
   "metadata": {},
   "outputs": [],
   "source": [
    "# On the same line, create four new variables: a,b,c, and d, that are equal to 10, 20, 30, and 40, respectively."
   ]
  },
  {
   "cell_type": "markdown",
   "id": "b0d12f8f",
   "metadata": {},
   "source": [
    "# STRING"
   ]
  },
  {
   "cell_type": "markdown",
   "id": "dce016bc",
   "metadata": {},
   "source": [
    "String is a piece of text"
   ]
  },
  {
   "cell_type": "code",
   "execution_count": null,
   "id": "c3e05b1b",
   "metadata": {},
   "outputs": [],
   "source": [
    "type(\"Hello\")"
   ]
  },
  {
   "cell_type": "code",
   "execution_count": null,
   "id": "ac66ad59",
   "metadata": {},
   "outputs": [],
   "source": [
    "name = \"Monalisa\""
   ]
  },
  {
   "cell_type": "code",
   "execution_count": null,
   "id": "8d7d27e9",
   "metadata": {},
   "outputs": [],
   "source": [
    "type(name)"
   ]
  },
  {
   "cell_type": "code",
   "execution_count": null,
   "id": "b9f2afb4",
   "metadata": {},
   "outputs": [],
   "source": [
    "type(12)"
   ]
  },
  {
   "cell_type": "code",
   "execution_count": null,
   "id": "66ef9e5f",
   "metadata": {},
   "outputs": [],
   "source": [
    "print('Hello')"
   ]
  },
  {
   "cell_type": "code",
   "execution_count": null,
   "id": "b565c831",
   "metadata": {},
   "outputs": [],
   "source": [
    "print(\"Hello !\")"
   ]
  },
  {
   "cell_type": "code",
   "execution_count": null,
   "id": "c9070186",
   "metadata": {},
   "outputs": [],
   "source": [
    "p"
   ]
  },
  {
   "cell_type": "code",
   "execution_count": null,
   "id": "f7133c0f",
   "metadata": {},
   "outputs": [],
   "source": [
    "'' , \"\" , "
   ]
  },
  {
   "cell_type": "code",
   "execution_count": null,
   "id": "4dad548f",
   "metadata": {},
   "outputs": [],
   "source": [
    "question='''What's your \n",
    "name'''"
   ]
  },
  {
   "cell_type": "code",
   "execution_count": null,
   "id": "88429c97",
   "metadata": {},
   "outputs": [],
   "source": [
    "print(question)"
   ]
  },
  {
   "cell_type": "code",
   "execution_count": null,
   "id": "9e9d465b",
   "metadata": {},
   "outputs": [],
   "source": [
    "long_string = '''\n",
    "Hi\n",
    "Wow\n",
    "'''"
   ]
  },
  {
   "cell_type": "code",
   "execution_count": null,
   "id": "d7ad34ab",
   "metadata": {},
   "outputs": [],
   "source": [
    "name='''Dib\n",
    "adsfds'''"
   ]
  },
  {
   "cell_type": "code",
   "execution_count": null,
   "id": "b0f98438",
   "metadata": {},
   "outputs": [],
   "source": [
    "first_name = 'Dibyaranjan '\n",
    "last_name = 'Jena'"
   ]
  },
  {
   "cell_type": "code",
   "execution_count": null,
   "id": "e55ab5fa",
   "metadata": {},
   "outputs": [],
   "source": [
    "full_name = first_name + last_name"
   ]
  },
  {
   "cell_type": "code",
   "execution_count": null,
   "id": "3cdeacd2",
   "metadata": {},
   "outputs": [],
   "source": [
    "print(full_name)"
   ]
  },
  {
   "cell_type": "code",
   "execution_count": null,
   "id": "626f281a",
   "metadata": {},
   "outputs": [],
   "source": [
    "a = 5 + 5"
   ]
  },
  {
   "cell_type": "code",
   "execution_count": null,
   "id": "86e85a46",
   "metadata": {},
   "outputs": [],
   "source": [
    "print(a)"
   ]
  },
  {
   "cell_type": "code",
   "execution_count": null,
   "id": "d45630f7",
   "metadata": {},
   "outputs": [],
   "source": []
  },
  {
   "cell_type": "code",
   "execution_count": null,
   "id": "b1c4245e",
   "metadata": {},
   "outputs": [],
   "source": [
    "a = '5' + '5'"
   ]
  },
  {
   "cell_type": "code",
   "execution_count": null,
   "id": "ccd142bf",
   "metadata": {},
   "outputs": [],
   "source": [
    "print(a) "
   ]
  },
  {
   "cell_type": "code",
   "execution_count": null,
   "id": "b9ae77ef",
   "metadata": {},
   "outputs": [],
   "source": [
    "print(type(\"5\"))"
   ]
  },
  {
   "cell_type": "code",
   "execution_count": null,
   "id": "1f5e970f",
   "metadata": {},
   "outputs": [],
   "source": [
    "print(type(2.2))"
   ]
  },
  {
   "cell_type": "code",
   "execution_count": null,
   "id": "fa2f7067",
   "metadata": {},
   "outputs": [],
   "source": [
    "print(type(45))"
   ]
  },
  {
   "cell_type": "code",
   "execution_count": null,
   "id": "b7585d2b",
   "metadata": {},
   "outputs": [],
   "source": [
    "print(type(\"45\"))"
   ]
  },
  {
   "cell_type": "code",
   "execution_count": null,
   "id": "eefd77b9",
   "metadata": {},
   "outputs": [],
   "source": [
    "print(type('20'))"
   ]
  },
  {
   "cell_type": "code",
   "execution_count": null,
   "id": "9e232b1f",
   "metadata": {},
   "outputs": [],
   "source": [
    "print(type(\"2.12\"))"
   ]
  },
  {
   "cell_type": "code",
   "execution_count": null,
   "id": "466ff0f9",
   "metadata": {},
   "outputs": [],
   "source": [
    "print(type(20.0))"
   ]
  },
  {
   "cell_type": "code",
   "execution_count": null,
   "id": "bd2466f1",
   "metadata": {},
   "outputs": [],
   "source": [
    "a = 5 + 5"
   ]
  },
  {
   "cell_type": "code",
   "execution_count": null,
   "id": "af8bf2b5",
   "metadata": {},
   "outputs": [],
   "source": [
    "print(a)"
   ]
  },
  {
   "cell_type": "code",
   "execution_count": null,
   "id": "56139fa3",
   "metadata": {},
   "outputs": [],
   "source": [
    "a = '5' + '5'"
   ]
  },
  {
   "cell_type": "code",
   "execution_count": null,
   "id": "347f520e",
   "metadata": {},
   "outputs": [],
   "source": [
    "print(a)"
   ]
  },
  {
   "cell_type": "code",
   "execution_count": null,
   "id": "f9dc764b",
   "metadata": {},
   "outputs": [],
   "source": [
    "a = '5' + 5"
   ]
  },
  {
   "cell_type": "code",
   "execution_count": null,
   "id": "d2527b33",
   "metadata": {},
   "outputs": [],
   "source": [
    "# Type conversion"
   ]
  },
  {
   "cell_type": "code",
   "execution_count": null,
   "id": "3c889797",
   "metadata": {},
   "outputs": [],
   "source": [
    "a = '5' + str(5)"
   ]
  },
  {
   "cell_type": "code",
   "execution_count": null,
   "id": "f4f60fbf",
   "metadata": {},
   "outputs": [],
   "source": [
    "print(a)"
   ]
  },
  {
   "cell_type": "code",
   "execution_count": null,
   "id": "93df1697",
   "metadata": {},
   "outputs": [],
   "source": [
    "a = int('5') + 5"
   ]
  },
  {
   "cell_type": "code",
   "execution_count": null,
   "id": "5a3d597e",
   "metadata": {},
   "outputs": [],
   "source": [
    "print(a)"
   ]
  },
  {
   "cell_type": "code",
   "execution_count": null,
   "id": "174a7440",
   "metadata": {},
   "outputs": [],
   "source": [
    "int('st')"
   ]
  },
  {
   "cell_type": "code",
   "execution_count": null,
   "id": "2a3224d7",
   "metadata": {},
   "outputs": [],
   "source": [
    "print(type(int('5')))"
   ]
  },
  {
   "cell_type": "code",
   "execution_count": null,
   "id": "afaa4214",
   "metadata": {},
   "outputs": [],
   "source": [
    "a = int('st')"
   ]
  },
  {
   "cell_type": "markdown",
   "id": "9486e90e",
   "metadata": {},
   "source": [
    "# Escape sequence"
   ]
  },
  {
   "cell_type": "code",
   "execution_count": null,
   "id": "86e4dc88",
   "metadata": {},
   "outputs": [],
   "source": [
    "word = \" Hello \" + \" World\""
   ]
  },
  {
   "cell_type": "code",
   "execution_count": null,
   "id": "035f1bb8",
   "metadata": {},
   "outputs": [],
   "source": [
    "print(word)"
   ]
  },
  {
   "cell_type": "code",
   "execution_count": null,
   "id": "90acf985",
   "metadata": {},
   "outputs": [],
   "source": [
    "word = \" Hello \\\" \""
   ]
  },
  {
   "cell_type": "code",
   "execution_count": null,
   "id": "cd5d1db3",
   "metadata": {},
   "outputs": [],
   "source": [
    "print(word)"
   ]
  },
  {
   "cell_type": "markdown",
   "id": "8aa92786",
   "metadata": {},
   "source": [
    "### \\t and \\n"
   ]
  },
  {
   "cell_type": "code",
   "execution_count": null,
   "id": "96294d6b",
   "metadata": {},
   "outputs": [],
   "source": []
  },
  {
   "cell_type": "markdown",
   "id": "b73f5354",
   "metadata": {},
   "source": [
    "# Formated String or f string"
   ]
  },
  {
   "cell_type": "code",
   "execution_count": null,
   "id": "9d7c77d8",
   "metadata": {},
   "outputs": [],
   "source": [
    "name = 'Dibyaranjan'\n",
    "village_name =\"Nilagiri\""
   ]
  },
  {
   "cell_type": "code",
   "execution_count": null,
   "id": "b9caefb6",
   "metadata": {},
   "outputs": [],
   "source": [
    "print(name)"
   ]
  },
  {
   "cell_type": "code",
   "execution_count": null,
   "id": "3fc648c2",
   "metadata": {},
   "outputs": [],
   "source": [
    "print(f'Hello my name is {name}and I am from {village_name}')"
   ]
  },
  {
   "cell_type": "code",
   "execution_count": null,
   "id": "ec51257b",
   "metadata": {},
   "outputs": [],
   "source": [
    "year = 2016\n",
    "event = 'Referendum'\n",
    "print(f'Results of the {year} {event}')"
   ]
  },
  {
   "cell_type": "code",
   "execution_count": null,
   "id": "262281bb",
   "metadata": {},
   "outputs": [],
   "source": [
    "print(f\"Hello my name is {name}\")"
   ]
  },
  {
   "cell_type": "code",
   "execution_count": null,
   "id": "bc25b62d",
   "metadata": {},
   "outputs": [],
   "source": [
    "print(f\"Hello my name is {name}\")"
   ]
  },
  {
   "cell_type": "code",
   "execution_count": null,
   "id": "139d6e5b",
   "metadata": {},
   "outputs": [],
   "source": []
  },
  {
   "cell_type": "code",
   "execution_count": null,
   "id": "3fabc66c",
   "metadata": {},
   "outputs": [],
   "source": [
    "# Another way"
   ]
  },
  {
   "cell_type": "code",
   "execution_count": null,
   "id": "2c6ec50c",
   "metadata": {},
   "outputs": [],
   "source": [
    "print(\"Hello my name is {}\".format(name))"
   ]
  },
  {
   "cell_type": "code",
   "execution_count": null,
   "id": "e4fad86c",
   "metadata": {},
   "outputs": [],
   "source": [
    "print(\"Hello my name is {0}\".format(name))"
   ]
  },
  {
   "cell_type": "markdown",
   "id": "43a9cc73",
   "metadata": {},
   "source": [
    "# Indexing or Slicing"
   ]
  },
  {
   "cell_type": "markdown",
   "id": "19ae5f07",
   "metadata": {},
   "source": [
    "[start:stop:sliceover]"
   ]
  },
  {
   "cell_type": "code",
   "execution_count": null,
   "id": "c61d4826",
   "metadata": {},
   "outputs": [],
   "source": [
    "name = 'Dibyaranjan'"
   ]
  },
  {
   "cell_type": "code",
   "execution_count": null,
   "id": "60872e29",
   "metadata": {},
   "outputs": [],
   "source": [
    "print(name)"
   ]
  },
  {
   "cell_type": "code",
   "execution_count": null,
   "id": "a48f1f79",
   "metadata": {},
   "outputs": [],
   "source": [
    "print(name[0])"
   ]
  },
  {
   "cell_type": "code",
   "execution_count": null,
   "id": "379fc2c6",
   "metadata": {},
   "outputs": [],
   "source": [
    "print(name[4])"
   ]
  },
  {
   "cell_type": "code",
   "execution_count": null,
   "id": "d246b700",
   "metadata": {},
   "outputs": [],
   "source": []
  },
  {
   "cell_type": "code",
   "execution_count": null,
   "id": "146fdd08",
   "metadata": {},
   "outputs": [],
   "source": [
    "print(name[10])"
   ]
  },
  {
   "cell_type": "code",
   "execution_count": null,
   "id": "0c55417a",
   "metadata": {},
   "outputs": [],
   "source": [
    "name[18]"
   ]
  },
  {
   "cell_type": "code",
   "execution_count": null,
   "id": "6ba2ca00",
   "metadata": {},
   "outputs": [],
   "source": [
    "print(name[1:2])"
   ]
  },
  {
   "cell_type": "code",
   "execution_count": null,
   "id": "4f0398a7",
   "metadata": {},
   "outputs": [],
   "source": [
    "print (name[1:3])"
   ]
  },
  {
   "cell_type": "code",
   "execution_count": null,
   "id": "472f10d9",
   "metadata": {},
   "outputs": [],
   "source": []
  },
  {
   "cell_type": "code",
   "execution_count": null,
   "id": "7767ddfe",
   "metadata": {},
   "outputs": [],
   "source": [
    "print(name[0:3])"
   ]
  },
  {
   "cell_type": "code",
   "execution_count": null,
   "id": "4928f28f",
   "metadata": {},
   "outputs": [],
   "source": [
    "print(name[0:11])"
   ]
  },
  {
   "cell_type": "code",
   "execution_count": null,
   "id": "2f813481",
   "metadata": {},
   "outputs": [],
   "source": [
    "print(name[0:8])"
   ]
  },
  {
   "cell_type": "code",
   "execution_count": null,
   "id": "e252f359",
   "metadata": {},
   "outputs": [],
   "source": [
    "print(name[0:8:1])"
   ]
  },
  {
   "cell_type": "code",
   "execution_count": null,
   "id": "557e41d4",
   "metadata": {},
   "outputs": [],
   "source": [
    "print(name[0:10:2])"
   ]
  },
  {
   "cell_type": "code",
   "execution_count": null,
   "id": "f55cb657",
   "metadata": {
    "scrolled": true
   },
   "outputs": [],
   "source": [
    "print(name[0:8:3])"
   ]
  },
  {
   "cell_type": "code",
   "execution_count": null,
   "id": "43c6c871",
   "metadata": {},
   "outputs": [],
   "source": [
    "name=\"Bhabani\""
   ]
  },
  {
   "cell_type": "code",
   "execution_count": null,
   "id": "61926f05",
   "metadata": {},
   "outputs": [],
   "source": [
    "print(name[0:5:2])"
   ]
  },
  {
   "cell_type": "code",
   "execution_count": null,
   "id": "065bcf5a",
   "metadata": {},
   "outputs": [],
   "source": []
  },
  {
   "cell_type": "code",
   "execution_count": null,
   "id": "b28f1766",
   "metadata": {},
   "outputs": [],
   "source": [
    "print(name[::1])"
   ]
  },
  {
   "cell_type": "code",
   "execution_count": null,
   "id": "b9703c5a",
   "metadata": {},
   "outputs": [],
   "source": [
    "print(name[::-1])"
   ]
  },
  {
   "cell_type": "code",
   "execution_count": null,
   "id": "f4f6b01c",
   "metadata": {},
   "outputs": [],
   "source": []
  },
  {
   "cell_type": "markdown",
   "id": "3098cf07",
   "metadata": {},
   "source": [
    "What you need to know ?"
   ]
  },
  {
   "cell_type": "code",
   "execution_count": null,
   "id": "34f495a4",
   "metadata": {},
   "outputs": [],
   "source": [
    "help(print)"
   ]
  },
  {
   "cell_type": "markdown",
   "id": "d81daf30",
   "metadata": {},
   "source": [
    "Python documentation\n",
    "https://docs.python.org/3/"
   ]
  },
  {
   "cell_type": "code",
   "execution_count": null,
   "id": "e432912a",
   "metadata": {},
   "outputs": [],
   "source": []
  },
  {
   "cell_type": "code",
   "execution_count": null,
   "id": "3eab6f72",
   "metadata": {},
   "outputs": [],
   "source": []
  },
  {
   "cell_type": "code",
   "execution_count": null,
   "id": "bfd694d9",
   "metadata": {},
   "outputs": [],
   "source": []
  },
  {
   "cell_type": "code",
   "execution_count": null,
   "id": "62f82acc",
   "metadata": {},
   "outputs": [],
   "source": []
  }
 ],
 "metadata": {
  "kernelspec": {
   "display_name": "Python 3",
   "language": "python",
   "name": "python3"
  },
  "language_info": {
   "codemirror_mode": {
    "name": "ipython",
    "version": 3
   },
   "file_extension": ".py",
   "mimetype": "text/x-python",
   "name": "python",
   "nbconvert_exporter": "python",
   "pygments_lexer": "ipython3",
   "version": "3.8.8"
  }
 },
 "nbformat": 4,
 "nbformat_minor": 5
}
